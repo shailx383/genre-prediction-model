{
 "cells": [
  {
   "cell_type": "code",
   "execution_count": 196,
   "metadata": {},
   "outputs": [],
   "source": [
    "import pandas as pd\n",
    "import numpy as np\n",
    "import pickle"
   ]
  },
  {
   "cell_type": "code",
   "execution_count": 197,
   "metadata": {},
   "outputs": [],
   "source": [
    "import sys\n",
    "\n",
    "if not sys.warnoptions:\n",
    "    import warnings\n",
    "    warnings.simplefilter(\"ignore\")"
   ]
  },
  {
   "cell_type": "code",
   "execution_count": 198,
   "metadata": {},
   "outputs": [],
   "source": [
    "import spotipy\n",
    "import spotipy.util as util\n",
    "\n",
    "import os\n",
    "os.environ['SPOTIPY_CLIENT_ID'] = \"6051b4896eda4feca0e0e28bed145907\"\n",
    "os.environ['SPOTIPY_CLIENT_SECRET'] = \"1d7c94e540d741758cc103db6e028a96\"\n",
    "os.environ['SPOTIPY_REDIRECT_URI'] = \"https://localhost:8080\"\n",
    "\n",
    "token = util.prompt_for_user_token(\"31zahq3gf5zm3oansaxx76hufvpm\")\n",
    "\n",
    "# AUTHENTICATION\n",
    "sp = spotipy.Spotify(auth=token)\n"
   ]
  },
  {
   "cell_type": "code",
   "execution_count": 199,
   "metadata": {},
   "outputs": [],
   "source": [
    "genre_prediction_model = pickle.load(open(\"model.dat\", 'rb'))"
   ]
  },
  {
   "cell_type": "code",
   "execution_count": 200,
   "metadata": {},
   "outputs": [],
   "source": [
    "key_map = {0: 'C',1: 'C#', 2: 'D',3: 'Eb',4: 'E',5: 'F',6: 'F#',7: 'G',8: 'Ab',9: 'A',10: 'Bb',11: 'B'}"
   ]
  },
  {
   "cell_type": "code",
   "execution_count": 201,
   "metadata": {},
   "outputs": [],
   "source": [
    "time_map = {0: 'time_sign_1',1: 'time_sign_3',2: 'time_sign_4',3: 'time_sign_5'}"
   ]
  },
  {
   "cell_type": "code",
   "execution_count": 202,
   "metadata": {},
   "outputs": [],
   "source": [
    "def get_key_dict(key):\n",
    "    d = {}\n",
    "    lst = np.eye(12).tolist()[key]\n",
    "    for i in range(len(lst)):\n",
    "        d[key_map[i]] = lst[i]\n",
    "    return d\n"
   ]
  },
  {
   "cell_type": "code",
   "execution_count": 203,
   "metadata": {},
   "outputs": [],
   "source": [
    "def transform_key_dict(feat):\n",
    "    key_dict = get_key_dict(feat[\"key\"])\n",
    "    feat.update(key_dict)\n",
    "    del feat['key']\n",
    "    del feat['B']\n",
    "    return feat\n"
   ]
  },
  {
   "cell_type": "code",
   "execution_count": 204,
   "metadata": {},
   "outputs": [],
   "source": [
    "def get_time_dict(time):\n",
    "    d = {}\n",
    "    lst = np.eye(4).tolist()[time]\n",
    "    for i in range(len(lst)):\n",
    "        d[time_map[i]] = lst[i]\n",
    "    return d"
   ]
  },
  {
   "cell_type": "code",
   "execution_count": 205,
   "metadata": {},
   "outputs": [],
   "source": [
    "def transform_time_dict(feat):\n",
    "    time_dict = get_time_dict(dict(map(reversed, time_map.items()))['time_sign_'+str(feat[\"time_signature\"])])\n",
    "    feat.update(time_dict)\n",
    "    del feat['time_signature']\n",
    "    return feat\n"
   ]
  },
  {
   "cell_type": "code",
   "execution_count": 206,
   "metadata": {},
   "outputs": [],
   "source": [
    "def get_features(song_url):\n",
    "    track = sp.track(song_url)\n",
    "    features = sp.audio_features([track[\"id\"]])[0]\n",
    "    features.pop('type')\n",
    "    features.pop('uri')\n",
    "    features.pop('track_href')\n",
    "    features.pop('analysis_url')\n",
    "    features.pop('id')\n",
    "    features = transform_key_dict(features)\n",
    "    features = transform_time_dict(features)\n",
    "    features['major'] = features['mode']\n",
    "    del features['mode']\n",
    "    return features\n"
   ]
  },
  {
   "cell_type": "code",
   "execution_count": 207,
   "metadata": {},
   "outputs": [],
   "source": [
    "genre_map = {\n",
    "    'ROCK': 0,\n",
    "    'POP': 1,\n",
    "    'LOFI': 2,\n",
    "    'CLASSICAL': 3,\n",
    "    'RAP': 4\n",
    "}"
   ]
  },
  {
   "cell_type": "markdown",
   "metadata": {},
   "source": [
    "## Prediction of genre of a track:"
   ]
  },
  {
   "cell_type": "code",
   "execution_count": 208,
   "metadata": {},
   "outputs": [],
   "source": [
    "def predict_genre(song_url, model):\n",
    "    data = pd.Series(get_features(song_url))\n",
    "    predict_x = model.predict([data])\n",
    "    inverted_dict = dict(map(reversed, genre_map.items()))\n",
    "    return inverted_dict[predict_x[0]], sp.track(song_url)['artists'][0]['name'], sp.track(song_url)['name']\n"
   ]
  },
  {
   "cell_type": "code",
   "execution_count": 209,
   "metadata": {},
   "outputs": [],
   "source": [
    "genre, artist, song = predict_genre(\"https://open.spotify.com/track/561jH07mF1jHuk7KlaeF0s?si=026c6b4b647448dc\", genre_prediction_model)"
   ]
  },
  {
   "cell_type": "code",
   "execution_count": 210,
   "metadata": {},
   "outputs": [
    {
     "name": "stdout",
     "output_type": "stream",
     "text": [
      "Song: Mockingbird \n",
      "Artist: Eminem \n",
      "Genre: RAP\n"
     ]
    }
   ],
   "source": [
    "print(\"Song:\", song, \"\\nArtist:\", artist, \"\\nGenre:\", genre)"
   ]
  },
  {
   "cell_type": "code",
   "execution_count": 211,
   "metadata": {},
   "outputs": [],
   "source": [
    "genre, artist, song = predict_genre(\"https://open.spotify.com/track/1DfGPEHxTYeaJpiNA4xUb5?si=a139e57efe88451d\", genre_prediction_model)"
   ]
  },
  {
   "cell_type": "code",
   "execution_count": 212,
   "metadata": {},
   "outputs": [
    {
     "name": "stdout",
     "output_type": "stream",
     "text": [
      "Song: Für Elise \n",
      "Artist: Ludwig van Beethoven \n",
      "Genre: CLASSICAL\n"
     ]
    }
   ],
   "source": [
    "print(\"Song:\", song, \"\\nArtist:\", artist, \"\\nGenre:\", genre)"
   ]
  },
  {
   "cell_type": "code",
   "execution_count": 213,
   "metadata": {},
   "outputs": [],
   "source": [
    "genre, artist, song = predict_genre(\"https://open.spotify.com/track/1u8c2t2Cy7UBoG4ArRcF5g?si=120021775ba341dd\", genre_prediction_model)"
   ]
  },
  {
   "cell_type": "code",
   "execution_count": 214,
   "metadata": {},
   "outputs": [
    {
     "name": "stdout",
     "output_type": "stream",
     "text": [
      "Song: Blank Space \n",
      "Artist: Taylor Swift \n",
      "Genre: POP\n"
     ]
    }
   ],
   "source": [
    "print(\"Song:\", song, \"\\nArtist:\", artist, \"\\nGenre:\", genre)"
   ]
  },
  {
   "cell_type": "code",
   "execution_count": 215,
   "metadata": {},
   "outputs": [],
   "source": [
    "genre, artist, song = predict_genre(\"https://open.spotify.com/track/18URo35acNKRTHfEdjTcGn?si=08691573a3214586\", genre_prediction_model)"
   ]
  },
  {
   "cell_type": "code",
   "execution_count": 216,
   "metadata": {},
   "outputs": [
    {
     "name": "stdout",
     "output_type": "stream",
     "text": [
      "Song: Photograph \n",
      "Artist: Def Leppard \n",
      "Genre: ROCK\n"
     ]
    }
   ],
   "source": [
    "print(\"Song:\", song, \"\\nArtist:\", artist, \"\\nGenre:\", genre)"
   ]
  },
  {
   "attachments": {},
   "cell_type": "markdown",
   "metadata": {},
   "source": [
    "## Finding major genre the artist makes music in:"
   ]
  },
  {
   "cell_type": "code",
   "execution_count": 217,
   "metadata": {},
   "outputs": [],
   "source": [
    "def artist_genre(artist_url, model):\n",
    "    genre_frequency = [0,0,0,0,0]\n",
    "    albums = sp.artist_albums(artist_url)[\"items\"]\n",
    "    artist = albums[0]['artists'][0]['name']\n",
    "    for album in albums:\n",
    "        tracks = sp.album_tracks(album[\"id\"])[\"items\"]\n",
    "        for track in tracks:\n",
    "            genre, x, y = predict_genre(track[\"id\"], model)\n",
    "            genre_frequency[genre_map[genre]] += 1\n",
    "    return artist, dict(map(reversed, genre_map.items()))[genre_frequency.index(max(genre_frequency))]"
   ]
  },
  {
   "cell_type": "code",
   "execution_count": 218,
   "metadata": {},
   "outputs": [
    {
     "name": "stdout",
     "output_type": "stream",
     "text": [
      "Artist: Lauv \n",
      "Genre: POP\n"
     ]
    }
   ],
   "source": [
    "artist, genre = artist_genre(\"https://open.spotify.com/artist/5JZ7CnR6gTvEMKX4g70Amv?si=dm7arc3QSICiTbUSFrgn2A\", genre_prediction_model)\n",
    "print('Artist:', artist, '\\nGenre:', genre)"
   ]
  },
  {
   "cell_type": "code",
   "execution_count": 219,
   "metadata": {},
   "outputs": [
    {
     "name": "stdout",
     "output_type": "stream",
     "text": [
      "Artist: LofiClub \n",
      "Genre: LOFI\n"
     ]
    }
   ],
   "source": [
    "artist, genre = artist_genre(\"https://open.spotify.com/artist/1iTPP9IvIq7CDNiSfjaSoh?si=1IymruUxSUukFDCDr34sHw\", genre_prediction_model)\n",
    "print('Artist:', artist, '\\nGenre:', genre)"
   ]
  }
 ],
 "metadata": {
  "kernelspec": {
   "display_name": "base",
   "language": "python",
   "name": "python3"
  },
  "language_info": {
   "codemirror_mode": {
    "name": "ipython",
    "version": 3
   },
   "file_extension": ".py",
   "mimetype": "text/x-python",
   "name": "python",
   "nbconvert_exporter": "python",
   "pygments_lexer": "ipython3",
   "version": "3.9.12 (main, Apr  4 2022, 05:22:27) [MSC v.1916 64 bit (AMD64)]"
  },
  "orig_nbformat": 4,
  "vscode": {
   "interpreter": {
    "hash": "c3b33d48af627876ac544114dd0fbe5a6124b6236eace591dad2ce23808c5c16"
   }
  }
 },
 "nbformat": 4,
 "nbformat_minor": 2
}
