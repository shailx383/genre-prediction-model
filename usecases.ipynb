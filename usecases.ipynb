{
 "cells": [
  {
   "cell_type": "code",
   "execution_count": 193,
   "metadata": {},
   "outputs": [],
   "source": [
    "import pandas as pd\n",
    "import numpy as np\n",
    "from sklearn.preprocessing import MinMaxScaler\n",
    "from tensorflow.keras.models import load_model"
   ]
  },
  {
   "cell_type": "code",
   "execution_count": 194,
   "metadata": {},
   "outputs": [],
   "source": [
    "import spotipy\n",
    "import spotipy.util as util\n",
    "\n",
    "import os\n",
    "os.environ['SPOTIPY_CLIENT_ID'] = \"6051b4896eda4feca0e0e28bed145907\"\n",
    "os.environ['SPOTIPY_CLIENT_SECRET'] = \"1d7c94e540d741758cc103db6e028a96\"\n",
    "os.environ['SPOTIPY_REDIRECT_URI'] = \"https://localhost:8080\"\n",
    "\n",
    "token = util.prompt_for_user_token(\"31zahq3gf5zm3oansaxx76hufvpm\")\n",
    "\n",
    "# AUTHENTICATION\n",
    "sp = spotipy.Spotify(auth=token)\n"
   ]
  },
  {
   "cell_type": "code",
   "execution_count": 195,
   "metadata": {},
   "outputs": [],
   "source": [
    "genre_prediction_model = load_model(\"saved_model\\\\final_model\")"
   ]
  },
  {
   "cell_type": "code",
   "execution_count": 196,
   "metadata": {},
   "outputs": [],
   "source": [
    "key_map = {0: 'C',1: 'C#', 2: 'D',3: 'Eb',4: 'E',5: 'F',6: 'F#',7: 'G',8: 'Ab',9: 'A',10: 'Bb',11: 'B'}"
   ]
  },
  {
   "cell_type": "code",
   "execution_count": 197,
   "metadata": {},
   "outputs": [],
   "source": [
    "def get_key_dict(key):\n",
    "    d = {}\n",
    "    lst = np.eye(12).tolist()[key]\n",
    "    for i in range(len(lst)):\n",
    "        d[key_map[i]] = lst[i]\n",
    "    return d\n"
   ]
  },
  {
   "cell_type": "code",
   "execution_count": 198,
   "metadata": {},
   "outputs": [],
   "source": [
    "def transform_key_dict(feat):\n",
    "    key_dict = get_key_dict(feat[\"key\"])\n",
    "    feat.update(key_dict)\n",
    "    del feat['key']\n",
    "    del feat['B']\n",
    "    return feat\n"
   ]
  },
  {
   "cell_type": "code",
   "execution_count": 199,
   "metadata": {},
   "outputs": [],
   "source": [
    "def get_features(song_url):\n",
    "    track = sp.track(song_url)\n",
    "    features = sp.audio_features([track[\"id\"]])[0]\n",
    "    features.pop('type')\n",
    "    features.pop('uri')\n",
    "    features.pop('track_href')\n",
    "    features.pop('analysis_url')\n",
    "    features.pop('id')\n",
    "    features.pop('liveness')\n",
    "    features = transform_key_dict(features)\n",
    "    features['major'] = features['mode']\n",
    "    del features['mode']\n",
    "    return features\n"
   ]
  },
  {
   "cell_type": "code",
   "execution_count": 200,
   "metadata": {},
   "outputs": [
    {
     "data": {
      "text/plain": [
       "MinMaxScaler()"
      ]
     },
     "execution_count": 200,
     "metadata": {},
     "output_type": "execute_result"
    }
   ],
   "source": [
    "genre_df = pd.read_csv('modified_genre_df.csv', sep = '\\t').drop([\"genre\", \"track_name\", \"artist\",\"Unnamed: 0\",\"Unnamed: 0.1\", \"liveness\"], axis=1)\n",
    "\n",
    "scaler = MinMaxScaler()\n",
    "\n",
    "scaler.fit(genre_df)\n"
   ]
  },
  {
   "cell_type": "code",
   "execution_count": 201,
   "metadata": {},
   "outputs": [],
   "source": [
    "genre_map = {\n",
    "    'ROCK': 0,\n",
    "    'POP': 1,\n",
    "    'LOFI': 2,\n",
    "    'CLASSICAL': 3,\n",
    "    'RAP': 4\n",
    "}"
   ]
  },
  {
   "cell_type": "markdown",
   "metadata": {},
   "source": [
    "## Prediction of genre of a track:"
   ]
  },
  {
   "cell_type": "code",
   "execution_count": 202,
   "metadata": {},
   "outputs": [],
   "source": [
    "def predict_genre(song_url, model):\n",
    "    data = pd.Series(get_features(song_url))\n",
    "    data = scaler.transform([data])\n",
    "    predict_x = model.predict(data, verbose=False)\n",
    "    classes_x = np.argmax(predict_x)\n",
    "    my_inverted_dict = dict(map(reversed, genre_map.items()))\n",
    "    return my_inverted_dict[classes_x], sp.track(song_url)['artists'][0]['name'], sp.track(song_url)['name']\n"
   ]
  },
  {
   "cell_type": "code",
   "execution_count": 229,
   "metadata": {},
   "outputs": [
    {
     "name": "stderr",
     "output_type": "stream",
     "text": [
      "C:\\Users\\shail\\anaconda3\\Lib\\site-packages\\sklearn\\base.py:450: UserWarning: X does not have valid feature names, but MinMaxScaler was fitted with feature names\n",
      "  warnings.warn(\n"
     ]
    }
   ],
   "source": [
    "genre, artist, song = predict_genre(\"https://open.spotify.com/track/2pscAWkm3jAxcrpBwOtQmS?si=f3c4c23f75d741fd\", genre_prediction_model)"
   ]
  },
  {
   "cell_type": "code",
   "execution_count": 230,
   "metadata": {},
   "outputs": [
    {
     "name": "stdout",
     "output_type": "stream",
     "text": [
      "Song: VISIONS \n",
      "Artist: VALORANT \n",
      "Genre: POP\n"
     ]
    }
   ],
   "source": [
    "print(\"Song:\", song, \"\\nArtist:\", artist, \"\\nGenre:\", genre)"
   ]
  }
 ],
 "metadata": {
  "kernelspec": {
   "display_name": "base",
   "language": "python",
   "name": "python3"
  },
  "language_info": {
   "codemirror_mode": {
    "name": "ipython",
    "version": 3
   },
   "file_extension": ".py",
   "mimetype": "text/x-python",
   "name": "python",
   "nbconvert_exporter": "python",
   "pygments_lexer": "ipython3",
   "version": "3.9.12"
  },
  "orig_nbformat": 4,
  "vscode": {
   "interpreter": {
    "hash": "c3b33d48af627876ac544114dd0fbe5a6124b6236eace591dad2ce23808c5c16"
   }
  }
 },
 "nbformat": 4,
 "nbformat_minor": 2
}
