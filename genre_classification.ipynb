{
 "cells": [
  {
   "attachments": {},
   "cell_type": "markdown",
   "metadata": {},
   "source": [
    "# PREDICTION OF MUSIC GENRE BASED ON SOUND FEATURES AND TRACK TITLES"
   ]
  },
  {
   "attachments": {},
   "cell_type": "markdown",
   "metadata": {},
   "source": [
    "### By Shailesh Rao "
   ]
  },
  {
   "cell_type": "code",
   "execution_count": 703,
   "metadata": {},
   "outputs": [],
   "source": [
    "from tensorflow.keras.callbacks import EarlyStopping\n",
    "from tensorflow.keras.layers import Dense, Flatten\n",
    "from tensorflow.keras.models import Sequential\n",
    "from sklearn.metrics import classification_report\n",
    "from sklearn.preprocessing import MinMaxScaler\n",
    "from sklearn.model_selection import train_test_split\n",
    "import pandas as pd\n",
    "import numpy as np\n",
    "import matplotlib.pyplot as plt\n",
    "import seaborn as sns\n",
    "import plotly.express as px\n",
    "%matplotlib inline\n"
   ]
  },
  {
   "attachments": {},
   "cell_type": "markdown",
   "metadata": {},
   "source": [
    "## Analysing the data"
   ]
  },
  {
   "cell_type": "code",
   "execution_count": 704,
   "metadata": {},
   "outputs": [],
   "source": [
    "genre_df = pd.read_csv(\"genre_df.csv\", sep='\\t')\n"
   ]
  },
  {
   "cell_type": "code",
   "execution_count": 705,
   "metadata": {},
   "outputs": [
    {
     "name": "stdout",
     "output_type": "stream",
     "text": [
      "<class 'pandas.core.frame.DataFrame'>\n",
      "RangeIndex: 1337 entries, 0 to 1336\n",
      "Data columns (total 17 columns):\n",
      " #   Column            Non-Null Count  Dtype  \n",
      "---  ------            --------------  -----  \n",
      " 0   Unnamed: 0        1337 non-null   int64  \n",
      " 1   danceability      1337 non-null   float64\n",
      " 2   energy            1337 non-null   float64\n",
      " 3   key               1337 non-null   int64  \n",
      " 4   loudness          1337 non-null   float64\n",
      " 5   mode              1337 non-null   int64  \n",
      " 6   speechiness       1337 non-null   float64\n",
      " 7   acousticness      1337 non-null   float64\n",
      " 8   instrumentalness  1337 non-null   float64\n",
      " 9   liveness          1337 non-null   float64\n",
      " 10  valence           1337 non-null   float64\n",
      " 11  tempo             1337 non-null   float64\n",
      " 12  duration_ms       1337 non-null   int64  \n",
      " 13  time_signature    1337 non-null   int64  \n",
      " 14  track_name        1337 non-null   object \n",
      " 15  artist            1337 non-null   object \n",
      " 16  genre             1337 non-null   object \n",
      "dtypes: float64(9), int64(5), object(3)\n",
      "memory usage: 177.7+ KB\n"
     ]
    }
   ],
   "source": [
    "genre_df.info()\n"
   ]
  },
  {
   "cell_type": "code",
   "execution_count": 706,
   "metadata": {},
   "outputs": [
    {
     "data": {
      "text/html": [
       "<div>\n",
       "<style scoped>\n",
       "    .dataframe tbody tr th:only-of-type {\n",
       "        vertical-align: middle;\n",
       "    }\n",
       "\n",
       "    .dataframe tbody tr th {\n",
       "        vertical-align: top;\n",
       "    }\n",
       "\n",
       "    .dataframe thead th {\n",
       "        text-align: right;\n",
       "    }\n",
       "</style>\n",
       "<table border=\"1\" class=\"dataframe\">\n",
       "  <thead>\n",
       "    <tr style=\"text-align: right;\">\n",
       "      <th></th>\n",
       "      <th>Unnamed: 0</th>\n",
       "      <th>danceability</th>\n",
       "      <th>energy</th>\n",
       "      <th>key</th>\n",
       "      <th>loudness</th>\n",
       "      <th>mode</th>\n",
       "      <th>speechiness</th>\n",
       "      <th>acousticness</th>\n",
       "      <th>instrumentalness</th>\n",
       "      <th>liveness</th>\n",
       "      <th>valence</th>\n",
       "      <th>tempo</th>\n",
       "      <th>duration_ms</th>\n",
       "      <th>time_signature</th>\n",
       "    </tr>\n",
       "  </thead>\n",
       "  <tbody>\n",
       "    <tr>\n",
       "      <th>count</th>\n",
       "      <td>1337.000000</td>\n",
       "      <td>1337.000000</td>\n",
       "      <td>1337.000000</td>\n",
       "      <td>1337.000000</td>\n",
       "      <td>1337.000000</td>\n",
       "      <td>1337.000000</td>\n",
       "      <td>1337.000000</td>\n",
       "      <td>1337.000000</td>\n",
       "      <td>1337.000000</td>\n",
       "      <td>1337.000000</td>\n",
       "      <td>1337.000000</td>\n",
       "      <td>1337.000000</td>\n",
       "      <td>1.337000e+03</td>\n",
       "      <td>1337.000000</td>\n",
       "    </tr>\n",
       "    <tr>\n",
       "      <th>mean</th>\n",
       "      <td>16.212416</td>\n",
       "      <td>0.572981</td>\n",
       "      <td>0.529001</td>\n",
       "      <td>4.948392</td>\n",
       "      <td>-11.285420</td>\n",
       "      <td>0.669409</td>\n",
       "      <td>0.118479</td>\n",
       "      <td>0.392322</td>\n",
       "      <td>0.323511</td>\n",
       "      <td>0.219546</td>\n",
       "      <td>0.454536</td>\n",
       "      <td>117.923011</td>\n",
       "      <td>2.036005e+05</td>\n",
       "      <td>3.898280</td>\n",
       "    </tr>\n",
       "    <tr>\n",
       "      <th>std</th>\n",
       "      <td>16.884330</td>\n",
       "      <td>0.176373</td>\n",
       "      <td>0.302064</td>\n",
       "      <td>3.664386</td>\n",
       "      <td>8.209184</td>\n",
       "      <td>0.470602</td>\n",
       "      <td>0.121652</td>\n",
       "      <td>0.399129</td>\n",
       "      <td>0.406324</td>\n",
       "      <td>0.216636</td>\n",
       "      <td>0.235372</td>\n",
       "      <td>30.350770</td>\n",
       "      <td>1.050980e+05</td>\n",
       "      <td>0.477147</td>\n",
       "    </tr>\n",
       "    <tr>\n",
       "      <th>min</th>\n",
       "      <td>0.000000</td>\n",
       "      <td>0.074200</td>\n",
       "      <td>0.001950</td>\n",
       "      <td>0.000000</td>\n",
       "      <td>-42.892000</td>\n",
       "      <td>0.000000</td>\n",
       "      <td>0.024600</td>\n",
       "      <td>0.000002</td>\n",
       "      <td>0.000000</td>\n",
       "      <td>0.022300</td>\n",
       "      <td>0.035900</td>\n",
       "      <td>47.139000</td>\n",
       "      <td>1.516000e+04</td>\n",
       "      <td>1.000000</td>\n",
       "    </tr>\n",
       "    <tr>\n",
       "      <th>25%</th>\n",
       "      <td>5.000000</td>\n",
       "      <td>0.442000</td>\n",
       "      <td>0.241000</td>\n",
       "      <td>1.000000</td>\n",
       "      <td>-16.768000</td>\n",
       "      <td>0.000000</td>\n",
       "      <td>0.041600</td>\n",
       "      <td>0.021600</td>\n",
       "      <td>0.000000</td>\n",
       "      <td>0.098600</td>\n",
       "      <td>0.262000</td>\n",
       "      <td>92.926000</td>\n",
       "      <td>1.317620e+05</td>\n",
       "      <td>4.000000</td>\n",
       "    </tr>\n",
       "    <tr>\n",
       "      <th>50%</th>\n",
       "      <td>11.000000</td>\n",
       "      <td>0.580000</td>\n",
       "      <td>0.575000</td>\n",
       "      <td>5.000000</td>\n",
       "      <td>-7.765000</td>\n",
       "      <td>1.000000</td>\n",
       "      <td>0.061700</td>\n",
       "      <td>0.193000</td>\n",
       "      <td>0.007570</td>\n",
       "      <td>0.128000</td>\n",
       "      <td>0.443000</td>\n",
       "      <td>118.352000</td>\n",
       "      <td>2.033670e+05</td>\n",
       "      <td>4.000000</td>\n",
       "    </tr>\n",
       "    <tr>\n",
       "      <th>75%</th>\n",
       "      <td>22.000000</td>\n",
       "      <td>0.720000</td>\n",
       "      <td>0.795000</td>\n",
       "      <td>8.000000</td>\n",
       "      <td>-5.096000</td>\n",
       "      <td>1.000000</td>\n",
       "      <td>0.149000</td>\n",
       "      <td>0.865000</td>\n",
       "      <td>0.853000</td>\n",
       "      <td>0.246000</td>\n",
       "      <td>0.623000</td>\n",
       "      <td>138.668000</td>\n",
       "      <td>2.523600e+05</td>\n",
       "      <td>4.000000</td>\n",
       "    </tr>\n",
       "    <tr>\n",
       "      <th>max</th>\n",
       "      <td>99.000000</td>\n",
       "      <td>0.964000</td>\n",
       "      <td>0.995000</td>\n",
       "      <td>11.000000</td>\n",
       "      <td>-1.192000</td>\n",
       "      <td>1.000000</td>\n",
       "      <td>0.912000</td>\n",
       "      <td>0.996000</td>\n",
       "      <td>0.992000</td>\n",
       "      <td>0.994000</td>\n",
       "      <td>0.971000</td>\n",
       "      <td>211.092000</td>\n",
       "      <td>1.233917e+06</td>\n",
       "      <td>5.000000</td>\n",
       "    </tr>\n",
       "  </tbody>\n",
       "</table>\n",
       "</div>"
      ],
      "text/plain": [
       "        Unnamed: 0  danceability       energy          key     loudness  \\\n",
       "count  1337.000000   1337.000000  1337.000000  1337.000000  1337.000000   \n",
       "mean     16.212416      0.572981     0.529001     4.948392   -11.285420   \n",
       "std      16.884330      0.176373     0.302064     3.664386     8.209184   \n",
       "min       0.000000      0.074200     0.001950     0.000000   -42.892000   \n",
       "25%       5.000000      0.442000     0.241000     1.000000   -16.768000   \n",
       "50%      11.000000      0.580000     0.575000     5.000000    -7.765000   \n",
       "75%      22.000000      0.720000     0.795000     8.000000    -5.096000   \n",
       "max      99.000000      0.964000     0.995000    11.000000    -1.192000   \n",
       "\n",
       "              mode  speechiness  acousticness  instrumentalness     liveness  \\\n",
       "count  1337.000000  1337.000000   1337.000000       1337.000000  1337.000000   \n",
       "mean      0.669409     0.118479      0.392322          0.323511     0.219546   \n",
       "std       0.470602     0.121652      0.399129          0.406324     0.216636   \n",
       "min       0.000000     0.024600      0.000002          0.000000     0.022300   \n",
       "25%       0.000000     0.041600      0.021600          0.000000     0.098600   \n",
       "50%       1.000000     0.061700      0.193000          0.007570     0.128000   \n",
       "75%       1.000000     0.149000      0.865000          0.853000     0.246000   \n",
       "max       1.000000     0.912000      0.996000          0.992000     0.994000   \n",
       "\n",
       "           valence        tempo   duration_ms  time_signature  \n",
       "count  1337.000000  1337.000000  1.337000e+03     1337.000000  \n",
       "mean      0.454536   117.923011  2.036005e+05        3.898280  \n",
       "std       0.235372    30.350770  1.050980e+05        0.477147  \n",
       "min       0.035900    47.139000  1.516000e+04        1.000000  \n",
       "25%       0.262000    92.926000  1.317620e+05        4.000000  \n",
       "50%       0.443000   118.352000  2.033670e+05        4.000000  \n",
       "75%       0.623000   138.668000  2.523600e+05        4.000000  \n",
       "max       0.971000   211.092000  1.233917e+06        5.000000  "
      ]
     },
     "execution_count": 706,
     "metadata": {},
     "output_type": "execute_result"
    }
   ],
   "source": [
    "genre_df.describe()\n"
   ]
  },
  {
   "attachments": {},
   "cell_type": "markdown",
   "metadata": {},
   "source": [
    "### Exploration of numeric features based on genre:"
   ]
  },
  {
   "attachments": {},
   "cell_type": "markdown",
   "metadata": {},
   "source": [
    "#### danceability"
   ]
  },
  {
   "cell_type": "code",
   "execution_count": 707,
   "metadata": {},
   "outputs": [
    {
     "data": {
      "text/plain": [
       "<AxesSubplot:xlabel='genre', ylabel='danceability'>"
      ]
     },
     "execution_count": 707,
     "metadata": {},
     "output_type": "execute_result"
    },
    {
     "data": {
      "image/png": "[encoded data removed]",
      "text/plain": [
       "<Figure size 432x288 with 1 Axes>"
      ]
     },
     "metadata": {
      "needs_background": "light"
     },
     "output_type": "display_data"
    }
   ],
   "source": [
    "sns.boxplot(x=genre_df['genre'], y=genre_df['danceability'])\n"
   ]
  },
  {
   "attachments": {},
   "cell_type": "markdown",
   "metadata": {},
   "source": [
    "High danceability for rap, pop, and low for classical"
   ]
  },
  {
   "attachments": {},
   "cell_type": "markdown",
   "metadata": {},
   "source": [
    "#### energy"
   ]
  },
  {
   "cell_type": "code",
   "execution_count": 708,
   "metadata": {},
   "outputs": [
    {
     "data": {
      "text/plain": [
       "<AxesSubplot:xlabel='genre', ylabel='energy'>"
      ]
     },
     "execution_count": 708,
     "metadata": {},
     "output_type": "execute_result"
    },
    {
     "data": {
      "image/png": "[encoded data removed]",
      "text/plain": [
       "<Figure size 432x288 with 1 Axes>"
      ]
     },
     "metadata": {
      "needs_background": "light"
     },
     "output_type": "display_data"
    }
   ],
   "source": [
    "sns.boxplot(x=genre_df['genre'], y=genre_df['energy'])\n"
   ]
  },
  {
   "attachments": {},
   "cell_type": "markdown",
   "metadata": {},
   "source": [
    "lowest energy for classical music and lofi, very high for rock"
   ]
  },
  {
   "attachments": {},
   "cell_type": "markdown",
   "metadata": {},
   "source": [
    "#### loudness"
   ]
  },
  {
   "cell_type": "code",
   "execution_count": 709,
   "metadata": {},
   "outputs": [
    {
     "data": {
      "text/plain": [
       "<AxesSubplot:xlabel='genre', ylabel='loudness'>"
      ]
     },
     "execution_count": 709,
     "metadata": {},
     "output_type": "execute_result"
    },
    {
     "data": {
      "image/png": "[encoded data removed]",
      "text/plain": [
       "<Figure size 432x288 with 1 Axes>"
      ]
     },
     "metadata": {
      "needs_background": "light"
     },
     "output_type": "display_data"
    }
   ],
   "source": [
    "sns.boxplot(x=genre_df['genre'], y=genre_df['loudness'])\n"
   ]
  },
  {
   "attachments": {},
   "cell_type": "markdown",
   "metadata": {},
   "source": [
    "low loudness for classical and lofi, higher for pop, rap and rock"
   ]
  },
  {
   "attachments": {},
   "cell_type": "markdown",
   "metadata": {},
   "source": [
    "#### speechiness"
   ]
  },
  {
   "cell_type": "code",
   "execution_count": 710,
   "metadata": {},
   "outputs": [
    {
     "data": {
      "text/plain": [
       "<AxesSubplot:xlabel='genre', ylabel='speechiness'>"
      ]
     },
     "execution_count": 710,
     "metadata": {},
     "output_type": "execute_result"
    },
    {
     "data": {
      "image/png": "[encoded data removed]",
      "text/plain": [
       "<Figure size 432x288 with 1 Axes>"
      ]
     },
     "metadata": {
      "needs_background": "light"
     },
     "output_type": "display_data"
    }
   ],
   "source": [
    "sns.boxplot(x=genre_df['genre'], y=genre_df['speechiness'])\n"
   ]
  },
  {
   "attachments": {},
   "cell_type": "markdown",
   "metadata": {},
   "source": [
    "high speechiness for rap because of more lyrics "
   ]
  },
  {
   "attachments": {},
   "cell_type": "markdown",
   "metadata": {},
   "source": [
    "#### acousticness"
   ]
  },
  {
   "cell_type": "code",
   "execution_count": 711,
   "metadata": {},
   "outputs": [
    {
     "data": {
      "text/plain": [
       "<AxesSubplot:xlabel='genre', ylabel='acousticness'>"
      ]
     },
     "execution_count": 711,
     "metadata": {},
     "output_type": "execute_result"
    },
    {
     "data": {
      "image/png": "[encoded data removed]",
      "text/plain": [
       "<Figure size 432x288 with 1 Axes>"
      ]
     },
     "metadata": {
      "needs_background": "light"
     },
     "output_type": "display_data"
    }
   ],
   "source": [
    "sns.boxplot(x=genre_df['genre'], y=genre_df['acousticness'])\n"
   ]
  },
  {
   "attachments": {},
   "cell_type": "markdown",
   "metadata": {},
   "source": [
    "classical has highest acousticness, rock has extremely low acousticness because of electric guitar, heavy drums"
   ]
  },
  {
   "attachments": {},
   "cell_type": "markdown",
   "metadata": {},
   "source": [
    "#### instrumentalness"
   ]
  },
  {
   "cell_type": "code",
   "execution_count": 712,
   "metadata": {},
   "outputs": [
    {
     "data": {
      "text/plain": [
       "<AxesSubplot:xlabel='genre', ylabel='instrumentalness'>"
      ]
     },
     "execution_count": 712,
     "metadata": {},
     "output_type": "execute_result"
    },
    {
     "data": {
      "image/png": "[encoded data removed]",
      "text/plain": [
       "<Figure size 432x288 with 1 Axes>"
      ]
     },
     "metadata": {
      "needs_background": "light"
     },
     "output_type": "display_data"
    }
   ],
   "source": [
    "sns.boxplot(x=genre_df['genre'], y=genre_df['instrumentalness'])\n"
   ]
  },
  {
   "attachments": {},
   "cell_type": "markdown",
   "metadata": {},
   "source": [
    "classical and lofi are purely instrumental, hence have higher instrumentalness"
   ]
  },
  {
   "attachments": {},
   "cell_type": "markdown",
   "metadata": {},
   "source": [
    "#### liveness"
   ]
  },
  {
   "cell_type": "code",
   "execution_count": 713,
   "metadata": {},
   "outputs": [
    {
     "data": {
      "text/plain": [
       "<AxesSubplot:xlabel='genre', ylabel='liveness'>"
      ]
     },
     "execution_count": 713,
     "metadata": {},
     "output_type": "execute_result"
    },
    {
     "data": {
      "image/png": "[encoded data removed]",
      "text/plain": [
       "<Figure size 432x288 with 1 Axes>"
      ]
     },
     "metadata": {
      "needs_background": "light"
     },
     "output_type": "display_data"
    }
   ],
   "source": [
    "sns.boxplot(x=genre_df['genre'], y=genre_df['liveness'])\n"
   ]
  },
  {
   "attachments": {},
   "cell_type": "markdown",
   "metadata": {},
   "source": [
    "not much variation in data, can drop column"
   ]
  },
  {
   "attachments": {},
   "cell_type": "markdown",
   "metadata": {},
   "source": [
    "### valence"
   ]
  },
  {
   "cell_type": "code",
   "execution_count": 714,
   "metadata": {},
   "outputs": [
    {
     "data": {
      "text/plain": [
       "<AxesSubplot:xlabel='genre', ylabel='valence'>"
      ]
     },
     "execution_count": 714,
     "metadata": {},
     "output_type": "execute_result"
    },
    {
     "data": {
      "image/png": "[encoded data removed]",
      "text/plain": [
       "<Figure size 432x288 with 1 Axes>"
      ]
     },
     "metadata": {
      "needs_background": "light"
     },
     "output_type": "display_data"
    }
   ],
   "source": [
    "sns.boxplot(x=genre_df['genre'], y=genre_df['valence'])\n"
   ]
  },
  {
   "attachments": {},
   "cell_type": "markdown",
   "metadata": {},
   "source": [
    "#### tempo"
   ]
  },
  {
   "cell_type": "code",
   "execution_count": 715,
   "metadata": {},
   "outputs": [
    {
     "data": {
      "text/plain": [
       "<AxesSubplot:xlabel='genre', ylabel='tempo'>"
      ]
     },
     "execution_count": 715,
     "metadata": {},
     "output_type": "execute_result"
    },
    {
     "data": {
      "image/png": "[encoded data removed]",
      "text/plain": [
       "<Figure size 432x288 with 1 Axes>"
      ]
     },
     "metadata": {
      "needs_background": "light"
     },
     "output_type": "display_data"
    }
   ],
   "source": [
    "sns.boxplot(x=genre_df['genre'], y=genre_df['tempo'])\n"
   ]
  },
  {
   "attachments": {},
   "cell_type": "markdown",
   "metadata": {},
   "source": [
    "lofi music has low average tempo, while rap has higher average tempo"
   ]
  },
  {
   "attachments": {},
   "cell_type": "markdown",
   "metadata": {},
   "source": [
    "#### duration"
   ]
  },
  {
   "cell_type": "code",
   "execution_count": 716,
   "metadata": {},
   "outputs": [
    {
     "data": {
      "text/plain": [
       "<AxesSubplot:xlabel='genre', ylabel='duration_ms'>"
      ]
     },
     "execution_count": 716,
     "metadata": {},
     "output_type": "execute_result"
    },
    {
     "data": {
      "image/png": "[encoded data removed]",
      "text/plain": [
       "<Figure size 432x288 with 1 Axes>"
      ]
     },
     "metadata": {
      "needs_background": "light"
     },
     "output_type": "display_data"
    }
   ],
   "source": [
    "sns.boxplot(x=genre_df['genre'], y=genre_df['duration_ms'])\n"
   ]
  },
  {
   "attachments": {},
   "cell_type": "markdown",
   "metadata": {},
   "source": [
    "classical music has wide range of durations"
   ]
  },
  {
   "attachments": {},
   "cell_type": "markdown",
   "metadata": {},
   "source": [
    "### Categorical columns"
   ]
  },
  {
   "attachments": {},
   "cell_type": "markdown",
   "metadata": {},
   "source": [
    "#### key"
   ]
  },
  {
   "cell_type": "code",
   "execution_count": 717,
   "metadata": {},
   "outputs": [],
   "source": [
    "key_map = {0: 'C',\n",
    "           1: 'C#',\n",
    "           2: 'D',\n",
    "           3: 'Eb',\n",
    "           4: 'E',\n",
    "           5: 'F',\n",
    "           6: 'F#',\n",
    "           7: 'G',\n",
    "           8: 'Ab',\n",
    "           9: 'A',\n",
    "           10: 'Bb',\n",
    "           11: 'B'}\n",
    "genre_df[\"key\"] = genre_df[\"key\"].map(key_map)\n",
    "key = pd.get_dummies(genre_df['key'])\n",
    "genre_df = pd.concat([genre_df, key], axis=1)\n",
    "genre_df.drop('key', axis=1, inplace=True)\n",
    "\n",
    "\n",
    "key_df = pd.pivot_table(genre_df,\n",
    "                        values=['C', 'C#', 'D', 'Eb', 'E', 'F',\n",
    "                                'F#', 'G', 'Ab', 'A', 'Bb', 'B'],\n",
    "                        index='genre',\n",
    "                        aggfunc={\"C\": np.sum,\n",
    "                                 \"C#\": np.sum,\n",
    "                                 \"D\": np.sum,\n",
    "                                 \"Eb\": np.sum,\n",
    "                                 \"E\": np.sum,\n",
    "                                 \"F\": np.sum,\n",
    "                                 \"F#\": np.sum,\n",
    "                                 \"G\": np.sum,\n",
    "                                 \"Ab\": np.sum,\n",
    "                                 \"A\": np.sum,\n",
    "                                 \"Bb\": np.sum,\n",
    "                                 \"B\": np.sum})\n"
   ]
  },
  {
   "cell_type": "code",
   "execution_count": 718,
   "metadata": {},
   "outputs": [
    {
     "data": {
      "text/plain": [
       "[]"
      ]
     },
     "execution_count": 718,
     "metadata": {},
     "output_type": "execute_result"
    },
    {
     "data": {
      "image/png": "[encoded data removed]",
      "text/plain": [
       "<Figure size 432x288 with 1 Axes>"
      ]
     },
     "metadata": {
      "needs_background": "light"
     },
     "output_type": "display_data"
    }
   ],
   "source": [
    "ax = key_df.plot.bar(stacked=True)\n",
    "ax.set_title(\"genre vs key\", color='black')\n",
    "ax.legend(bbox_to_anchor=(1.0, 1.0))\n",
    "ax.plot()\n"
   ]
  },
  {
   "attachments": {},
   "cell_type": "markdown",
   "metadata": {},
   "source": [
    "proportion of each key for a particular genre"
   ]
  },
  {
   "cell_type": "code",
   "execution_count": 719,
   "metadata": {},
   "outputs": [],
   "source": [
    "genre_df.drop('B', axis=1, inplace=True)\n"
   ]
  },
  {
   "attachments": {},
   "cell_type": "markdown",
   "metadata": {},
   "source": [
    "#### mode"
   ]
  },
  {
   "cell_type": "code",
   "execution_count": 720,
   "metadata": {},
   "outputs": [],
   "source": [
    "mode_map = {0: 'minor', 1: 'major'}\n",
    "genre_df[\"mode\"] = genre_df[\"mode\"].map(mode_map)\n",
    "mode = pd.get_dummies(genre_df['mode'])\n",
    "genre_df = pd.concat([genre_df, mode], axis=1)\n",
    "genre_df.drop('mode', axis=1, inplace=True)\n",
    "\n",
    "\n",
    "mode_df = pd.pivot_table(genre_df,\n",
    "                         values=['minor', 'major'],\n",
    "                         index='genre',\n",
    "                         aggfunc={\"minor\": np.sum, \"major\": np.sum})\n"
   ]
  },
  {
   "cell_type": "code",
   "execution_count": 721,
   "metadata": {},
   "outputs": [
    {
     "data": {
      "text/plain": [
       "[]"
      ]
     },
     "execution_count": 721,
     "metadata": {},
     "output_type": "execute_result"
    },
    {
     "data": {
      "image/png": "[encoded data removed]",
      "text/plain": [
       "<Figure size 432x288 with 1 Axes>"
      ]
     },
     "metadata": {
      "needs_background": "light"
     },
     "output_type": "display_data"
    }
   ],
   "source": [
    "ax = mode_df.plot.bar(stacked=True)\n",
    "ax.set_title(\"genre vs mode\", color='black')\n",
    "ax.legend(bbox_to_anchor=(1.0, 1.0))\n",
    "ax.plot()\n"
   ]
  },
  {
   "cell_type": "code",
   "execution_count": 722,
   "metadata": {},
   "outputs": [],
   "source": [
    "genre_df.drop('minor', axis=1, inplace=True)\n"
   ]
  },
  {
   "attachments": {},
   "cell_type": "markdown",
   "metadata": {},
   "source": [
    "#### genre"
   ]
  },
  {
   "cell_type": "code",
   "execution_count": 723,
   "metadata": {},
   "outputs": [
    {
     "data": {
      "text/plain": [
       "RAP          310\n",
       "ROCK         269\n",
       "POP          263\n",
       "CLASSICAL    253\n",
       "LOFI         242\n",
       "Name: genre, dtype: int64"
      ]
     },
     "execution_count": 723,
     "metadata": {},
     "output_type": "execute_result"
    }
   ],
   "source": [
    "genre_df[\"genre\"].value_counts()\n"
   ]
  },
  {
   "cell_type": "code",
   "execution_count": 724,
   "metadata": {},
   "outputs": [],
   "source": [
    "genre_map = {\n",
    "    'ROCK': 0,\n",
    "    'POP': 1,\n",
    "    'LOFI': 2,\n",
    "    'CLASSICAL': 3,\n",
    "    'RAP': 4\n",
    "}\n",
    "\n",
    "genre_df[\"genre\"] = genre_df[\"genre\"].map(genre_map)\n"
   ]
  },
  {
   "cell_type": "code",
   "execution_count": 725,
   "metadata": {},
   "outputs": [],
   "source": [
    "genre_df.to_csv(\"modified_genre_df.csv\", sep = '\\t')"
   ]
  },
  {
   "attachments": {},
   "cell_type": "markdown",
   "metadata": {},
   "source": [
    "## Training the model"
   ]
  },
  {
   "cell_type": "code",
   "execution_count": 726,
   "metadata": {},
   "outputs": [],
   "source": [
    "X = genre_df.drop([\"genre\", \"track_name\", \"artist\",\n",
    "                  \"Unnamed: 0\", \"liveness\"], axis=1)\n",
    "y = genre_df[\"genre\"].values\n"
   ]
  },
  {
   "cell_type": "code",
   "execution_count": 727,
   "metadata": {},
   "outputs": [],
   "source": [
    "X_train, X_test, y_train, y_test = train_test_split(X, y, test_size=0.25)\n"
   ]
  },
  {
   "cell_type": "code",
   "execution_count": 728,
   "metadata": {},
   "outputs": [],
   "source": [
    "scaler = MinMaxScaler()\n",
    "X_train = scaler.fit_transform(X_train)\n",
    "X_test = scaler.transform(X_test)\n"
   ]
  },
  {
   "cell_type": "code",
   "execution_count": 729,
   "metadata": {},
   "outputs": [],
   "source": [
    "genre_prediction_model = Sequential()\n"
   ]
  },
  {
   "cell_type": "code",
   "execution_count": 730,
   "metadata": {},
   "outputs": [
    {
     "data": {
      "text/plain": [
       "(1002, 22)"
      ]
     },
     "execution_count": 730,
     "metadata": {},
     "output_type": "execute_result"
    }
   ],
   "source": [
    "X_train.shape\n"
   ]
  },
  {
   "cell_type": "code",
   "execution_count": 731,
   "metadata": {},
   "outputs": [],
   "source": [
    "genre_prediction_model.add(Flatten())\n",
    "\n",
    "genre_prediction_model.add(Dense(22, activation='relu'))\n",
    "\n",
    "genre_prediction_model.add(Dense(5, activation='sigmoid'))\n",
    "\n",
    "genre_prediction_model.compile(\n",
    "    loss='sparse_categorical_crossentropy', optimizer='adam', metrics=['accuracy'])\n"
   ]
  },
  {
   "cell_type": "code",
   "execution_count": 732,
   "metadata": {},
   "outputs": [],
   "source": [
    "early_stop = EarlyStopping(\n",
    "    monitor='val_loss', mode='min', verbose=1, patience=25)\n"
   ]
  },
  {
   "cell_type": "code",
   "execution_count": 733,
   "metadata": {},
   "outputs": [
    {
     "name": "stdout",
     "output_type": "stream",
     "text": [
      "Epoch 1/800\n",
      "32/32 [==============================] - 1s 11ms/step - loss: 1.6636 - accuracy: 0.2226 - val_loss: 1.5920 - val_accuracy: 0.2448\n",
      "Epoch 2/800\n",
      "32/32 [==============================] - 0s 2ms/step - loss: 1.5274 - accuracy: 0.3503 - val_loss: 1.4714 - val_accuracy: 0.4299\n",
      "Epoch 3/800\n",
      "32/32 [==============================] - 0s 2ms/step - loss: 1.4159 - accuracy: 0.4691 - val_loss: 1.3669 - val_accuracy: 0.5075\n",
      "Epoch 4/800\n",
      "32/32 [==============================] - 0s 2ms/step - loss: 1.3191 - accuracy: 0.5200 - val_loss: 1.2758 - val_accuracy: 0.5224\n",
      "Epoch 5/800\n",
      "32/32 [==============================] - 0s 2ms/step - loss: 1.2315 - accuracy: 0.5369 - val_loss: 1.1962 - val_accuracy: 0.5343\n",
      "Epoch 6/800\n",
      "32/32 [==============================] - 0s 2ms/step - loss: 1.1552 - accuracy: 0.5549 - val_loss: 1.1290 - val_accuracy: 0.5522\n",
      "Epoch 7/800\n",
      "32/32 [==============================] - 0s 2ms/step - loss: 1.0868 - accuracy: 0.5828 - val_loss: 1.0660 - val_accuracy: 0.6030\n",
      "Epoch 8/800\n",
      "32/32 [==============================] - 0s 2ms/step - loss: 1.0267 - accuracy: 0.6078 - val_loss: 1.0150 - val_accuracy: 0.6179\n",
      "Epoch 9/800\n",
      "32/32 [==============================] - 0s 2ms/step - loss: 0.9717 - accuracy: 0.6168 - val_loss: 0.9658 - val_accuracy: 0.6418\n",
      "Epoch 10/800\n",
      "32/32 [==============================] - 0s 2ms/step - loss: 0.9223 - accuracy: 0.6517 - val_loss: 0.9226 - val_accuracy: 0.6567\n",
      "Epoch 11/800\n",
      "32/32 [==============================] - 0s 2ms/step - loss: 0.8809 - accuracy: 0.6657 - val_loss: 0.8844 - val_accuracy: 0.6687\n",
      "Epoch 12/800\n",
      "32/32 [==============================] - 0s 2ms/step - loss: 0.8438 - accuracy: 0.6916 - val_loss: 0.8535 - val_accuracy: 0.6806\n",
      "Epoch 13/800\n",
      "32/32 [==============================] - 0s 2ms/step - loss: 0.8129 - accuracy: 0.7196 - val_loss: 0.8268 - val_accuracy: 0.6806\n",
      "Epoch 14/800\n",
      "32/32 [==============================] - 0s 2ms/step - loss: 0.7864 - accuracy: 0.7126 - val_loss: 0.8005 - val_accuracy: 0.6866\n",
      "Epoch 15/800\n",
      "32/32 [==============================] - 0s 2ms/step - loss: 0.7578 - accuracy: 0.7236 - val_loss: 0.7742 - val_accuracy: 0.7254\n",
      "Epoch 16/800\n",
      "32/32 [==============================] - 0s 2ms/step - loss: 0.7334 - accuracy: 0.7695 - val_loss: 0.7574 - val_accuracy: 0.7104\n",
      "Epoch 17/800\n",
      "32/32 [==============================] - 0s 2ms/step - loss: 0.7093 - accuracy: 0.7445 - val_loss: 0.7319 - val_accuracy: 0.7403\n",
      "Epoch 18/800\n",
      "32/32 [==============================] - 0s 2ms/step - loss: 0.6892 - accuracy: 0.7814 - val_loss: 0.7176 - val_accuracy: 0.7493\n",
      "Epoch 19/800\n",
      "32/32 [==============================] - 0s 2ms/step - loss: 0.6673 - accuracy: 0.7854 - val_loss: 0.6981 - val_accuracy: 0.7881\n",
      "Epoch 20/800\n",
      "32/32 [==============================] - 0s 2ms/step - loss: 0.6492 - accuracy: 0.7874 - val_loss: 0.6846 - val_accuracy: 0.7642\n",
      "Epoch 21/800\n",
      "32/32 [==============================] - 0s 2ms/step - loss: 0.6330 - accuracy: 0.8014 - val_loss: 0.6673 - val_accuracy: 0.7970\n",
      "Epoch 22/800\n",
      "32/32 [==============================] - 0s 2ms/step - loss: 0.6171 - accuracy: 0.7964 - val_loss: 0.6532 - val_accuracy: 0.8030\n",
      "Epoch 23/800\n",
      "32/32 [==============================] - 0s 2ms/step - loss: 0.6021 - accuracy: 0.8094 - val_loss: 0.6415 - val_accuracy: 0.8030\n",
      "Epoch 24/800\n",
      "32/32 [==============================] - 0s 2ms/step - loss: 0.5882 - accuracy: 0.8164 - val_loss: 0.6320 - val_accuracy: 0.8060\n",
      "Epoch 25/800\n",
      "32/32 [==============================] - 0s 2ms/step - loss: 0.5756 - accuracy: 0.8194 - val_loss: 0.6203 - val_accuracy: 0.8119\n",
      "Epoch 26/800\n",
      "32/32 [==============================] - 0s 2ms/step - loss: 0.5651 - accuracy: 0.8114 - val_loss: 0.6120 - val_accuracy: 0.8149\n",
      "Epoch 27/800\n",
      "32/32 [==============================] - 0s 2ms/step - loss: 0.5538 - accuracy: 0.8263 - val_loss: 0.6016 - val_accuracy: 0.8179\n",
      "Epoch 28/800\n",
      "32/32 [==============================] - 0s 2ms/step - loss: 0.5427 - accuracy: 0.8253 - val_loss: 0.5918 - val_accuracy: 0.8149\n",
      "Epoch 29/800\n",
      "32/32 [==============================] - 0s 2ms/step - loss: 0.5340 - accuracy: 0.8253 - val_loss: 0.5848 - val_accuracy: 0.8149\n",
      "Epoch 30/800\n",
      "32/32 [==============================] - 0s 2ms/step - loss: 0.5252 - accuracy: 0.8283 - val_loss: 0.5755 - val_accuracy: 0.8090\n",
      "Epoch 31/800\n",
      "32/32 [==============================] - 0s 2ms/step - loss: 0.5175 - accuracy: 0.8333 - val_loss: 0.5686 - val_accuracy: 0.8209\n",
      "Epoch 32/800\n",
      "32/32 [==============================] - 0s 2ms/step - loss: 0.5094 - accuracy: 0.8323 - val_loss: 0.5654 - val_accuracy: 0.8030\n",
      "Epoch 33/800\n",
      "32/32 [==============================] - 0s 2ms/step - loss: 0.5023 - accuracy: 0.8363 - val_loss: 0.5584 - val_accuracy: 0.8090\n",
      "Epoch 34/800\n",
      "32/32 [==============================] - 0s 3ms/step - loss: 0.4954 - accuracy: 0.8393 - val_loss: 0.5530 - val_accuracy: 0.8030\n",
      "Epoch 35/800\n",
      "32/32 [==============================] - 0s 3ms/step - loss: 0.4903 - accuracy: 0.8353 - val_loss: 0.5486 - val_accuracy: 0.8060\n",
      "Epoch 36/800\n",
      "32/32 [==============================] - 0s 2ms/step - loss: 0.4842 - accuracy: 0.8383 - val_loss: 0.5469 - val_accuracy: 0.8060\n",
      "Epoch 37/800\n",
      "32/32 [==============================] - 0s 2ms/step - loss: 0.4798 - accuracy: 0.8313 - val_loss: 0.5421 - val_accuracy: 0.8000\n",
      "Epoch 38/800\n",
      "32/32 [==============================] - 0s 2ms/step - loss: 0.4745 - accuracy: 0.8393 - val_loss: 0.5381 - val_accuracy: 0.8060\n",
      "Epoch 39/800\n",
      "32/32 [==============================] - 0s 2ms/step - loss: 0.4704 - accuracy: 0.8373 - val_loss: 0.5320 - val_accuracy: 0.8090\n",
      "Epoch 40/800\n",
      "32/32 [==============================] - 0s 2ms/step - loss: 0.4662 - accuracy: 0.8363 - val_loss: 0.5287 - val_accuracy: 0.8119\n",
      "Epoch 41/800\n",
      "32/32 [==============================] - 0s 2ms/step - loss: 0.4627 - accuracy: 0.8353 - val_loss: 0.5297 - val_accuracy: 0.7970\n",
      "Epoch 42/800\n",
      "32/32 [==============================] - 0s 2ms/step - loss: 0.4596 - accuracy: 0.8403 - val_loss: 0.5248 - val_accuracy: 0.8030\n",
      "Epoch 43/800\n",
      "32/32 [==============================] - 0s 2ms/step - loss: 0.4552 - accuracy: 0.8313 - val_loss: 0.5152 - val_accuracy: 0.8090\n",
      "Epoch 44/800\n",
      "32/32 [==============================] - 0s 2ms/step - loss: 0.4513 - accuracy: 0.8423 - val_loss: 0.5162 - val_accuracy: 0.8060\n",
      "Epoch 45/800\n",
      "32/32 [==============================] - 0s 3ms/step - loss: 0.4473 - accuracy: 0.8373 - val_loss: 0.5137 - val_accuracy: 0.8090\n",
      "Epoch 46/800\n",
      "32/32 [==============================] - 0s 3ms/step - loss: 0.4441 - accuracy: 0.8393 - val_loss: 0.5136 - val_accuracy: 0.8000\n",
      "Epoch 47/800\n",
      "32/32 [==============================] - 0s 3ms/step - loss: 0.4417 - accuracy: 0.8373 - val_loss: 0.5111 - val_accuracy: 0.8090\n",
      "Epoch 48/800\n",
      "32/32 [==============================] - 0s 3ms/step - loss: 0.4403 - accuracy: 0.8423 - val_loss: 0.5073 - val_accuracy: 0.8090\n",
      "Epoch 49/800\n",
      "32/32 [==============================] - 0s 3ms/step - loss: 0.4368 - accuracy: 0.8423 - val_loss: 0.5076 - val_accuracy: 0.8030\n",
      "Epoch 50/800\n",
      "32/32 [==============================] - 0s 2ms/step - loss: 0.4331 - accuracy: 0.8453 - val_loss: 0.5050 - val_accuracy: 0.8119\n",
      "Epoch 51/800\n",
      "32/32 [==============================] - 0s 3ms/step - loss: 0.4312 - accuracy: 0.8473 - val_loss: 0.5078 - val_accuracy: 0.8060\n",
      "Epoch 52/800\n",
      "32/32 [==============================] - 0s 3ms/step - loss: 0.4289 - accuracy: 0.8403 - val_loss: 0.4990 - val_accuracy: 0.8060\n",
      "Epoch 53/800\n",
      "32/32 [==============================] - 0s 3ms/step - loss: 0.4269 - accuracy: 0.8473 - val_loss: 0.5006 - val_accuracy: 0.8060\n",
      "Epoch 54/800\n",
      "32/32 [==============================] - 0s 3ms/step - loss: 0.4249 - accuracy: 0.8493 - val_loss: 0.5027 - val_accuracy: 0.8119\n",
      "Epoch 55/800\n",
      "32/32 [==============================] - 0s 2ms/step - loss: 0.4230 - accuracy: 0.8403 - val_loss: 0.4947 - val_accuracy: 0.8119\n",
      "Epoch 56/800\n",
      "32/32 [==============================] - 0s 3ms/step - loss: 0.4201 - accuracy: 0.8493 - val_loss: 0.4955 - val_accuracy: 0.8060\n",
      "Epoch 57/800\n",
      "32/32 [==============================] - 0s 3ms/step - loss: 0.4197 - accuracy: 0.8403 - val_loss: 0.4942 - val_accuracy: 0.8030\n",
      "Epoch 58/800\n",
      "32/32 [==============================] - 0s 2ms/step - loss: 0.4174 - accuracy: 0.8453 - val_loss: 0.4938 - val_accuracy: 0.8149\n",
      "Epoch 59/800\n",
      "32/32 [==============================] - 0s 2ms/step - loss: 0.4153 - accuracy: 0.8493 - val_loss: 0.4882 - val_accuracy: 0.8090\n",
      "Epoch 60/800\n",
      "32/32 [==============================] - 0s 3ms/step - loss: 0.4141 - accuracy: 0.8503 - val_loss: 0.4989 - val_accuracy: 0.8060\n",
      "Epoch 61/800\n",
      "32/32 [==============================] - 0s 3ms/step - loss: 0.4151 - accuracy: 0.8413 - val_loss: 0.4873 - val_accuracy: 0.8090\n",
      "Epoch 62/800\n",
      "32/32 [==============================] - 0s 2ms/step - loss: 0.4114 - accuracy: 0.8463 - val_loss: 0.4918 - val_accuracy: 0.8149\n",
      "Epoch 63/800\n",
      "32/32 [==============================] - 0s 3ms/step - loss: 0.4114 - accuracy: 0.8493 - val_loss: 0.4875 - val_accuracy: 0.8030\n",
      "Epoch 64/800\n",
      "32/32 [==============================] - 0s 3ms/step - loss: 0.4101 - accuracy: 0.8483 - val_loss: 0.4902 - val_accuracy: 0.8119\n",
      "Epoch 65/800\n",
      "32/32 [==============================] - 0s 3ms/step - loss: 0.4077 - accuracy: 0.8503 - val_loss: 0.4913 - val_accuracy: 0.8030\n",
      "Epoch 66/800\n",
      "32/32 [==============================] - 0s 3ms/step - loss: 0.4056 - accuracy: 0.8433 - val_loss: 0.4847 - val_accuracy: 0.8090\n",
      "Epoch 67/800\n",
      "32/32 [==============================] - 0s 2ms/step - loss: 0.4042 - accuracy: 0.8483 - val_loss: 0.4819 - val_accuracy: 0.8060\n",
      "Epoch 68/800\n",
      "32/32 [==============================] - 0s 2ms/step - loss: 0.4030 - accuracy: 0.8503 - val_loss: 0.4864 - val_accuracy: 0.8000\n",
      "Epoch 69/800\n",
      "32/32 [==============================] - 0s 2ms/step - loss: 0.4033 - accuracy: 0.8513 - val_loss: 0.4823 - val_accuracy: 0.8030\n",
      "Epoch 70/800\n",
      "32/32 [==============================] - 0s 2ms/step - loss: 0.4024 - accuracy: 0.8503 - val_loss: 0.4872 - val_accuracy: 0.8060\n",
      "Epoch 71/800\n",
      "32/32 [==============================] - 0s 2ms/step - loss: 0.4006 - accuracy: 0.8463 - val_loss: 0.4800 - val_accuracy: 0.8000\n",
      "Epoch 72/800\n",
      "32/32 [==============================] - 0s 2ms/step - loss: 0.3989 - accuracy: 0.8553 - val_loss: 0.4823 - val_accuracy: 0.8119\n",
      "Epoch 73/800\n",
      "32/32 [==============================] - 0s 2ms/step - loss: 0.3997 - accuracy: 0.8493 - val_loss: 0.4770 - val_accuracy: 0.8000\n",
      "Epoch 74/800\n",
      "32/32 [==============================] - 0s 3ms/step - loss: 0.3955 - accuracy: 0.8503 - val_loss: 0.4786 - val_accuracy: 0.8060\n",
      "Epoch 75/800\n",
      "32/32 [==============================] - 0s 3ms/step - loss: 0.3949 - accuracy: 0.8543 - val_loss: 0.4783 - val_accuracy: 0.8060\n",
      "Epoch 76/800\n",
      "32/32 [==============================] - 0s 2ms/step - loss: 0.3941 - accuracy: 0.8533 - val_loss: 0.4799 - val_accuracy: 0.8090\n",
      "Epoch 77/800\n",
      "32/32 [==============================] - 0s 3ms/step - loss: 0.3943 - accuracy: 0.8513 - val_loss: 0.4785 - val_accuracy: 0.8000\n",
      "Epoch 78/800\n",
      "32/32 [==============================] - 0s 3ms/step - loss: 0.3913 - accuracy: 0.8543 - val_loss: 0.4764 - val_accuracy: 0.8090\n",
      "Epoch 79/800\n",
      "32/32 [==============================] - 0s 3ms/step - loss: 0.3923 - accuracy: 0.8563 - val_loss: 0.4814 - val_accuracy: 0.8030\n",
      "Epoch 80/800\n",
      "32/32 [==============================] - 0s 3ms/step - loss: 0.3899 - accuracy: 0.8563 - val_loss: 0.4741 - val_accuracy: 0.8090\n",
      "Epoch 81/800\n",
      "32/32 [==============================] - 0s 3ms/step - loss: 0.3893 - accuracy: 0.8533 - val_loss: 0.4773 - val_accuracy: 0.8090\n",
      "Epoch 82/800\n",
      "32/32 [==============================] - 0s 2ms/step - loss: 0.3891 - accuracy: 0.8573 - val_loss: 0.4743 - val_accuracy: 0.7970\n",
      "Epoch 83/800\n",
      "32/32 [==============================] - 0s 2ms/step - loss: 0.3897 - accuracy: 0.8593 - val_loss: 0.4720 - val_accuracy: 0.8119\n",
      "Epoch 84/800\n",
      "32/32 [==============================] - 0s 2ms/step - loss: 0.3874 - accuracy: 0.8543 - val_loss: 0.4719 - val_accuracy: 0.8090\n",
      "Epoch 85/800\n",
      "32/32 [==============================] - 0s 2ms/step - loss: 0.3865 - accuracy: 0.8583 - val_loss: 0.4705 - val_accuracy: 0.8149\n",
      "Epoch 86/800\n",
      "32/32 [==============================] - 0s 3ms/step - loss: 0.3842 - accuracy: 0.8543 - val_loss: 0.4710 - val_accuracy: 0.8000\n",
      "Epoch 87/800\n",
      "32/32 [==============================] - 0s 3ms/step - loss: 0.3845 - accuracy: 0.8613 - val_loss: 0.4731 - val_accuracy: 0.8090\n",
      "Epoch 88/800\n",
      "32/32 [==============================] - 0s 3ms/step - loss: 0.3841 - accuracy: 0.8563 - val_loss: 0.4728 - val_accuracy: 0.7970\n",
      "Epoch 89/800\n",
      "32/32 [==============================] - 0s 3ms/step - loss: 0.3818 - accuracy: 0.8583 - val_loss: 0.4711 - val_accuracy: 0.8149\n",
      "Epoch 90/800\n",
      "32/32 [==============================] - 0s 2ms/step - loss: 0.3823 - accuracy: 0.8563 - val_loss: 0.4713 - val_accuracy: 0.8179\n",
      "Epoch 91/800\n",
      "32/32 [==============================] - 0s 3ms/step - loss: 0.3808 - accuracy: 0.8573 - val_loss: 0.4769 - val_accuracy: 0.8090\n",
      "Epoch 92/800\n",
      "32/32 [==============================] - 0s 3ms/step - loss: 0.3792 - accuracy: 0.8623 - val_loss: 0.4694 - val_accuracy: 0.8090\n",
      "Epoch 93/800\n",
      "32/32 [==============================] - 0s 3ms/step - loss: 0.3796 - accuracy: 0.8593 - val_loss: 0.4757 - val_accuracy: 0.8090\n",
      "Epoch 94/800\n",
      "32/32 [==============================] - 0s 3ms/step - loss: 0.3806 - accuracy: 0.8573 - val_loss: 0.4719 - val_accuracy: 0.8060\n",
      "Epoch 95/800\n",
      "32/32 [==============================] - 0s 3ms/step - loss: 0.3785 - accuracy: 0.8623 - val_loss: 0.4707 - val_accuracy: 0.8119\n",
      "Epoch 96/800\n",
      "32/32 [==============================] - 0s 3ms/step - loss: 0.3789 - accuracy: 0.8553 - val_loss: 0.4731 - val_accuracy: 0.8090\n",
      "Epoch 97/800\n",
      "32/32 [==============================] - 0s 3ms/step - loss: 0.3775 - accuracy: 0.8623 - val_loss: 0.4722 - val_accuracy: 0.8090\n",
      "Epoch 98/800\n",
      "32/32 [==============================] - 0s 4ms/step - loss: 0.3766 - accuracy: 0.8593 - val_loss: 0.4730 - val_accuracy: 0.8060\n",
      "Epoch 99/800\n",
      "32/32 [==============================] - 0s 4ms/step - loss: 0.3761 - accuracy: 0.8633 - val_loss: 0.4686 - val_accuracy: 0.8090\n",
      "Epoch 100/800\n",
      "32/32 [==============================] - 0s 3ms/step - loss: 0.3782 - accuracy: 0.8603 - val_loss: 0.4775 - val_accuracy: 0.8030\n",
      "Epoch 101/800\n",
      "32/32 [==============================] - 0s 4ms/step - loss: 0.3763 - accuracy: 0.8643 - val_loss: 0.4728 - val_accuracy: 0.8060\n",
      "Epoch 102/800\n",
      "32/32 [==============================] - 0s 3ms/step - loss: 0.3732 - accuracy: 0.8623 - val_loss: 0.4682 - val_accuracy: 0.8119\n",
      "Epoch 103/800\n",
      "32/32 [==============================] - 0s 3ms/step - loss: 0.3731 - accuracy: 0.8633 - val_loss: 0.4687 - val_accuracy: 0.8090\n",
      "Epoch 104/800\n",
      "32/32 [==============================] - 0s 4ms/step - loss: 0.3723 - accuracy: 0.8633 - val_loss: 0.4723 - val_accuracy: 0.8060\n",
      "Epoch 105/800\n",
      "32/32 [==============================] - 0s 4ms/step - loss: 0.3714 - accuracy: 0.8673 - val_loss: 0.4700 - val_accuracy: 0.8119\n",
      "Epoch 106/800\n",
      "32/32 [==============================] - 0s 3ms/step - loss: 0.3714 - accuracy: 0.8633 - val_loss: 0.4681 - val_accuracy: 0.8119\n",
      "Epoch 107/800\n",
      "32/32 [==============================] - 0s 3ms/step - loss: 0.3710 - accuracy: 0.8613 - val_loss: 0.4725 - val_accuracy: 0.8090\n",
      "Epoch 108/800\n",
      "32/32 [==============================] - 0s 3ms/step - loss: 0.3714 - accuracy: 0.8603 - val_loss: 0.4660 - val_accuracy: 0.8060\n",
      "Epoch 109/800\n",
      "32/32 [==============================] - 0s 3ms/step - loss: 0.3694 - accuracy: 0.8643 - val_loss: 0.4679 - val_accuracy: 0.8179\n",
      "Epoch 110/800\n",
      "32/32 [==============================] - 0s 3ms/step - loss: 0.3683 - accuracy: 0.8633 - val_loss: 0.4654 - val_accuracy: 0.8119\n",
      "Epoch 111/800\n",
      "32/32 [==============================] - 0s 3ms/step - loss: 0.3686 - accuracy: 0.8623 - val_loss: 0.4696 - val_accuracy: 0.8149\n",
      "Epoch 112/800\n",
      "32/32 [==============================] - 0s 3ms/step - loss: 0.3669 - accuracy: 0.8663 - val_loss: 0.4697 - val_accuracy: 0.8090\n",
      "Epoch 113/800\n",
      "32/32 [==============================] - 0s 4ms/step - loss: 0.3682 - accuracy: 0.8643 - val_loss: 0.4663 - val_accuracy: 0.8090\n",
      "Epoch 114/800\n",
      "32/32 [==============================] - 0s 4ms/step - loss: 0.3675 - accuracy: 0.8593 - val_loss: 0.4715 - val_accuracy: 0.8000\n",
      "Epoch 115/800\n",
      "32/32 [==============================] - 0s 4ms/step - loss: 0.3664 - accuracy: 0.8643 - val_loss: 0.4690 - val_accuracy: 0.8060\n",
      "Epoch 116/800\n",
      "32/32 [==============================] - 0s 4ms/step - loss: 0.3658 - accuracy: 0.8693 - val_loss: 0.4695 - val_accuracy: 0.8060\n",
      "Epoch 117/800\n",
      "32/32 [==============================] - 0s 3ms/step - loss: 0.3664 - accuracy: 0.8673 - val_loss: 0.4619 - val_accuracy: 0.8090\n",
      "Epoch 118/800\n",
      "32/32 [==============================] - 0s 6ms/step - loss: 0.3639 - accuracy: 0.8663 - val_loss: 0.4664 - val_accuracy: 0.8090\n",
      "Epoch 119/800\n",
      "32/32 [==============================] - 0s 4ms/step - loss: 0.3633 - accuracy: 0.8683 - val_loss: 0.4665 - val_accuracy: 0.8090\n",
      "Epoch 120/800\n",
      "32/32 [==============================] - 0s 4ms/step - loss: 0.3629 - accuracy: 0.8663 - val_loss: 0.4669 - val_accuracy: 0.8090\n",
      "Epoch 121/800\n",
      "32/32 [==============================] - 0s 3ms/step - loss: 0.3626 - accuracy: 0.8713 - val_loss: 0.4673 - val_accuracy: 0.8090\n",
      "Epoch 122/800\n",
      "32/32 [==============================] - 0s 3ms/step - loss: 0.3629 - accuracy: 0.8703 - val_loss: 0.4671 - val_accuracy: 0.8090\n",
      "Epoch 123/800\n",
      "32/32 [==============================] - 0s 4ms/step - loss: 0.3616 - accuracy: 0.8723 - val_loss: 0.4672 - val_accuracy: 0.8119\n",
      "Epoch 124/800\n",
      "32/32 [==============================] - 0s 2ms/step - loss: 0.3599 - accuracy: 0.8693 - val_loss: 0.4642 - val_accuracy: 0.8119\n",
      "Epoch 125/800\n",
      "32/32 [==============================] - 0s 3ms/step - loss: 0.3597 - accuracy: 0.8703 - val_loss: 0.4618 - val_accuracy: 0.8149\n",
      "Epoch 126/800\n",
      "32/32 [==============================] - 0s 3ms/step - loss: 0.3591 - accuracy: 0.8713 - val_loss: 0.4685 - val_accuracy: 0.8060\n",
      "Epoch 127/800\n",
      "32/32 [==============================] - 0s 4ms/step - loss: 0.3591 - accuracy: 0.8673 - val_loss: 0.4631 - val_accuracy: 0.8209\n",
      "Epoch 128/800\n",
      "32/32 [==============================] - 0s 3ms/step - loss: 0.3611 - accuracy: 0.8663 - val_loss: 0.4637 - val_accuracy: 0.8119\n",
      "Epoch 129/800\n",
      "32/32 [==============================] - 0s 4ms/step - loss: 0.3574 - accuracy: 0.8703 - val_loss: 0.4650 - val_accuracy: 0.8030\n",
      "Epoch 130/800\n",
      "32/32 [==============================] - 0s 3ms/step - loss: 0.3579 - accuracy: 0.8693 - val_loss: 0.4662 - val_accuracy: 0.8119\n",
      "Epoch 131/800\n",
      "32/32 [==============================] - 0s 3ms/step - loss: 0.3572 - accuracy: 0.8743 - val_loss: 0.4635 - val_accuracy: 0.8090\n",
      "Epoch 132/800\n",
      "32/32 [==============================] - 0s 2ms/step - loss: 0.3558 - accuracy: 0.8743 - val_loss: 0.4650 - val_accuracy: 0.8030\n",
      "Epoch 133/800\n",
      "32/32 [==============================] - 0s 3ms/step - loss: 0.3560 - accuracy: 0.8713 - val_loss: 0.4639 - val_accuracy: 0.8090\n",
      "Epoch 134/800\n",
      "32/32 [==============================] - 0s 3ms/step - loss: 0.3538 - accuracy: 0.8703 - val_loss: 0.4611 - val_accuracy: 0.8090\n",
      "Epoch 135/800\n",
      "32/32 [==============================] - 0s 3ms/step - loss: 0.3542 - accuracy: 0.8693 - val_loss: 0.4650 - val_accuracy: 0.8179\n",
      "Epoch 136/800\n",
      "32/32 [==============================] - 0s 2ms/step - loss: 0.3523 - accuracy: 0.8733 - val_loss: 0.4615 - val_accuracy: 0.8179\n",
      "Epoch 137/800\n",
      "32/32 [==============================] - 0s 3ms/step - loss: 0.3524 - accuracy: 0.8693 - val_loss: 0.4649 - val_accuracy: 0.8179\n",
      "Epoch 138/800\n",
      "32/32 [==============================] - 0s 3ms/step - loss: 0.3526 - accuracy: 0.8723 - val_loss: 0.4607 - val_accuracy: 0.8179\n",
      "Epoch 139/800\n",
      "32/32 [==============================] - 0s 3ms/step - loss: 0.3526 - accuracy: 0.8693 - val_loss: 0.4587 - val_accuracy: 0.8239\n",
      "Epoch 140/800\n",
      "32/32 [==============================] - 0s 3ms/step - loss: 0.3508 - accuracy: 0.8743 - val_loss: 0.4648 - val_accuracy: 0.8149\n",
      "Epoch 141/800\n",
      "32/32 [==============================] - 0s 3ms/step - loss: 0.3510 - accuracy: 0.8743 - val_loss: 0.4652 - val_accuracy: 0.8060\n",
      "Epoch 142/800\n",
      "32/32 [==============================] - 0s 2ms/step - loss: 0.3505 - accuracy: 0.8733 - val_loss: 0.4586 - val_accuracy: 0.8179\n",
      "Epoch 143/800\n",
      "32/32 [==============================] - 0s 3ms/step - loss: 0.3511 - accuracy: 0.8713 - val_loss: 0.4626 - val_accuracy: 0.8209\n",
      "Epoch 144/800\n",
      "32/32 [==============================] - 0s 3ms/step - loss: 0.3499 - accuracy: 0.8743 - val_loss: 0.4646 - val_accuracy: 0.8209\n",
      "Epoch 145/800\n",
      "32/32 [==============================] - 0s 3ms/step - loss: 0.3480 - accuracy: 0.8733 - val_loss: 0.4632 - val_accuracy: 0.8209\n",
      "Epoch 146/800\n",
      "32/32 [==============================] - 0s 3ms/step - loss: 0.3477 - accuracy: 0.8743 - val_loss: 0.4596 - val_accuracy: 0.8209\n",
      "Epoch 147/800\n",
      "32/32 [==============================] - 0s 3ms/step - loss: 0.3482 - accuracy: 0.8733 - val_loss: 0.4638 - val_accuracy: 0.8209\n",
      "Epoch 148/800\n",
      "32/32 [==============================] - 0s 3ms/step - loss: 0.3471 - accuracy: 0.8743 - val_loss: 0.4646 - val_accuracy: 0.8209\n",
      "Epoch 149/800\n",
      "32/32 [==============================] - 0s 3ms/step - loss: 0.3477 - accuracy: 0.8743 - val_loss: 0.4630 - val_accuracy: 0.8209\n",
      "Epoch 150/800\n",
      "32/32 [==============================] - 0s 3ms/step - loss: 0.3461 - accuracy: 0.8733 - val_loss: 0.4600 - val_accuracy: 0.8239\n",
      "Epoch 151/800\n",
      "32/32 [==============================] - 0s 3ms/step - loss: 0.3453 - accuracy: 0.8743 - val_loss: 0.4621 - val_accuracy: 0.8209\n",
      "Epoch 152/800\n",
      "32/32 [==============================] - 0s 3ms/step - loss: 0.3457 - accuracy: 0.8762 - val_loss: 0.4607 - val_accuracy: 0.8209\n",
      "Epoch 153/800\n",
      "32/32 [==============================] - 0s 3ms/step - loss: 0.3439 - accuracy: 0.8772 - val_loss: 0.4605 - val_accuracy: 0.8239\n",
      "Epoch 154/800\n",
      "32/32 [==============================] - 0s 3ms/step - loss: 0.3437 - accuracy: 0.8782 - val_loss: 0.4593 - val_accuracy: 0.8299\n",
      "Epoch 155/800\n",
      "32/32 [==============================] - 0s 3ms/step - loss: 0.3437 - accuracy: 0.8792 - val_loss: 0.4630 - val_accuracy: 0.8299\n",
      "Epoch 156/800\n",
      "32/32 [==============================] - 0s 3ms/step - loss: 0.3438 - accuracy: 0.8733 - val_loss: 0.4588 - val_accuracy: 0.8239\n",
      "Epoch 157/800\n",
      "32/32 [==============================] - 0s 3ms/step - loss: 0.3430 - accuracy: 0.8782 - val_loss: 0.4571 - val_accuracy: 0.8209\n",
      "Epoch 158/800\n",
      "32/32 [==============================] - 0s 2ms/step - loss: 0.3432 - accuracy: 0.8782 - val_loss: 0.4608 - val_accuracy: 0.8239\n",
      "Epoch 159/800\n",
      "32/32 [==============================] - 0s 3ms/step - loss: 0.3417 - accuracy: 0.8772 - val_loss: 0.4577 - val_accuracy: 0.8269\n",
      "Epoch 160/800\n",
      "32/32 [==============================] - 0s 3ms/step - loss: 0.3423 - accuracy: 0.8723 - val_loss: 0.4589 - val_accuracy: 0.8269\n",
      "Epoch 161/800\n",
      "32/32 [==============================] - 0s 3ms/step - loss: 0.3399 - accuracy: 0.8792 - val_loss: 0.4604 - val_accuracy: 0.8269\n",
      "Epoch 162/800\n",
      "32/32 [==============================] - 0s 3ms/step - loss: 0.3401 - accuracy: 0.8772 - val_loss: 0.4586 - val_accuracy: 0.8299\n",
      "Epoch 163/800\n",
      "32/32 [==============================] - 0s 4ms/step - loss: 0.3400 - accuracy: 0.8802 - val_loss: 0.4587 - val_accuracy: 0.8239\n",
      "Epoch 164/800\n",
      "32/32 [==============================] - 0s 3ms/step - loss: 0.3396 - accuracy: 0.8723 - val_loss: 0.4594 - val_accuracy: 0.8269\n",
      "Epoch 165/800\n",
      "32/32 [==============================] - 0s 3ms/step - loss: 0.3396 - accuracy: 0.8782 - val_loss: 0.4608 - val_accuracy: 0.8239\n",
      "Epoch 166/800\n",
      "32/32 [==============================] - 0s 3ms/step - loss: 0.3389 - accuracy: 0.8792 - val_loss: 0.4586 - val_accuracy: 0.8269\n",
      "Epoch 167/800\n",
      "32/32 [==============================] - 0s 3ms/step - loss: 0.3386 - accuracy: 0.8782 - val_loss: 0.4560 - val_accuracy: 0.8239\n",
      "Epoch 168/800\n",
      "32/32 [==============================] - 0s 3ms/step - loss: 0.3411 - accuracy: 0.8723 - val_loss: 0.4535 - val_accuracy: 0.8209\n",
      "Epoch 169/800\n",
      "32/32 [==============================] - 0s 2ms/step - loss: 0.3374 - accuracy: 0.8802 - val_loss: 0.4583 - val_accuracy: 0.8269\n",
      "Epoch 170/800\n",
      "32/32 [==============================] - 0s 3ms/step - loss: 0.3361 - accuracy: 0.8792 - val_loss: 0.4571 - val_accuracy: 0.8239\n",
      "Epoch 171/800\n",
      "32/32 [==============================] - 0s 3ms/step - loss: 0.3362 - accuracy: 0.8792 - val_loss: 0.4632 - val_accuracy: 0.8239\n",
      "Epoch 172/800\n",
      "32/32 [==============================] - 0s 2ms/step - loss: 0.3358 - accuracy: 0.8812 - val_loss: 0.4619 - val_accuracy: 0.8328\n",
      "Epoch 173/800\n",
      "32/32 [==============================] - 0s 3ms/step - loss: 0.3358 - accuracy: 0.8762 - val_loss: 0.4570 - val_accuracy: 0.8239\n",
      "Epoch 174/800\n",
      "32/32 [==============================] - 0s 3ms/step - loss: 0.3350 - accuracy: 0.8782 - val_loss: 0.4607 - val_accuracy: 0.8299\n",
      "Epoch 175/800\n",
      "32/32 [==============================] - 0s 2ms/step - loss: 0.3338 - accuracy: 0.8802 - val_loss: 0.4584 - val_accuracy: 0.8239\n",
      "Epoch 176/800\n",
      "32/32 [==============================] - 0s 3ms/step - loss: 0.3332 - accuracy: 0.8802 - val_loss: 0.4590 - val_accuracy: 0.8299\n",
      "Epoch 177/800\n",
      "32/32 [==============================] - 0s 3ms/step - loss: 0.3333 - accuracy: 0.8762 - val_loss: 0.4596 - val_accuracy: 0.8209\n",
      "Epoch 178/800\n",
      "32/32 [==============================] - 0s 2ms/step - loss: 0.3331 - accuracy: 0.8792 - val_loss: 0.4591 - val_accuracy: 0.8239\n",
      "Epoch 179/800\n",
      "32/32 [==============================] - 0s 3ms/step - loss: 0.3327 - accuracy: 0.8842 - val_loss: 0.4557 - val_accuracy: 0.8269\n",
      "Epoch 180/800\n",
      "32/32 [==============================] - 0s 3ms/step - loss: 0.3332 - accuracy: 0.8792 - val_loss: 0.4576 - val_accuracy: 0.8299\n",
      "Epoch 181/800\n",
      "32/32 [==============================] - 0s 3ms/step - loss: 0.3326 - accuracy: 0.8772 - val_loss: 0.4597 - val_accuracy: 0.8269\n",
      "Epoch 182/800\n",
      "32/32 [==============================] - 0s 3ms/step - loss: 0.3324 - accuracy: 0.8802 - val_loss: 0.4546 - val_accuracy: 0.8299\n",
      "Epoch 183/800\n",
      "32/32 [==============================] - 0s 3ms/step - loss: 0.3314 - accuracy: 0.8832 - val_loss: 0.4565 - val_accuracy: 0.8299\n",
      "Epoch 184/800\n",
      "32/32 [==============================] - 0s 3ms/step - loss: 0.3310 - accuracy: 0.8812 - val_loss: 0.4591 - val_accuracy: 0.8239\n",
      "Epoch 185/800\n",
      "32/32 [==============================] - 0s 3ms/step - loss: 0.3305 - accuracy: 0.8802 - val_loss: 0.4627 - val_accuracy: 0.8269\n",
      "Epoch 186/800\n",
      "32/32 [==============================] - 0s 2ms/step - loss: 0.3294 - accuracy: 0.8772 - val_loss: 0.4594 - val_accuracy: 0.8239\n",
      "Epoch 187/800\n",
      "32/32 [==============================] - 0s 3ms/step - loss: 0.3300 - accuracy: 0.8802 - val_loss: 0.4631 - val_accuracy: 0.8239\n",
      "Epoch 188/800\n",
      "32/32 [==============================] - 0s 3ms/step - loss: 0.3296 - accuracy: 0.8812 - val_loss: 0.4570 - val_accuracy: 0.8269\n",
      "Epoch 189/800\n",
      "32/32 [==============================] - 0s 3ms/step - loss: 0.3284 - accuracy: 0.8842 - val_loss: 0.4630 - val_accuracy: 0.8239\n",
      "Epoch 190/800\n",
      "32/32 [==============================] - 0s 3ms/step - loss: 0.3304 - accuracy: 0.8792 - val_loss: 0.4614 - val_accuracy: 0.8299\n",
      "Epoch 191/800\n",
      "32/32 [==============================] - 0s 3ms/step - loss: 0.3292 - accuracy: 0.8832 - val_loss: 0.4614 - val_accuracy: 0.8209\n",
      "Epoch 192/800\n",
      "32/32 [==============================] - 0s 3ms/step - loss: 0.3274 - accuracy: 0.8852 - val_loss: 0.4574 - val_accuracy: 0.8299\n",
      "Epoch 193/800\n",
      "32/32 [==============================] - 0s 3ms/step - loss: 0.3283 - accuracy: 0.8832 - val_loss: 0.4659 - val_accuracy: 0.8239\n",
      "Epoch 193: early stopping\n"
     ]
    },
    {
     "data": {
      "text/plain": [
       "<keras.callbacks.History at 0x1dfd6e36760>"
      ]
     },
     "execution_count": 733,
     "metadata": {},
     "output_type": "execute_result"
    }
   ],
   "source": [
    "genre_prediction_model.fit(x=X_train, y=y_train, epochs=800, validation_data=(\n",
    "    X_test, y_test), callbacks=[early_stop])\n"
   ]
  },
  {
   "cell_type": "code",
   "execution_count": 734,
   "metadata": {},
   "outputs": [],
   "source": [
    "losses_df = pd.DataFrame(genre_prediction_model.history.history)\n"
   ]
  },
  {
   "cell_type": "code",
   "execution_count": 735,
   "metadata": {},
   "outputs": [
    {
     "data": {
      "text/plain": [
       "<AxesSubplot:>"
      ]
     },
     "execution_count": 735,
     "metadata": {},
     "output_type": "execute_result"
    },
    {
     "data": {
      "image/png": "[encoded data removed]",
      "text/plain": [
       "<Figure size 432x288 with 1 Axes>"
      ]
     },
     "metadata": {
      "needs_background": "light"
     },
     "output_type": "display_data"
    }
   ],
   "source": [
    "losses_df.plot()\n"
   ]
  },
  {
   "cell_type": "code",
   "execution_count": 736,
   "metadata": {},
   "outputs": [],
   "source": [
    "from sklearn.metrics import classification_report\n"
   ]
  },
  {
   "cell_type": "code",
   "execution_count": 737,
   "metadata": {},
   "outputs": [
    {
     "name": "stdout",
     "output_type": "stream",
     "text": [
      "11/11 [==============================] - 0s 1ms/step\n"
     ]
    }
   ],
   "source": [
    "predict_x = genre_prediction_model.predict(X_test)\n",
    "classes_x = np.argmax(predict_x, axis=1)\n"
   ]
  },
  {
   "cell_type": "code",
   "execution_count": 738,
   "metadata": {},
   "outputs": [
    {
     "name": "stdout",
     "output_type": "stream",
     "text": [
      "              precision    recall  f1-score   support\n",
      "\n",
      "           0       0.87      0.92      0.90        65\n",
      "           1       0.65      0.61      0.63        70\n",
      "           2       0.94      0.91      0.92        53\n",
      "           3       0.90      1.00      0.95        62\n",
      "           4       0.79      0.74      0.76        85\n",
      "\n",
      "    accuracy                           0.82       335\n",
      "   macro avg       0.83      0.84      0.83       335\n",
      "weighted avg       0.82      0.82      0.82       335\n",
      "\n"
     ]
    }
   ],
   "source": [
    "print(classification_report(y_test, classes_x))\n"
   ]
  },
  {
   "cell_type": "code",
   "execution_count": 739,
   "metadata": {},
   "outputs": [
    {
     "name": "stderr",
     "output_type": "stream",
     "text": [
      "A subdirectory or file saved_model already exists.\n"
     ]
    }
   ],
   "source": [
    "!mkdir saved_model\n"
   ]
  },
  {
   "cell_type": "code",
   "execution_count": 740,
   "metadata": {},
   "outputs": [
    {
     "name": "stdout",
     "output_type": "stream",
     "text": [
      "INFO:tensorflow:Assets written to: saved_model/final_model\\assets\n"
     ]
    }
   ],
   "source": [
    "genre_prediction_model.save('saved_model/final_model')\n"
   ]
  },
  {
   "cell_type": "code",
   "execution_count": 741,
   "metadata": {},
   "outputs": [],
   "source": [
    "def get_key_dict(key):\n",
    "    d = {}\n",
    "    lst = np.eye(12).tolist()[key]\n",
    "    for i in range(len(lst)):\n",
    "        d[key_map[i]] = lst[i]\n",
    "    return d\n"
   ]
  },
  {
   "cell_type": "code",
   "execution_count": 742,
   "metadata": {},
   "outputs": [],
   "source": [
    "def transform_key_dict(feat):\n",
    "    key_dict = get_key_dict(feat[\"key\"])\n",
    "    feat.update(key_dict)\n",
    "    del feat['key']\n",
    "    del feat['B']\n",
    "    return feat\n"
   ]
  },
  {
   "cell_type": "code",
   "execution_count": 743,
   "metadata": {},
   "outputs": [],
   "source": [
    "import spotipy\n",
    "import spotipy.util as util\n",
    "\n",
    "import os\n",
    "os.environ['SPOTIPY_CLIENT_ID'] = \"6051b4896eda4feca0e0e28bed145907\"\n",
    "os.environ['SPOTIPY_CLIENT_SECRET'] = \"1d7c94e540d741758cc103db6e028a96\"\n",
    "os.environ['SPOTIPY_REDIRECT_URI'] = \"https://localhost:8080\"\n",
    "\n",
    "token = util.prompt_for_user_token(\"31zahq3gf5zm3oansaxx76hufvpm\")\n",
    "\n",
    "# AUTHENTICATION\n",
    "sp = spotipy.Spotify(auth=token)\n"
   ]
  },
  {
   "cell_type": "code",
   "execution_count": 744,
   "metadata": {},
   "outputs": [],
   "source": [
    "def get_features(song_url):\n",
    "    track = sp.track(song_url)\n",
    "    features = sp.audio_features([track[\"id\"]])[0]\n",
    "    track_name = track[\"name\"]\n",
    "    features.pop('type')\n",
    "    features.pop('uri')\n",
    "    features.pop('track_href')\n",
    "    features.pop('analysis_url')\n",
    "    features.pop('id')\n",
    "    features.pop('liveness')\n",
    "    features = transform_key_dict(features)\n",
    "    features['major'] = features['mode']\n",
    "    del features['mode']\n",
    "    return features\n"
   ]
  },
  {
   "cell_type": "code",
   "execution_count": 745,
   "metadata": {},
   "outputs": [],
   "source": [
    "def predict_genre(song_url, model):\n",
    "    data = pd.Series(get_features(song_url))\n",
    "    data = scaler.transform([data])\n",
    "    predict_x = model.predict(data, verbose=False)\n",
    "    classes_x = np.argmax(predict_x)\n",
    "    my_inverted_dict = dict(map(reversed, genre_map.items()))\n",
    "    return my_inverted_dict[classes_x], sp.track(song_url)['artists'][0]['name'], sp.track(song_url)['name']\n"
   ]
  },
  {
   "cell_type": "code",
   "execution_count": 746,
   "metadata": {},
   "outputs": [
    {
     "name": "stderr",
     "output_type": "stream",
     "text": [
      "C:\\Users\\shail\\anaconda3\\Lib\\site-packages\\sklearn\\base.py:450: UserWarning: X does not have valid feature names, but MinMaxScaler was fitted with feature names\n",
      "  warnings.warn(\n"
     ]
    },
    {
     "data": {
      "text/plain": [
       "('ROCK', 'Breaking Benjamin', 'Breath')"
      ]
     },
     "execution_count": 746,
     "metadata": {},
     "output_type": "execute_result"
    }
   ],
   "source": [
    "predict_genre(\"https://open.spotify.com/track/59TLlOD6sH4cCTSF6ITRkA?si=084cccf7859b446e\", genre_prediction_model)"
   ]
  },
  {
   "cell_type": "code",
   "execution_count": null,
   "metadata": {},
   "outputs": [],
   "source": []
  }
 ],
 "metadata": {
  "kernelspec": {
   "display_name": "base",
   "language": "python",
   "name": "python3"
  },
  "language_info": {
   "codemirror_mode": {
    "name": "ipython",
    "version": 3
   },
   "file_extension": ".py",
   "mimetype": "text/x-python",
   "name": "python",
   "nbconvert_exporter": "python",
   "pygments_lexer": "ipython3",
   "version": "3.9.12"
  },
  "orig_nbformat": 4,
  "vscode": {
   "interpreter": {
    "hash": "c3b33d48af627876ac544114dd0fbe5a6124b6236eace591dad2ce23808c5c16"
   }
  }
 },
 "nbformat": 4,
 "nbformat_minor": 2
}
