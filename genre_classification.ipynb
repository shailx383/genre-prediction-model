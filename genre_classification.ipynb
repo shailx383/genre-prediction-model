{
 "cells": [
  {
   "attachments": {},
   "cell_type": "markdown",
   "metadata": {},
   "source": [
    "# PREDICTION OF MUSIC GENRE BASED ON SOUND FEATURES AND TRACK TITLES"
   ]
  },
  {
   "attachments": {},
   "cell_type": "markdown",
   "metadata": {},
   "source": [
    "### By Shailesh Rao "
   ]
  },
  {
   "attachments": {},
   "cell_type": "markdown",
   "metadata": {},
   "source": [
    "#### Importing necessary libraries:"
   ]
  },
  {
   "cell_type": "code",
   "execution_count": 413,
   "metadata": {},
   "outputs": [],
   "source": [
    "import pandas as pd\n",
    "import numpy as np\n",
    "import matplotlib.pyplot as plt\n",
    "import seaborn as sns\n",
    "import plotly.express as px\n",
    "%matplotlib inline\n",
    "from sklearn.model_selection import train_test_split\n",
    "from sklearn.preprocessing import MinMaxScaler\n"
   ]
  },
  {
   "cell_type": "code",
   "execution_count": 414,
   "metadata": {},
   "outputs": [],
   "source": [
    "from tensorflow.keras.models import Sequential\n",
    "from tensorflow.keras.layers import Dense, Flatten"
   ]
  },
  {
   "cell_type": "code",
   "execution_count": 415,
   "metadata": {},
   "outputs": [],
   "source": [
    "from tensorflow.keras.callbacks import EarlyStopping"
   ]
  },
  {
   "attachments": {},
   "cell_type": "markdown",
   "metadata": {},
   "source": [
    "#### Setting client environment variables to use Spotify Dev API"
   ]
  },
  {
   "cell_type": "code",
   "execution_count": 416,
   "metadata": {},
   "outputs": [],
   "source": [
    "import os\n",
    "os.environ['SPOTIPY_CLIENT_ID'] = \"d3be1890719e4602b27e53e4aed18e41\"\n",
    "os.environ['SPOTIPY_CLIENT_SECRET'] = \"31a192e4f8404ac398e28314a08161ec\"\n",
    "os.environ['SPOTIPY_REDIRECT_URI'] = \"https://localhost:8080\""
   ]
  },
  {
   "cell_type": "code",
   "execution_count": 417,
   "metadata": {},
   "outputs": [],
   "source": [
    "import spotipy\n",
    "import spotipy.util as util\n",
    "from spotipy.oauth2 import SpotifyClientCredentials \n",
    "client_id = os.environ.get(\"SPOTIPY_CLIENT_ID\")\n",
    "client_secret = os.environ.get(\"SPOTIPY_CLIENT_SECRET\")\n",
    "client_credentials_manager = SpotifyClientCredentials(client_id=client_id, client_secret=client_secret)\n",
    "sp = spotipy.Spotify(client_credentials_manager=client_credentials_manager) "
   ]
  },
  {
   "cell_type": "code",
   "execution_count": 418,
   "metadata": {},
   "outputs": [],
   "source": [
    "token = util.prompt_for_user_token(\"31zahq3gf5zm3oansaxx76hufvpm\")"
   ]
  },
  {
   "attachments": {},
   "cell_type": "markdown",
   "metadata": {},
   "source": [
    "#### Example of extraction of audio features for a particular track:"
   ]
  },
  {
   "cell_type": "code",
   "execution_count": 419,
   "metadata": {},
   "outputs": [
    {
     "data": {
      "text/plain": [
       "[{'danceability': 0.41,\n",
       "  'energy': 0.455,\n",
       "  'key': 4,\n",
       "  'loudness': -8.071,\n",
       "  'mode': 1,\n",
       "  'speechiness': 0.0316,\n",
       "  'acousticness': 0.731,\n",
       "  'instrumentalness': 0,\n",
       "  'liveness': 0.185,\n",
       "  'valence': 0.361,\n",
       "  'tempo': 90.993,\n",
       "  'type': 'audio_features',\n",
       "  'id': '55LK166LWHOpXOroZ5g82J',\n",
       "  'uri': 'spotify:track:55LK166LWHOpXOroZ5g82J',\n",
       "  'track_href': 'https://api.spotify.com/v1/tracks/55LK166LWHOpXOroZ5g82J',\n",
       "  'analysis_url': 'https://api.spotify.com/v1/audio-analysis/55LK166LWHOpXOroZ5g82J',\n",
       "  'duration_ms': 243592,\n",
       "  'time_signature': 4}]"
      ]
     },
     "execution_count": 419,
     "metadata": {},
     "output_type": "execute_result"
    }
   ],
   "source": [
    "sp.audio_features([\"55LK166LWHOpXOroZ5g82J\"])"
   ]
  },
  {
   "cell_type": "code",
   "execution_count": 420,
   "metadata": {},
   "outputs": [],
   "source": [
    "def get_album_track_features(album_url):\n",
    "    '''computes features of all the tracks in a given album'''\n",
    "    album = sp.album(album_url)\n",
    "    artist = album[\"artists\"][0][\"name\"] \n",
    "    tracks = sp.album_tracks(album_url)\n",
    "    track_list = tracks[\"items\"]\n",
    "    id_list = []\n",
    "    for track in track_list:\n",
    "      id_list.append(track[\"id\"]) \n",
    "    feature_list = sp.audio_features(id_list)\n",
    "    for i in range(len(feature_list)):\n",
    "      feature_list[i][\"track_name\"] = sp.track(feature_list[i][\"id\"])[\"name\"]\n",
    "      feature_list[i][\"artist\"] = artist\n",
    "    return feature_list"
   ]
  },
  {
   "cell_type": "code",
   "execution_count": 421,
   "metadata": {},
   "outputs": [],
   "source": [
    "def clean_dataframe(df):\n",
    "    '''removes unnecessary features'''\n",
    "    return df.drop([\"type\", \"id\", \"uri\", \"track_href\", \"analysis_url\"], axis = 1)"
   ]
  },
  {
   "cell_type": "code",
   "execution_count": 422,
   "metadata": {},
   "outputs": [],
   "source": [
    "def extract(url):\n",
    "    '''extracts features from album and creates dataframe'''\n",
    "    return clean_dataframe(pd.DataFrame(get_album_track_features(url)))"
   ]
  },
  {
   "attachments": {},
   "cell_type": "markdown",
   "metadata": {},
   "source": [
    "> genres: \n",
    ">>1. POP\n",
    ">>2. RAP\n",
    ">>3. CLASSICAL\n",
    ">>4. ROCK\n",
    ">>5. LO-FI"
   ]
  },
  {
   "attachments": {},
   "cell_type": "markdown",
   "metadata": {},
   "source": [
    "### POP"
   ]
  },
  {
   "cell_type": "code",
   "execution_count": 423,
   "metadata": {},
   "outputs": [],
   "source": [
    "#Extracting songs from albums of artists like Taylor Swift, Lady Gaga, BTS, etc.\n",
    "\n",
    "pop_df = pd.concat([\n",
    "    extract(\"https://open.spotify.com/album/6rWmdSJIaGTVtdMJQ35Lvf?si=JHyCkvRrQNiXNrDCRcdLtw\"),\n",
    "    extract(\"https://open.spotify.com/album/151w1FgRZfnKZA9FEcg9Z3?si=Moj2qaemTVKlmGP6DieeQA\"),\n",
    "    extract(\"https://open.spotify.com/album/1yGbNOtRIgdIiGHOEBaZWf?si=_J3HG9ssQAWvz-mpJOkcuA\"),\n",
    "    extract(\"https://open.spotify.com/album/2fYhqwDWXjbpjaIJPEfKFw?si=3VwXm-BSSdCUSl_zE0V-HQ\"),\n",
    "    extract(\"https://open.spotify.com/album/74vajFwEwXJ61OW1DKSPEa?si=B3E-lL0jTiGldOoFYD6Yaw\"),\n",
    "    extract(\"https://open.spotify.com/album/3jB9yFDwRe3KhtGnHXJntk?si=w0Vo9UjmQAmgjZAkL4V2dw\"),\n",
    "    extract(\"https://open.spotify.com/album/06SY6Ke6mXzZHhURLVU57R?si=q3HddAP2SCKMzSQJPJ_rZw\"),\n",
    "    extract(\"https://open.spotify.com/album/2X8UOIkZQdcz2Hi5Ynt2uk?si=0w7GJ3j2Qmm3AbuiVCS-cA\"),\n",
    "    extract(\"https://open.spotify.com/album/7pomP86PUhoJpY3fsC0WDQ?si=-Kq_eLjNT8y87-C3IIFpag\"),\n",
    "    extract(\"https://open.spotify.com/album/2JTn8KdFeeS4nVz4TTfUpS?si=mipBz_bIS7OAUH0ZI6wF0w\"),\n",
    "    extract(\"https://open.spotify.com/album/4TqgXMSSTwP3RCo3MMSR6t?si=8MTMOTxBTHaF0trnGXGFbw\"),\n",
    "    extract(\"https://open.spotify.com/album/6rePArBMb5nLWEaY9aQqL4?si=NF-r3HZiQKix_xx8zkhpMQ\"),\n",
    "    extract(\"https://open.spotify.com/album/6LY3AerY6KNGOPsNPL63Kk?si=AxScfHPsTp6JnDr1Y2FMdw\"),\n",
    "    extract(\"https://open.spotify.com/album/4yP0hdKOZPNshxUOjY0cZj?si=0AvKo-yBTJ2Y2T7yGKt9zw\"),\n",
    "    extract(\"https://open.spotify.com/album/2ODvWsOgouMbaA5xf0RkJe?si=cvVzoS-QQDO_wNRkvgdtEA\"),\n",
    "])"
   ]
  },
  {
   "cell_type": "code",
   "execution_count": 424,
   "metadata": {},
   "outputs": [],
   "source": [
    "#Setting a genre column, marking all these songs as Pop\n",
    "pop_df[\"genre\"] = \"POP\""
   ]
  },
  {
   "cell_type": "code",
   "execution_count": 425,
   "metadata": {},
   "outputs": [
    {
     "data": {
      "text/plain": [
       "(263, 16)"
      ]
     },
     "execution_count": 425,
     "metadata": {},
     "output_type": "execute_result"
    }
   ],
   "source": [
    "pop_df.shape\n"
   ]
  },
  {
   "attachments": {},
   "cell_type": "markdown",
   "metadata": {},
   "source": [
    "### RAP"
   ]
  },
  {
   "cell_type": "code",
   "execution_count": 426,
   "metadata": {},
   "outputs": [],
   "source": [
    "rap_df = pd.concat([\n",
    "    extract(\"https://open.spotify.com/album/2rLqUcipEjIKK9rma5OTN8?si=e_73kTEKQiWBjO8Pwng6rA\"),\n",
    "    extract(\"https://open.spotify.com/album/39xhYyNNDatQtgKw2KdXMz?si=ryswBiMjThOCvQIYT6-dyQ\"),\n",
    "    extract(\"https://open.spotify.com/album/26ztFK3E69j5THJQdyxC5w?si=HgPULiFtSH2SjxNd-vz6hQ\"),\n",
    "    extract(\"https://open.spotify.com/album/3aTuW4BtsyyyyQa9LKqj8n?si=t0_RdwjhTlazUMHFKRtrYg\"),\n",
    "    extract(\"https://open.spotify.com/album/3MKvhQoFSrR2PrxXXBHe9B?si=k62w5CCXQV6dFT0868xVnw\"),\n",
    "    extract(\"https://open.spotify.com/album/0U6ldwLBEMkwgfQRY4V6D2?si=jNOUTyZwQHiJh7iIl0x_rg\"),\n",
    "    extract(\"https://open.spotify.com/album/4eLPsYPBmXABThSJ821sqY?si=2FYdMNDwRQyllmgBI52lKQ\"),\n",
    "    extract(\"https://open.spotify.com/album/79ONNoS4M9tfIA1mYLBYVX?si=_8doUSyfTGKtt_VQLzalUA\"),\n",
    "    extract(\"https://open.spotify.com/album/3SpBlxme9WbeQdI9kx7KAV?si=YX_jyN46ShWbGRAToEqsWw\"),\n",
    "    extract(\"https://open.spotify.com/album/5MS3MvWHJ3lOZPLiMxzOU6?si=xw66Kvk7Rca40emk8-rFwA\"),\n",
    "    extract(\"https://open.spotify.com/album/1epY9c6AGBfirYxDA9exOB?si=rW6EurhtS0ySHZsFB3W_ug\"),\n",
    "    extract(\"https://open.spotify.com/album/4JAvwK4APPArjIsOdGoJXX?si=rGVCQ3C1QHSBFOWanaeY7w\"),\n",
    "    extract(\"https://open.spotify.com/album/4Wv5UAieM1LDEYVq5WmqDd?si=tWLOIbSlRDaOn95kqb0tZQ\"),\n",
    "    extract(\"https://open.spotify.com/album/41GuZcammIkupMPKH2OJ6I?si=Shg1KihGTB2hLGR_IWXbpA\"),\n",
    "    extract(\"https://open.spotify.com/album/42WVQWuf1teDysXiOupIZt?si=KJzZKHojRGimvyiAMpfxtA\"),\n",
    "])"
   ]
  },
  {
   "cell_type": "code",
   "execution_count": 427,
   "metadata": {},
   "outputs": [],
   "source": [
    "rap_df[\"genre\"] = \"RAP\""
   ]
  },
  {
   "cell_type": "code",
   "execution_count": 428,
   "metadata": {},
   "outputs": [
    {
     "data": {
      "text/plain": [
       "(310, 16)"
      ]
     },
     "execution_count": 428,
     "metadata": {},
     "output_type": "execute_result"
    }
   ],
   "source": [
    "rap_df.shape"
   ]
  },
  {
   "attachments": {},
   "cell_type": "markdown",
   "metadata": {},
   "source": [
    "### CLASSICAL"
   ]
  },
  {
   "cell_type": "code",
   "execution_count": 429,
   "metadata": {},
   "outputs": [],
   "source": [
    "classical_df = pd.concat([\n",
    "    extract(\"https://open.spotify.com/album/7i48AP6XdHz4RVvWg1liMw?si=PvYU1svrQVi3enLK9hY8dA\"),\n",
    "    extract(\"https://open.spotify.com/album/4JPDEqeaiXpxOFC5T071jF?si=Vmuw8Y52RTy2AzPEit84Xw\"),\n",
    "    extract(\"https://open.spotify.com/album/1JaRlop7F6oMMCjCqmmEHm?si=dZwVVbxmRXq9yuI0QBf4cw\"),\n",
    "    extract(\"https://open.spotify.com/album/6mwd9lous9aGi5unVn4uLy?si=eNKX0nlBQw2A6vVOvnJc1w\"),\n",
    "    extract(\"https://open.spotify.com/album/62BhnZaxCiFKSFoJ7YhqQM?si=FG-f08YmTWuZIQtRAzjTeQ\"),\n",
    "    extract(\"https://open.spotify.com/album/5GaJZ4fUy8qYNz0Nbhkc5O?si=ImnFM1EOQEKvWtlY5KLA4A\")\n",
    "])"
   ]
  },
  {
   "cell_type": "code",
   "execution_count": 430,
   "metadata": {},
   "outputs": [],
   "source": [
    "classical_df[\"genre\"] = \"CLASSICAL\""
   ]
  },
  {
   "cell_type": "code",
   "execution_count": 431,
   "metadata": {},
   "outputs": [
    {
     "data": {
      "text/plain": [
       "(253, 16)"
      ]
     },
     "execution_count": 431,
     "metadata": {},
     "output_type": "execute_result"
    }
   ],
   "source": [
    "classical_df.shape\n"
   ]
  },
  {
   "cell_type": "code",
   "execution_count": 432,
   "metadata": {},
   "outputs": [],
   "source": [
    "def artist_tracks_df(id):\n",
    "    '''retrieving all the tracks from a particular artist'''\n",
    "    albums = sp.artist_albums(id)[\"items\"]\n",
    "    df = extract(albums[0][\"id\"])\n",
    "    for i in range(1, len(albums)):\n",
    "        df = pd.concat([df, extract(albums[i][\"id\"])])\n",
    "    return df"
   ]
  },
  {
   "attachments": {},
   "cell_type": "markdown",
   "metadata": {},
   "source": [
    "### ROCK"
   ]
  },
  {
   "cell_type": "code",
   "execution_count": 433,
   "metadata": {},
   "outputs": [],
   "source": [
    "rock_df = artist_tracks_df(\"https://open.spotify.com/artist/711MCceyCBcFnzjGY4Q7Un?si=xJJJuInPTm6slnYF1S7iSw\")"
   ]
  },
  {
   "cell_type": "code",
   "execution_count": 434,
   "metadata": {},
   "outputs": [],
   "source": [
    "rock_df = pd.concat([rock_df, \n",
    "extract(\"https://open.spotify.com/album/6i6folBtxKV28WX3msQ4FE?si=gkDFryXOSj-C8tnQlqaJWg\"),\n",
    "extract(\"https://open.spotify.com/album/4vQ96yyyYbaeTQujH3iTtd?si=hdpFocTQTS-Olgc5WPBN6g\")])"
   ]
  },
  {
   "cell_type": "code",
   "execution_count": 435,
   "metadata": {},
   "outputs": [
    {
     "data": {
      "text/plain": [
       "(269, 15)"
      ]
     },
     "execution_count": 435,
     "metadata": {},
     "output_type": "execute_result"
    }
   ],
   "source": [
    "rock_df.shape"
   ]
  },
  {
   "cell_type": "code",
   "execution_count": 436,
   "metadata": {},
   "outputs": [],
   "source": [
    "rock_df[\"genre\"] = \"ROCK\""
   ]
  },
  {
   "cell_type": "code",
   "execution_count": 437,
   "metadata": {},
   "outputs": [
    {
     "data": {
      "text/plain": [
       "[{'external_urls': {'spotify': 'https://open.spotify.com/artist/5XE0fiZWGbq9TcSuWwJ1fA'},\n",
       "  'href': 'https://api.spotify.com/v1/artists/5XE0fiZWGbq9TcSuWwJ1fA',\n",
       "  'id': '5XE0fiZWGbq9TcSuWwJ1fA',\n",
       "  'name': 'potsu',\n",
       "  'type': 'artist',\n",
       "  'uri': 'spotify:artist:5XE0fiZWGbq9TcSuWwJ1fA'}]"
      ]
     },
     "execution_count": 437,
     "metadata": {},
     "output_type": "execute_result"
    }
   ],
   "source": [
    "sp.track(\"https://open.spotify.com/track/3NsuucK8qXpIJf7KPZX7vq?si=1d39e85dd7ff457b\")[\"artists\"]"
   ]
  },
  {
   "attachments": {},
   "cell_type": "markdown",
   "metadata": {},
   "source": [
    "### LO-FI"
   ]
  },
  {
   "cell_type": "code",
   "execution_count": 438,
   "metadata": {},
   "outputs": [],
   "source": [
    "def playlist_tracks_df(url):\n",
    "    tracks = sp.playlist_tracks(url)\n",
    "    id_list = [track[\"track\"][\"id\"] for track in tracks[\"items\"]]\n",
    "    feature_list = sp.audio_features(id_list)\n",
    "    for i in range(len(feature_list)):\n",
    "      feature_list[i][\"track_name\"] = sp.track(feature_list[i][\"id\"])[\"name\"]\n",
    "      feature_list[i][\"artist\"] = sp.track(feature_list[i][\"id\"])[\"artists\"][0][\"name\"]\n",
    "    return pd.DataFrame(feature_list).drop([\"type\", \"id\", \"uri\", \"track_href\", \"analysis_url\"], axis = 1)\n",
    "    "
   ]
  },
  {
   "cell_type": "code",
   "execution_count": 439,
   "metadata": {},
   "outputs": [],
   "source": [
    "lofi_df = playlist_tracks_df(\"https://open.spotify.com/playlist/3c8ldkG5SDSxFa63dqxGaG?si=7ce4ea3d60c74113\")"
   ]
  },
  {
   "cell_type": "code",
   "execution_count": 440,
   "metadata": {},
   "outputs": [],
   "source": [
    "lofi_df = pd.concat([lofi_df, \n",
    "playlist_tracks_df(\"https://open.spotify.com/playlist/37i9dQZF1E4zBNcvdDKzDT?si=7b1fc3edd3f047b9\"),\n",
    "playlist_tracks_df(\"https://open.spotify.com/playlist/37i9dQZF1DZ06evO4sQrwQ?si=2b9ef96c11a34616\"),\n",
    "extract(\"https://open.spotify.com/album/1rgkVX1LxjfqfHcmfVmAjO?si=o0TAKeFbQfuvHTyR0dCsLA\"),\n",
    "extract(\"https://open.spotify.com/album/5md42pMwna0deA7qlQdJ2U?si=WCLtT-DLRZmjhAQNi1akXw\")])"
   ]
  },
  {
   "cell_type": "code",
   "execution_count": 441,
   "metadata": {},
   "outputs": [
    {
     "data": {
      "text/html": [
       "<div>\n",
       "<style scoped>\n",
       "    .dataframe tbody tr th:only-of-type {\n",
       "        vertical-align: middle;\n",
       "    }\n",
       "\n",
       "    .dataframe tbody tr th {\n",
       "        vertical-align: top;\n",
       "    }\n",
       "\n",
       "    .dataframe thead th {\n",
       "        text-align: right;\n",
       "    }\n",
       "</style>\n",
       "<table border=\"1\" class=\"dataframe\">\n",
       "  <thead>\n",
       "    <tr style=\"text-align: right;\">\n",
       "      <th></th>\n",
       "      <th>danceability</th>\n",
       "      <th>energy</th>\n",
       "      <th>key</th>\n",
       "      <th>loudness</th>\n",
       "      <th>mode</th>\n",
       "      <th>speechiness</th>\n",
       "      <th>acousticness</th>\n",
       "      <th>instrumentalness</th>\n",
       "      <th>liveness</th>\n",
       "      <th>valence</th>\n",
       "      <th>tempo</th>\n",
       "      <th>duration_ms</th>\n",
       "      <th>time_signature</th>\n",
       "      <th>track_name</th>\n",
       "      <th>artist</th>\n",
       "    </tr>\n",
       "  </thead>\n",
       "  <tbody>\n",
       "    <tr>\n",
       "      <th>0</th>\n",
       "      <td>0.895</td>\n",
       "      <td>0.1090</td>\n",
       "      <td>0</td>\n",
       "      <td>-13.853</td>\n",
       "      <td>0</td>\n",
       "      <td>0.0996</td>\n",
       "      <td>0.5340</td>\n",
       "      <td>0.549</td>\n",
       "      <td>0.1060</td>\n",
       "      <td>0.5460</td>\n",
       "      <td>134.067</td>\n",
       "      <td>118302</td>\n",
       "      <td>4</td>\n",
       "      <td>i'm closing my eyes</td>\n",
       "      <td>potsu</td>\n",
       "    </tr>\n",
       "    <tr>\n",
       "      <th>1</th>\n",
       "      <td>0.797</td>\n",
       "      <td>0.0832</td>\n",
       "      <td>11</td>\n",
       "      <td>-12.673</td>\n",
       "      <td>1</td>\n",
       "      <td>0.2030</td>\n",
       "      <td>0.4840</td>\n",
       "      <td>0.810</td>\n",
       "      <td>0.2390</td>\n",
       "      <td>0.5100</td>\n",
       "      <td>160.048</td>\n",
       "      <td>131000</td>\n",
       "      <td>4</td>\n",
       "      <td>thinking of you</td>\n",
       "      <td>mommy</td>\n",
       "    </tr>\n",
       "    <tr>\n",
       "      <th>2</th>\n",
       "      <td>0.788</td>\n",
       "      <td>0.4460</td>\n",
       "      <td>6</td>\n",
       "      <td>-9.812</td>\n",
       "      <td>1</td>\n",
       "      <td>0.0693</td>\n",
       "      <td>0.5400</td>\n",
       "      <td>0.694</td>\n",
       "      <td>0.2730</td>\n",
       "      <td>0.5450</td>\n",
       "      <td>80.033</td>\n",
       "      <td>108000</td>\n",
       "      <td>4</td>\n",
       "      <td>controlla</td>\n",
       "      <td>Idealism</td>\n",
       "    </tr>\n",
       "    <tr>\n",
       "      <th>3</th>\n",
       "      <td>0.717</td>\n",
       "      <td>0.1930</td>\n",
       "      <td>9</td>\n",
       "      <td>-16.141</td>\n",
       "      <td>0</td>\n",
       "      <td>0.0459</td>\n",
       "      <td>0.8020</td>\n",
       "      <td>0.893</td>\n",
       "      <td>0.0653</td>\n",
       "      <td>0.0447</td>\n",
       "      <td>109.992</td>\n",
       "      <td>195136</td>\n",
       "      <td>4</td>\n",
       "      <td>Snowman</td>\n",
       "      <td>WYS</td>\n",
       "    </tr>\n",
       "    <tr>\n",
       "      <th>4</th>\n",
       "      <td>0.790</td>\n",
       "      <td>0.4460</td>\n",
       "      <td>9</td>\n",
       "      <td>-9.273</td>\n",
       "      <td>0</td>\n",
       "      <td>0.0520</td>\n",
       "      <td>0.6560</td>\n",
       "      <td>0.931</td>\n",
       "      <td>0.0933</td>\n",
       "      <td>0.2220</td>\n",
       "      <td>80.002</td>\n",
       "      <td>114203</td>\n",
       "      <td>4</td>\n",
       "      <td>The Girl With the Cappuccino</td>\n",
       "      <td>LoFi Waiter</td>\n",
       "    </tr>\n",
       "    <tr>\n",
       "      <th>...</th>\n",
       "      <td>...</td>\n",
       "      <td>...</td>\n",
       "      <td>...</td>\n",
       "      <td>...</td>\n",
       "      <td>...</td>\n",
       "      <td>...</td>\n",
       "      <td>...</td>\n",
       "      <td>...</td>\n",
       "      <td>...</td>\n",
       "      <td>...</td>\n",
       "      <td>...</td>\n",
       "      <td>...</td>\n",
       "      <td>...</td>\n",
       "      <td>...</td>\n",
       "      <td>...</td>\n",
       "    </tr>\n",
       "    <tr>\n",
       "      <th>21</th>\n",
       "      <td>0.548</td>\n",
       "      <td>0.4480</td>\n",
       "      <td>9</td>\n",
       "      <td>-7.356</td>\n",
       "      <td>1</td>\n",
       "      <td>0.0435</td>\n",
       "      <td>0.9730</td>\n",
       "      <td>0.929</td>\n",
       "      <td>0.1220</td>\n",
       "      <td>0.1130</td>\n",
       "      <td>78.107</td>\n",
       "      <td>76923</td>\n",
       "      <td>4</td>\n",
       "      <td>Lonely Destiny</td>\n",
       "      <td>Jamie Lean</td>\n",
       "    </tr>\n",
       "    <tr>\n",
       "      <th>22</th>\n",
       "      <td>0.629</td>\n",
       "      <td>0.3470</td>\n",
       "      <td>2</td>\n",
       "      <td>-10.006</td>\n",
       "      <td>1</td>\n",
       "      <td>0.0367</td>\n",
       "      <td>0.9660</td>\n",
       "      <td>0.967</td>\n",
       "      <td>0.0952</td>\n",
       "      <td>0.2170</td>\n",
       "      <td>72.489</td>\n",
       "      <td>93333</td>\n",
       "      <td>4</td>\n",
       "      <td>Soften Wave</td>\n",
       "      <td>Jamie Lean</td>\n",
       "    </tr>\n",
       "    <tr>\n",
       "      <th>23</th>\n",
       "      <td>0.756</td>\n",
       "      <td>0.3160</td>\n",
       "      <td>1</td>\n",
       "      <td>-11.038</td>\n",
       "      <td>1</td>\n",
       "      <td>0.0805</td>\n",
       "      <td>0.9820</td>\n",
       "      <td>0.936</td>\n",
       "      <td>0.1050</td>\n",
       "      <td>0.4120</td>\n",
       "      <td>90.017</td>\n",
       "      <td>96000</td>\n",
       "      <td>4</td>\n",
       "      <td>Still Need Song</td>\n",
       "      <td>Jamie Lean</td>\n",
       "    </tr>\n",
       "    <tr>\n",
       "      <th>24</th>\n",
       "      <td>0.624</td>\n",
       "      <td>0.3970</td>\n",
       "      <td>11</td>\n",
       "      <td>-7.480</td>\n",
       "      <td>0</td>\n",
       "      <td>0.0270</td>\n",
       "      <td>0.0490</td>\n",
       "      <td>0.843</td>\n",
       "      <td>0.1140</td>\n",
       "      <td>0.1290</td>\n",
       "      <td>70.005</td>\n",
       "      <td>94286</td>\n",
       "      <td>4</td>\n",
       "      <td>This Is Love</td>\n",
       "      <td>Jamie Lean</td>\n",
       "    </tr>\n",
       "    <tr>\n",
       "      <th>25</th>\n",
       "      <td>0.752</td>\n",
       "      <td>0.5110</td>\n",
       "      <td>5</td>\n",
       "      <td>-8.686</td>\n",
       "      <td>0</td>\n",
       "      <td>0.0562</td>\n",
       "      <td>0.0187</td>\n",
       "      <td>0.634</td>\n",
       "      <td>0.0976</td>\n",
       "      <td>0.3040</td>\n",
       "      <td>140.056</td>\n",
       "      <td>96000</td>\n",
       "      <td>4</td>\n",
       "      <td>Wind Down</td>\n",
       "      <td>Jamie Lean</td>\n",
       "    </tr>\n",
       "  </tbody>\n",
       "</table>\n",
       "<p>242 rows × 15 columns</p>\n",
       "</div>"
      ],
      "text/plain": [
       "    danceability  energy  key  loudness  mode  speechiness  acousticness  \\\n",
       "0          0.895  0.1090    0   -13.853     0       0.0996        0.5340   \n",
       "1          0.797  0.0832   11   -12.673     1       0.2030        0.4840   \n",
       "2          0.788  0.4460    6    -9.812     1       0.0693        0.5400   \n",
       "3          0.717  0.1930    9   -16.141     0       0.0459        0.8020   \n",
       "4          0.790  0.4460    9    -9.273     0       0.0520        0.6560   \n",
       "..           ...     ...  ...       ...   ...          ...           ...   \n",
       "21         0.548  0.4480    9    -7.356     1       0.0435        0.9730   \n",
       "22         0.629  0.3470    2   -10.006     1       0.0367        0.9660   \n",
       "23         0.756  0.3160    1   -11.038     1       0.0805        0.9820   \n",
       "24         0.624  0.3970   11    -7.480     0       0.0270        0.0490   \n",
       "25         0.752  0.5110    5    -8.686     0       0.0562        0.0187   \n",
       "\n",
       "    instrumentalness  liveness  valence    tempo  duration_ms  time_signature  \\\n",
       "0              0.549    0.1060   0.5460  134.067       118302               4   \n",
       "1              0.810    0.2390   0.5100  160.048       131000               4   \n",
       "2              0.694    0.2730   0.5450   80.033       108000               4   \n",
       "3              0.893    0.0653   0.0447  109.992       195136               4   \n",
       "4              0.931    0.0933   0.2220   80.002       114203               4   \n",
       "..               ...       ...      ...      ...          ...             ...   \n",
       "21             0.929    0.1220   0.1130   78.107        76923               4   \n",
       "22             0.967    0.0952   0.2170   72.489        93333               4   \n",
       "23             0.936    0.1050   0.4120   90.017        96000               4   \n",
       "24             0.843    0.1140   0.1290   70.005        94286               4   \n",
       "25             0.634    0.0976   0.3040  140.056        96000               4   \n",
       "\n",
       "                      track_name       artist  \n",
       "0            i'm closing my eyes        potsu  \n",
       "1                thinking of you        mommy  \n",
       "2                      controlla     Idealism  \n",
       "3                        Snowman          WYS  \n",
       "4   The Girl With the Cappuccino  LoFi Waiter  \n",
       "..                           ...          ...  \n",
       "21                Lonely Destiny   Jamie Lean  \n",
       "22                   Soften Wave   Jamie Lean  \n",
       "23               Still Need Song   Jamie Lean  \n",
       "24                  This Is Love   Jamie Lean  \n",
       "25                     Wind Down   Jamie Lean  \n",
       "\n",
       "[242 rows x 15 columns]"
      ]
     },
     "execution_count": 441,
     "metadata": {},
     "output_type": "execute_result"
    }
   ],
   "source": [
    "lofi_df"
   ]
  },
  {
   "cell_type": "code",
   "execution_count": 442,
   "metadata": {},
   "outputs": [],
   "source": [
    "lofi_df[\"genre\"] = \"LOFI\""
   ]
  },
  {
   "cell_type": "code",
   "execution_count": 443,
   "metadata": {},
   "outputs": [],
   "source": [
    "genre_df = pd.concat([pop_df, rap_df, classical_df, lofi_df, rock_df])"
   ]
  },
  {
   "attachments": {},
   "cell_type": "markdown",
   "metadata": {},
   "source": [
    "*EDA*"
   ]
  },
  {
   "attachments": {},
   "cell_type": "markdown",
   "metadata": {},
   "source": [
    "danceability"
   ]
  },
  {
   "cell_type": "code",
   "execution_count": 444,
   "metadata": {},
   "outputs": [
    {
     "data": {
      "text/plain": [
       "<AxesSubplot:xlabel='genre', ylabel='danceability'>"
      ]
     },
     "execution_count": 444,
     "metadata": {},
     "output_type": "execute_result"
    },
    {
     "data": {
      "image/png": "[encoded data removed]",
      "text/plain": [
       "<Figure size 432x288 with 1 Axes>"
      ]
     },
     "metadata": {
      "needs_background": "light"
     },
     "output_type": "display_data"
    }
   ],
   "source": [
    "sns.boxplot(x = genre_df['genre'], y = genre_df['danceability'])"
   ]
  },
  {
   "attachments": {},
   "cell_type": "markdown",
   "metadata": {},
   "source": [
    "energy"
   ]
  },
  {
   "cell_type": "code",
   "execution_count": 445,
   "metadata": {},
   "outputs": [
    {
     "data": {
      "text/plain": [
       "<AxesSubplot:xlabel='genre', ylabel='energy'>"
      ]
     },
     "execution_count": 445,
     "metadata": {},
     "output_type": "execute_result"
    },
    {
     "data": {
      "image/png": "[encoded data removed]",
      "text/plain": [
       "<Figure size 432x288 with 1 Axes>"
      ]
     },
     "metadata": {
      "needs_background": "light"
     },
     "output_type": "display_data"
    }
   ],
   "source": [
    "sns.boxplot(x = genre_df['genre'], y = genre_df['energy'])"
   ]
  },
  {
   "attachments": {},
   "cell_type": "markdown",
   "metadata": {},
   "source": [
    "loudness"
   ]
  },
  {
   "cell_type": "code",
   "execution_count": 446,
   "metadata": {},
   "outputs": [
    {
     "data": {
      "text/plain": [
       "<AxesSubplot:xlabel='genre', ylabel='loudness'>"
      ]
     },
     "execution_count": 446,
     "metadata": {},
     "output_type": "execute_result"
    },
    {
     "data": {
      "image/png": "[encoded data removed]",
      "text/plain": [
       "<Figure size 432x288 with 1 Axes>"
      ]
     },
     "metadata": {
      "needs_background": "light"
     },
     "output_type": "display_data"
    }
   ],
   "source": [
    "sns.boxplot(x = genre_df['genre'], y = genre_df['loudness'])"
   ]
  },
  {
   "attachments": {},
   "cell_type": "markdown",
   "metadata": {},
   "source": [
    "speechiness"
   ]
  },
  {
   "cell_type": "code",
   "execution_count": 447,
   "metadata": {},
   "outputs": [
    {
     "data": {
      "text/plain": [
       "<AxesSubplot:xlabel='genre', ylabel='speechiness'>"
      ]
     },
     "execution_count": 447,
     "metadata": {},
     "output_type": "execute_result"
    },
    {
     "data": {
      "image/png": "[encoded data removed]",
      "text/plain": [
       "<Figure size 432x288 with 1 Axes>"
      ]
     },
     "metadata": {
      "needs_background": "light"
     },
     "output_type": "display_data"
    }
   ],
   "source": [
    "sns.boxplot(x = genre_df['genre'], y = genre_df['speechiness'])"
   ]
  },
  {
   "attachments": {},
   "cell_type": "markdown",
   "metadata": {},
   "source": [
    "acousticness"
   ]
  },
  {
   "cell_type": "code",
   "execution_count": 448,
   "metadata": {},
   "outputs": [
    {
     "data": {
      "text/plain": [
       "<AxesSubplot:xlabel='genre', ylabel='acousticness'>"
      ]
     },
     "execution_count": 448,
     "metadata": {},
     "output_type": "execute_result"
    },
    {
     "data": {
      "image/png": "[encoded data removed]",
      "text/plain": [
       "<Figure size 432x288 with 1 Axes>"
      ]
     },
     "metadata": {
      "needs_background": "light"
     },
     "output_type": "display_data"
    }
   ],
   "source": [
    "sns.boxplot(x = genre_df['genre'], y = genre_df['acousticness'])"
   ]
  },
  {
   "cell_type": "markdown",
   "metadata": {},
   "source": [
    "instrumentalness"
   ]
  },
  {
   "cell_type": "code",
   "execution_count": 449,
   "metadata": {},
   "outputs": [
    {
     "data": {
      "text/plain": [
       "<AxesSubplot:xlabel='genre', ylabel='instrumentalness'>"
      ]
     },
     "execution_count": 449,
     "metadata": {},
     "output_type": "execute_result"
    },
    {
     "data": {
      "image/png": "[encoded data removed]",
      "text/plain": [
       "<Figure size 432x288 with 1 Axes>"
      ]
     },
     "metadata": {
      "needs_background": "light"
     },
     "output_type": "display_data"
    }
   ],
   "source": [
    "sns.boxplot(x = genre_df['genre'], y = genre_df['instrumentalness'])"
   ]
  },
  {
   "attachments": {},
   "cell_type": "markdown",
   "metadata": {},
   "source": [
    "liveness"
   ]
  },
  {
   "cell_type": "code",
   "execution_count": 450,
   "metadata": {},
   "outputs": [
    {
     "data": {
      "text/plain": [
       "<AxesSubplot:xlabel='genre', ylabel='liveness'>"
      ]
     },
     "execution_count": 450,
     "metadata": {},
     "output_type": "execute_result"
    },
    {
     "data": {
      "image/png": "[encoded data removed]",
      "text/plain": [
       "<Figure size 432x288 with 1 Axes>"
      ]
     },
     "metadata": {
      "needs_background": "light"
     },
     "output_type": "display_data"
    }
   ],
   "source": [
    "sns.boxplot(x = genre_df['genre'], y = genre_df['liveness'])"
   ]
  },
  {
   "attachments": {},
   "cell_type": "markdown",
   "metadata": {},
   "source": [
    "valence"
   ]
  },
  {
   "cell_type": "code",
   "execution_count": 451,
   "metadata": {},
   "outputs": [
    {
     "data": {
      "text/plain": [
       "<AxesSubplot:xlabel='genre', ylabel='valence'>"
      ]
     },
     "execution_count": 451,
     "metadata": {},
     "output_type": "execute_result"
    },
    {
     "data": {
      "image/png": "[encoded data removed]",
      "text/plain": [
       "<Figure size 432x288 with 1 Axes>"
      ]
     },
     "metadata": {
      "needs_background": "light"
     },
     "output_type": "display_data"
    }
   ],
   "source": [
    "sns.boxplot(x = genre_df['genre'], y = genre_df['valence'])"
   ]
  },
  {
   "attachments": {},
   "cell_type": "markdown",
   "metadata": {},
   "source": [
    "tempo"
   ]
  },
  {
   "cell_type": "code",
   "execution_count": 452,
   "metadata": {},
   "outputs": [
    {
     "data": {
      "text/plain": [
       "<AxesSubplot:xlabel='genre', ylabel='tempo'>"
      ]
     },
     "execution_count": 452,
     "metadata": {},
     "output_type": "execute_result"
    },
    {
     "data": {
      "image/png": "[encoded data removed]",
      "text/plain": [
       "<Figure size 432x288 with 1 Axes>"
      ]
     },
     "metadata": {
      "needs_background": "light"
     },
     "output_type": "display_data"
    }
   ],
   "source": [
    "sns.boxplot(x = genre_df['genre'], y = genre_df['tempo'])"
   ]
  },
  {
   "attachments": {},
   "cell_type": "markdown",
   "metadata": {},
   "source": [
    "duration"
   ]
  },
  {
   "cell_type": "code",
   "execution_count": 453,
   "metadata": {},
   "outputs": [
    {
     "data": {
      "text/plain": [
       "<AxesSubplot:xlabel='genre', ylabel='duration_ms'>"
      ]
     },
     "execution_count": 453,
     "metadata": {},
     "output_type": "execute_result"
    },
    {
     "data": {
      "image/png": "[encoded data removed]",
      "text/plain": [
       "<Figure size 432x288 with 1 Axes>"
      ]
     },
     "metadata": {
      "needs_background": "light"
     },
     "output_type": "display_data"
    }
   ],
   "source": [
    "sns.boxplot(x = genre_df['genre'], y = genre_df['duration_ms'])"
   ]
  },
  {
   "attachments": {},
   "cell_type": "markdown",
   "metadata": {},
   "source": [
    "key"
   ]
  },
  {
   "cell_type": "code",
   "execution_count": 454,
   "metadata": {},
   "outputs": [],
   "source": [
    "key_map =  {0: 'C',\n",
    "            1: 'C#',\n",
    "            2: 'D',\n",
    "            3: 'Eb',\n",
    "            4: 'E',\n",
    "            5: 'F',\n",
    "            6: 'F#',\n",
    "            7: 'G',\n",
    "            8: 'Ab',\n",
    "            9: 'A',\n",
    "            10:'Bb',\n",
    "            11: 'B'}\n",
    "genre_df[\"key\"] = genre_df[\"key\"].map(key_map)\n",
    "key = pd.get_dummies(genre_df['key'])\n",
    "genre_df = pd.concat([genre_df, key], axis = 1)\n",
    "genre_df.drop('key', axis = 1, inplace = True)\n",
    "\n",
    "\n",
    "key_df = pd.pivot_table(genre_df, \n",
    "                        values=['C', 'C#', 'D', 'Eb', 'E', 'F', 'F#', 'G', 'Ab', 'A', 'Bb', 'B'], \n",
    "                        index='genre', \n",
    "                        aggfunc={ \"C\": np.sum,\n",
    "                                    \"C#\": np.sum, \n",
    "                                    \"D\": np.sum, \n",
    "                                    \"Eb\": np.sum, \n",
    "                                    \"E\": np.sum,\n",
    "                                    \"F\": np.sum,\n",
    "                                    \"F#\": np.sum,\n",
    "                                    \"G\": np.sum,\n",
    "                                    \"Ab\": np.sum,\n",
    "                                    \"A\": np.sum,\n",
    "                                    \"Bb\": np.sum,\n",
    "                                    \"B\": np.sum})"
   ]
  },
  {
   "cell_type": "code",
   "execution_count": 455,
   "metadata": {},
   "outputs": [
    {
     "data": {
      "text/plain": [
       "[]"
      ]
     },
     "execution_count": 455,
     "metadata": {},
     "output_type": "execute_result"
    },
    {
     "data": {
      "image/png": "[encoded data removed]",
      "text/plain": [
       "<Figure size 432x288 with 1 Axes>"
      ]
     },
     "metadata": {
      "needs_background": "light"
     },
     "output_type": "display_data"
    }
   ],
   "source": [
    "ax = key_df.plot.bar(stacked=True)\n",
    "ax.set_title(\"genre vs key\",color='black')\n",
    "ax.legend(bbox_to_anchor=(1.0, 1.0))\n",
    "ax.plot()"
   ]
  },
  {
   "cell_type": "code",
   "execution_count": 456,
   "metadata": {},
   "outputs": [],
   "source": [
    "genre_df.drop('B', axis = 1, inplace = True)"
   ]
  },
  {
   "attachments": {},
   "cell_type": "markdown",
   "metadata": {},
   "source": [
    "mode"
   ]
  },
  {
   "cell_type": "code",
   "execution_count": 457,
   "metadata": {},
   "outputs": [],
   "source": [
    "mode_map =  {0: 'minor', 1: 'major'}\n",
    "genre_df[\"mode\"] = genre_df[\"mode\"].map(mode_map)\n",
    "mode = pd.get_dummies(genre_df['mode'])\n",
    "genre_df = pd.concat([genre_df, mode], axis = 1)\n",
    "genre_df.drop('mode', axis = 1, inplace = True)\n",
    "\n",
    "\n",
    "mode_df = pd.pivot_table(genre_df, \n",
    "                        values=['minor','major'], \n",
    "                        index='genre', \n",
    "                        aggfunc={ \"minor\": np.sum, \"major\": np.sum})"
   ]
  },
  {
   "cell_type": "code",
   "execution_count": 458,
   "metadata": {},
   "outputs": [
    {
     "data": {
      "text/plain": [
       "[]"
      ]
     },
     "execution_count": 458,
     "metadata": {},
     "output_type": "execute_result"
    },
    {
     "data": {
      "image/png": "[encoded data removed]",
      "text/plain": [
       "<Figure size 432x288 with 1 Axes>"
      ]
     },
     "metadata": {
      "needs_background": "light"
     },
     "output_type": "display_data"
    }
   ],
   "source": [
    "ax = mode_df.plot.bar(stacked=True)\n",
    "ax.set_title(\"genre vs mode\",color='black')\n",
    "ax.legend(bbox_to_anchor=(1.0, 1.0))\n",
    "ax.plot()"
   ]
  },
  {
   "cell_type": "code",
   "execution_count": 459,
   "metadata": {},
   "outputs": [],
   "source": [
    "genre_df.drop('minor', axis = 1, inplace = True)"
   ]
  },
  {
   "attachments": {},
   "cell_type": "markdown",
   "metadata": {},
   "source": [
    "genre"
   ]
  },
  {
   "cell_type": "code",
   "execution_count": 460,
   "metadata": {},
   "outputs": [],
   "source": [
    "genre_map = {\n",
    "    'ROCK': 0,\n",
    "    'POP': 1,\n",
    "    'LOFI': 2,\n",
    "    'CLASSICAL': 3, \n",
    "    'RAP': 4\n",
    "}\n",
    "\n",
    "genre_df[\"genre\"] = genre_df[\"genre\"].map(genre_map)"
   ]
  },
  {
   "attachments": {},
   "cell_type": "markdown",
   "metadata": {},
   "source": [
    "training model"
   ]
  },
  {
   "cell_type": "code",
   "execution_count": 461,
   "metadata": {},
   "outputs": [],
   "source": [
    "X = genre_df.drop([\"genre\", \"track_name\", \"artist\"], axis = 1)\n",
    "y = genre_df[\"genre\"].values"
   ]
  },
  {
   "cell_type": "code",
   "execution_count": 462,
   "metadata": {},
   "outputs": [],
   "source": [
    "X_train, X_test, y_train, y_test = train_test_split(X, y, test_size=0.25)"
   ]
  },
  {
   "cell_type": "code",
   "execution_count": 463,
   "metadata": {},
   "outputs": [],
   "source": [
    "scaler = MinMaxScaler()\n",
    "X_train = scaler.fit_transform(X_train)\n",
    "X_test = scaler.transform(X_test)"
   ]
  },
  {
   "cell_type": "code",
   "execution_count": 464,
   "metadata": {},
   "outputs": [],
   "source": [
    "genre_prediction_model = Sequential()"
   ]
  },
  {
   "cell_type": "code",
   "execution_count": 465,
   "metadata": {},
   "outputs": [
    {
     "data": {
      "text/plain": [
       "(1002, 23)"
      ]
     },
     "execution_count": 465,
     "metadata": {},
     "output_type": "execute_result"
    }
   ],
   "source": [
    "X_train.shape"
   ]
  },
  {
   "cell_type": "code",
   "execution_count": 466,
   "metadata": {},
   "outputs": [],
   "source": [
    "genre_prediction_model.add(Flatten())\n",
    "\n",
    "genre_prediction_model.add(Dense(23, activation='relu'))\n",
    "genre_prediction_model.add(Dense(23, activation='relu'))\n",
    "\n",
    "genre_prediction_model.add(Dense(5, activation='sigmoid'))\n",
    "\n",
    "genre_prediction_model.compile(loss = 'sparse_categorical_crossentropy', optimizer='adam', metrics=['accuracy'])"
   ]
  },
  {
   "cell_type": "code",
   "execution_count": 467,
   "metadata": {},
   "outputs": [],
   "source": [
    "early_stop = EarlyStopping(monitor='val_loss', mode='min', verbose=1, patience=25)"
   ]
  },
  {
   "cell_type": "code",
   "execution_count": 468,
   "metadata": {},
   "outputs": [
    {
     "name": "stdout",
     "output_type": "stream",
     "text": [
      "Epoch 1/800\n",
      "32/32 [==============================] - 1s 13ms/step - loss: 1.5855 - accuracy: 0.2585 - val_loss: 1.5309 - val_accuracy: 0.2896\n",
      "Epoch 2/800\n",
      "32/32 [==============================] - 0s 3ms/step - loss: 1.4685 - accuracy: 0.3373 - val_loss: 1.4106 - val_accuracy: 0.4358\n",
      "Epoch 3/800\n",
      "32/32 [==============================] - 0s 3ms/step - loss: 1.3468 - accuracy: 0.4760 - val_loss: 1.2714 - val_accuracy: 0.5313\n",
      "Epoch 4/800\n",
      "32/32 [==============================] - 0s 3ms/step - loss: 1.2140 - accuracy: 0.5190 - val_loss: 1.1376 - val_accuracy: 0.5761\n",
      "Epoch 5/800\n",
      "32/32 [==============================] - 0s 3ms/step - loss: 1.0951 - accuracy: 0.5709 - val_loss: 1.0318 - val_accuracy: 0.6090\n",
      "Epoch 6/800\n",
      "32/32 [==============================] - 0s 3ms/step - loss: 0.9947 - accuracy: 0.6198 - val_loss: 0.9410 - val_accuracy: 0.6806\n",
      "Epoch 7/800\n",
      "32/32 [==============================] - 0s 3ms/step - loss: 0.9010 - accuracy: 0.6806 - val_loss: 0.8632 - val_accuracy: 0.7015\n",
      "Epoch 8/800\n",
      "32/32 [==============================] - 0s 3ms/step - loss: 0.8305 - accuracy: 0.6966 - val_loss: 0.8114 - val_accuracy: 0.6776\n",
      "Epoch 9/800\n",
      "32/32 [==============================] - 0s 3ms/step - loss: 0.7732 - accuracy: 0.7086 - val_loss: 0.7630 - val_accuracy: 0.7075\n",
      "Epoch 10/800\n",
      "32/32 [==============================] - 0s 3ms/step - loss: 0.7245 - accuracy: 0.7216 - val_loss: 0.7086 - val_accuracy: 0.7493\n",
      "Epoch 11/800\n",
      "32/32 [==============================] - 0s 3ms/step - loss: 0.6783 - accuracy: 0.7455 - val_loss: 0.6762 - val_accuracy: 0.7493\n",
      "Epoch 12/800\n",
      "32/32 [==============================] - 0s 3ms/step - loss: 0.6415 - accuracy: 0.7425 - val_loss: 0.6471 - val_accuracy: 0.7373\n",
      "Epoch 13/800\n",
      "32/32 [==============================] - 0s 3ms/step - loss: 0.6176 - accuracy: 0.7615 - val_loss: 0.6089 - val_accuracy: 0.7761\n",
      "Epoch 14/800\n",
      "32/32 [==============================] - 0s 3ms/step - loss: 0.5846 - accuracy: 0.7754 - val_loss: 0.5791 - val_accuracy: 0.7731\n",
      "Epoch 15/800\n",
      "32/32 [==============================] - 0s 3ms/step - loss: 0.5609 - accuracy: 0.7814 - val_loss: 0.5502 - val_accuracy: 0.7791\n",
      "Epoch 16/800\n",
      "32/32 [==============================] - 0s 3ms/step - loss: 0.5361 - accuracy: 0.7984 - val_loss: 0.5319 - val_accuracy: 0.7881\n",
      "Epoch 17/800\n",
      "32/32 [==============================] - 0s 3ms/step - loss: 0.5173 - accuracy: 0.8034 - val_loss: 0.5199 - val_accuracy: 0.8060\n",
      "Epoch 18/800\n",
      "32/32 [==============================] - 0s 3ms/step - loss: 0.5000 - accuracy: 0.8174 - val_loss: 0.5120 - val_accuracy: 0.8179\n",
      "Epoch 19/800\n",
      "32/32 [==============================] - 0s 3ms/step - loss: 0.4901 - accuracy: 0.8164 - val_loss: 0.4940 - val_accuracy: 0.7910\n",
      "Epoch 20/800\n",
      "32/32 [==============================] - 0s 3ms/step - loss: 0.4732 - accuracy: 0.8244 - val_loss: 0.4961 - val_accuracy: 0.8090\n",
      "Epoch 21/800\n",
      "32/32 [==============================] - 0s 3ms/step - loss: 0.4629 - accuracy: 0.8313 - val_loss: 0.4753 - val_accuracy: 0.8209\n",
      "Epoch 22/800\n",
      "32/32 [==============================] - 0s 3ms/step - loss: 0.4553 - accuracy: 0.8363 - val_loss: 0.4750 - val_accuracy: 0.8209\n",
      "Epoch 23/800\n",
      "32/32 [==============================] - 0s 3ms/step - loss: 0.4472 - accuracy: 0.8343 - val_loss: 0.4672 - val_accuracy: 0.8149\n",
      "Epoch 24/800\n",
      "32/32 [==============================] - 0s 3ms/step - loss: 0.4414 - accuracy: 0.8353 - val_loss: 0.4677 - val_accuracy: 0.8149\n",
      "Epoch 25/800\n",
      "32/32 [==============================] - 0s 3ms/step - loss: 0.4344 - accuracy: 0.8393 - val_loss: 0.4528 - val_accuracy: 0.8119\n",
      "Epoch 26/800\n",
      "32/32 [==============================] - 0s 3ms/step - loss: 0.4257 - accuracy: 0.8383 - val_loss: 0.4587 - val_accuracy: 0.8090\n",
      "Epoch 27/800\n",
      "32/32 [==============================] - 0s 3ms/step - loss: 0.4246 - accuracy: 0.8323 - val_loss: 0.4613 - val_accuracy: 0.8269\n",
      "Epoch 28/800\n",
      "32/32 [==============================] - 0s 3ms/step - loss: 0.4195 - accuracy: 0.8423 - val_loss: 0.4562 - val_accuracy: 0.8090\n",
      "Epoch 29/800\n",
      "32/32 [==============================] - 0s 3ms/step - loss: 0.4104 - accuracy: 0.8433 - val_loss: 0.4564 - val_accuracy: 0.8179\n",
      "Epoch 30/800\n",
      "32/32 [==============================] - 0s 3ms/step - loss: 0.4124 - accuracy: 0.8323 - val_loss: 0.4564 - val_accuracy: 0.8179\n",
      "Epoch 31/800\n",
      "32/32 [==============================] - 0s 3ms/step - loss: 0.4057 - accuracy: 0.8413 - val_loss: 0.4536 - val_accuracy: 0.8119\n",
      "Epoch 32/800\n",
      "32/32 [==============================] - 0s 3ms/step - loss: 0.4073 - accuracy: 0.8433 - val_loss: 0.4485 - val_accuracy: 0.8179\n",
      "Epoch 33/800\n",
      "32/32 [==============================] - 0s 3ms/step - loss: 0.3981 - accuracy: 0.8493 - val_loss: 0.4379 - val_accuracy: 0.8239\n",
      "Epoch 34/800\n",
      "32/32 [==============================] - 0s 3ms/step - loss: 0.3969 - accuracy: 0.8383 - val_loss: 0.4398 - val_accuracy: 0.8269\n",
      "Epoch 35/800\n",
      "32/32 [==============================] - 0s 3ms/step - loss: 0.3976 - accuracy: 0.8383 - val_loss: 0.4743 - val_accuracy: 0.8060\n",
      "Epoch 36/800\n",
      "32/32 [==============================] - 0s 3ms/step - loss: 0.4028 - accuracy: 0.8453 - val_loss: 0.4358 - val_accuracy: 0.8239\n",
      "Epoch 37/800\n",
      "32/32 [==============================] - 0s 3ms/step - loss: 0.3879 - accuracy: 0.8503 - val_loss: 0.4356 - val_accuracy: 0.8269\n",
      "Epoch 38/800\n",
      "32/32 [==============================] - 0s 3ms/step - loss: 0.3888 - accuracy: 0.8403 - val_loss: 0.4666 - val_accuracy: 0.7970\n",
      "Epoch 39/800\n",
      "32/32 [==============================] - 0s 3ms/step - loss: 0.3873 - accuracy: 0.8473 - val_loss: 0.4410 - val_accuracy: 0.8299\n",
      "Epoch 40/800\n",
      "32/32 [==============================] - 0s 3ms/step - loss: 0.3823 - accuracy: 0.8453 - val_loss: 0.4397 - val_accuracy: 0.8269\n",
      "Epoch 41/800\n",
      "32/32 [==============================] - 0s 3ms/step - loss: 0.3839 - accuracy: 0.8483 - val_loss: 0.4384 - val_accuracy: 0.8328\n",
      "Epoch 42/800\n",
      "32/32 [==============================] - 0s 3ms/step - loss: 0.3781 - accuracy: 0.8503 - val_loss: 0.4335 - val_accuracy: 0.8358\n",
      "Epoch 43/800\n",
      "32/32 [==============================] - 0s 3ms/step - loss: 0.3784 - accuracy: 0.8513 - val_loss: 0.4442 - val_accuracy: 0.8269\n",
      "Epoch 44/800\n",
      "32/32 [==============================] - 0s 3ms/step - loss: 0.3761 - accuracy: 0.8533 - val_loss: 0.4335 - val_accuracy: 0.8299\n",
      "Epoch 45/800\n",
      "32/32 [==============================] - 0s 3ms/step - loss: 0.3770 - accuracy: 0.8513 - val_loss: 0.4384 - val_accuracy: 0.8328\n",
      "Epoch 46/800\n",
      "32/32 [==============================] - 0s 3ms/step - loss: 0.3773 - accuracy: 0.8483 - val_loss: 0.4369 - val_accuracy: 0.8418\n",
      "Epoch 47/800\n",
      "32/32 [==============================] - 0s 3ms/step - loss: 0.3721 - accuracy: 0.8503 - val_loss: 0.4550 - val_accuracy: 0.8149\n",
      "Epoch 48/800\n",
      "32/32 [==============================] - 0s 3ms/step - loss: 0.3737 - accuracy: 0.8523 - val_loss: 0.4422 - val_accuracy: 0.8358\n",
      "Epoch 49/800\n",
      "32/32 [==============================] - 0s 3ms/step - loss: 0.3672 - accuracy: 0.8533 - val_loss: 0.4370 - val_accuracy: 0.8388\n",
      "Epoch 50/800\n",
      "32/32 [==============================] - 0s 3ms/step - loss: 0.3655 - accuracy: 0.8533 - val_loss: 0.4304 - val_accuracy: 0.8328\n",
      "Epoch 51/800\n",
      "32/32 [==============================] - 0s 3ms/step - loss: 0.3635 - accuracy: 0.8543 - val_loss: 0.4402 - val_accuracy: 0.8328\n",
      "Epoch 52/800\n",
      "32/32 [==============================] - 0s 3ms/step - loss: 0.3669 - accuracy: 0.8533 - val_loss: 0.4295 - val_accuracy: 0.8448\n",
      "Epoch 53/800\n",
      "32/32 [==============================] - 0s 3ms/step - loss: 0.3651 - accuracy: 0.8513 - val_loss: 0.4395 - val_accuracy: 0.8418\n",
      "Epoch 54/800\n",
      "32/32 [==============================] - 0s 3ms/step - loss: 0.3629 - accuracy: 0.8543 - val_loss: 0.4401 - val_accuracy: 0.8358\n",
      "Epoch 55/800\n",
      "32/32 [==============================] - 0s 3ms/step - loss: 0.3649 - accuracy: 0.8543 - val_loss: 0.4431 - val_accuracy: 0.8239\n",
      "Epoch 56/800\n",
      "32/32 [==============================] - 0s 3ms/step - loss: 0.3592 - accuracy: 0.8583 - val_loss: 0.4354 - val_accuracy: 0.8328\n",
      "Epoch 57/800\n",
      "32/32 [==============================] - 0s 3ms/step - loss: 0.3568 - accuracy: 0.8583 - val_loss: 0.4385 - val_accuracy: 0.8358\n",
      "Epoch 58/800\n",
      "32/32 [==============================] - 0s 3ms/step - loss: 0.3605 - accuracy: 0.8533 - val_loss: 0.4418 - val_accuracy: 0.8328\n",
      "Epoch 59/800\n",
      "32/32 [==============================] - 0s 3ms/step - loss: 0.3574 - accuracy: 0.8553 - val_loss: 0.4300 - val_accuracy: 0.8388\n",
      "Epoch 60/800\n",
      "32/32 [==============================] - 0s 3ms/step - loss: 0.3580 - accuracy: 0.8573 - val_loss: 0.4303 - val_accuracy: 0.8388\n",
      "Epoch 61/800\n",
      "32/32 [==============================] - 0s 3ms/step - loss: 0.3557 - accuracy: 0.8553 - val_loss: 0.4393 - val_accuracy: 0.8269\n",
      "Epoch 62/800\n",
      "32/32 [==============================] - 0s 3ms/step - loss: 0.3550 - accuracy: 0.8503 - val_loss: 0.4392 - val_accuracy: 0.8388\n",
      "Epoch 63/800\n",
      "32/32 [==============================] - 0s 3ms/step - loss: 0.3516 - accuracy: 0.8583 - val_loss: 0.4324 - val_accuracy: 0.8328\n",
      "Epoch 64/800\n",
      "32/32 [==============================] - 0s 3ms/step - loss: 0.3543 - accuracy: 0.8553 - val_loss: 0.4295 - val_accuracy: 0.8358\n",
      "Epoch 65/800\n",
      "32/32 [==============================] - 0s 3ms/step - loss: 0.3498 - accuracy: 0.8633 - val_loss: 0.4342 - val_accuracy: 0.8388\n",
      "Epoch 66/800\n",
      "32/32 [==============================] - 0s 3ms/step - loss: 0.3472 - accuracy: 0.8623 - val_loss: 0.4355 - val_accuracy: 0.8269\n",
      "Epoch 67/800\n",
      "32/32 [==============================] - 0s 3ms/step - loss: 0.3469 - accuracy: 0.8633 - val_loss: 0.4281 - val_accuracy: 0.8358\n",
      "Epoch 68/800\n",
      "32/32 [==============================] - 0s 3ms/step - loss: 0.3490 - accuracy: 0.8593 - val_loss: 0.4387 - val_accuracy: 0.8269\n",
      "Epoch 69/800\n",
      "32/32 [==============================] - 0s 3ms/step - loss: 0.3462 - accuracy: 0.8593 - val_loss: 0.4314 - val_accuracy: 0.8358\n",
      "Epoch 70/800\n",
      "32/32 [==============================] - 0s 3ms/step - loss: 0.3496 - accuracy: 0.8623 - val_loss: 0.4259 - val_accuracy: 0.8418\n",
      "Epoch 71/800\n",
      "32/32 [==============================] - 0s 3ms/step - loss: 0.3435 - accuracy: 0.8653 - val_loss: 0.4294 - val_accuracy: 0.8507\n",
      "Epoch 72/800\n",
      "32/32 [==============================] - 0s 3ms/step - loss: 0.3471 - accuracy: 0.8583 - val_loss: 0.4432 - val_accuracy: 0.8358\n",
      "Epoch 73/800\n",
      "32/32 [==============================] - 0s 3ms/step - loss: 0.3436 - accuracy: 0.8623 - val_loss: 0.4351 - val_accuracy: 0.8328\n",
      "Epoch 74/800\n",
      "32/32 [==============================] - 0s 3ms/step - loss: 0.3446 - accuracy: 0.8673 - val_loss: 0.4224 - val_accuracy: 0.8388\n",
      "Epoch 75/800\n",
      "32/32 [==============================] - 0s 3ms/step - loss: 0.3402 - accuracy: 0.8673 - val_loss: 0.4461 - val_accuracy: 0.8418\n",
      "Epoch 76/800\n",
      "32/32 [==============================] - 0s 3ms/step - loss: 0.3446 - accuracy: 0.8603 - val_loss: 0.4375 - val_accuracy: 0.8328\n",
      "Epoch 77/800\n",
      "32/32 [==============================] - 0s 3ms/step - loss: 0.3397 - accuracy: 0.8613 - val_loss: 0.4361 - val_accuracy: 0.8328\n",
      "Epoch 78/800\n",
      "32/32 [==============================] - 0s 3ms/step - loss: 0.3380 - accuracy: 0.8633 - val_loss: 0.4370 - val_accuracy: 0.8478\n",
      "Epoch 79/800\n",
      "32/32 [==============================] - 0s 3ms/step - loss: 0.3422 - accuracy: 0.8593 - val_loss: 0.4307 - val_accuracy: 0.8448\n",
      "Epoch 80/800\n",
      "32/32 [==============================] - 0s 3ms/step - loss: 0.3421 - accuracy: 0.8673 - val_loss: 0.4364 - val_accuracy: 0.8448\n",
      "Epoch 81/800\n",
      "32/32 [==============================] - 0s 3ms/step - loss: 0.3336 - accuracy: 0.8693 - val_loss: 0.4333 - val_accuracy: 0.8448\n",
      "Epoch 82/800\n",
      "32/32 [==============================] - 0s 3ms/step - loss: 0.3363 - accuracy: 0.8663 - val_loss: 0.4366 - val_accuracy: 0.8358\n",
      "Epoch 83/800\n",
      "32/32 [==============================] - 0s 3ms/step - loss: 0.3328 - accuracy: 0.8663 - val_loss: 0.4327 - val_accuracy: 0.8478\n",
      "Epoch 84/800\n",
      "32/32 [==============================] - 0s 3ms/step - loss: 0.3355 - accuracy: 0.8583 - val_loss: 0.4339 - val_accuracy: 0.8388\n",
      "Epoch 85/800\n",
      "32/32 [==============================] - 0s 3ms/step - loss: 0.3346 - accuracy: 0.8623 - val_loss: 0.4400 - val_accuracy: 0.8448\n",
      "Epoch 86/800\n",
      "32/32 [==============================] - 0s 3ms/step - loss: 0.3354 - accuracy: 0.8633 - val_loss: 0.4406 - val_accuracy: 0.8388\n",
      "Epoch 87/800\n",
      "32/32 [==============================] - 0s 3ms/step - loss: 0.3349 - accuracy: 0.8633 - val_loss: 0.4379 - val_accuracy: 0.8388\n",
      "Epoch 88/800\n",
      "32/32 [==============================] - 0s 3ms/step - loss: 0.3319 - accuracy: 0.8693 - val_loss: 0.4302 - val_accuracy: 0.8478\n",
      "Epoch 89/800\n",
      "32/32 [==============================] - 0s 3ms/step - loss: 0.3334 - accuracy: 0.8583 - val_loss: 0.4289 - val_accuracy: 0.8418\n",
      "Epoch 90/800\n",
      "32/32 [==============================] - 0s 3ms/step - loss: 0.3290 - accuracy: 0.8693 - val_loss: 0.4493 - val_accuracy: 0.8299\n",
      "Epoch 91/800\n",
      "32/32 [==============================] - 0s 3ms/step - loss: 0.3312 - accuracy: 0.8643 - val_loss: 0.4468 - val_accuracy: 0.8418\n",
      "Epoch 92/800\n",
      "32/32 [==============================] - 0s 3ms/step - loss: 0.3344 - accuracy: 0.8593 - val_loss: 0.4436 - val_accuracy: 0.8388\n",
      "Epoch 93/800\n",
      "32/32 [==============================] - 0s 3ms/step - loss: 0.3283 - accuracy: 0.8663 - val_loss: 0.4304 - val_accuracy: 0.8448\n",
      "Epoch 94/800\n",
      "32/32 [==============================] - 0s 3ms/step - loss: 0.3283 - accuracy: 0.8623 - val_loss: 0.4446 - val_accuracy: 0.8388\n",
      "Epoch 95/800\n",
      "32/32 [==============================] - 0s 3ms/step - loss: 0.3298 - accuracy: 0.8613 - val_loss: 0.4384 - val_accuracy: 0.8388\n",
      "Epoch 96/800\n",
      "32/32 [==============================] - 0s 3ms/step - loss: 0.3269 - accuracy: 0.8673 - val_loss: 0.4390 - val_accuracy: 0.8418\n",
      "Epoch 97/800\n",
      "32/32 [==============================] - 0s 3ms/step - loss: 0.3246 - accuracy: 0.8723 - val_loss: 0.4372 - val_accuracy: 0.8418\n",
      "Epoch 98/800\n",
      "32/32 [==============================] - 0s 3ms/step - loss: 0.3383 - accuracy: 0.8643 - val_loss: 0.4783 - val_accuracy: 0.8179\n",
      "Epoch 99/800\n",
      "32/32 [==============================] - 0s 3ms/step - loss: 0.3259 - accuracy: 0.8663 - val_loss: 0.4321 - val_accuracy: 0.8448\n",
      "Epoch 99: early stopping\n"
     ]
    },
    {
     "data": {
      "text/plain": [
       "<keras.callbacks.History at 0x19c3162a730>"
      ]
     },
     "execution_count": 468,
     "metadata": {},
     "output_type": "execute_result"
    }
   ],
   "source": [
    "genre_prediction_model.fit(x=X_train, y=y_train, epochs = 800, validation_data=(X_test, y_test), callbacks=[early_stop])"
   ]
  },
  {
   "cell_type": "code",
   "execution_count": 469,
   "metadata": {},
   "outputs": [],
   "source": [
    "losses_df = pd.DataFrame(genre_prediction_model.history.history)"
   ]
  },
  {
   "cell_type": "code",
   "execution_count": 470,
   "metadata": {},
   "outputs": [
    {
     "data": {
      "text/plain": [
       "<AxesSubplot:>"
      ]
     },
     "execution_count": 470,
     "metadata": {},
     "output_type": "execute_result"
    },
    {
     "data": {
      "image/png": "[encoded data removed]",
      "text/plain": [
       "<Figure size 432x288 with 1 Axes>"
      ]
     },
     "metadata": {
      "needs_background": "light"
     },
     "output_type": "display_data"
    }
   ],
   "source": [
    "losses_df.plot()"
   ]
  },
  {
   "cell_type": "code",
   "execution_count": 471,
   "metadata": {},
   "outputs": [],
   "source": [
    "from sklearn.metrics import classification_report\n"
   ]
  },
  {
   "cell_type": "code",
   "execution_count": 472,
   "metadata": {},
   "outputs": [
    {
     "name": "stdout",
     "output_type": "stream",
     "text": [
      "11/11 [==============================] - 0s 1ms/step\n"
     ]
    }
   ],
   "source": [
    "predict_x=genre_prediction_model.predict(X_test) \n",
    "classes_x = np.argmax(predict_x, axis=1)\n"
   ]
  },
  {
   "cell_type": "code",
   "execution_count": 473,
   "metadata": {},
   "outputs": [
    {
     "name": "stdout",
     "output_type": "stream",
     "text": [
      "              precision    recall  f1-score   support\n",
      "\n",
      "           0       0.83      0.87      0.85        75\n",
      "           1       0.68      0.65      0.67        63\n",
      "           2       0.89      0.96      0.92        51\n",
      "           3       0.98      0.91      0.94        65\n",
      "           4       0.84      0.85      0.85        81\n",
      "\n",
      "    accuracy                           0.84       335\n",
      "   macro avg       0.85      0.85      0.85       335\n",
      "weighted avg       0.84      0.84      0.84       335\n",
      "\n"
     ]
    }
   ],
   "source": [
    "print(classification_report(y_test, classes_x))"
   ]
  },
  {
   "cell_type": "code",
   "execution_count": 474,
   "metadata": {},
   "outputs": [
    {
     "name": "stderr",
     "output_type": "stream",
     "text": [
      "A subdirectory or file -p already exists.\n",
      "Error occurred while processing: -p.\n",
      "A subdirectory or file saved_model already exists.\n",
      "Error occurred while processing: saved_model.\n"
     ]
    }
   ],
   "source": [
    "!mkdir -p saved_model\n"
   ]
  },
  {
   "cell_type": "code",
   "execution_count": 475,
   "metadata": {},
   "outputs": [
    {
     "name": "stdout",
     "output_type": "stream",
     "text": [
      "INFO:tensorflow:Assets written to: saved_model/final_model\\assets\n"
     ]
    }
   ],
   "source": [
    "genre_prediction_model.save('saved_model/final_model')"
   ]
  },
  {
   "cell_type": "code",
   "execution_count": 476,
   "metadata": {},
   "outputs": [],
   "source": [
    "def get_key_dict(key):\n",
    "    d = {}\n",
    "    lst = np.eye(12).tolist()[key]\n",
    "    for i in range(len(lst)):\n",
    "        d[key_map[i]] = lst[i]\n",
    "    return d"
   ]
  },
  {
   "cell_type": "code",
   "execution_count": 477,
   "metadata": {},
   "outputs": [],
   "source": [
    "def transform_key_dict(feat):\n",
    "    key_dict = get_key_dict(feat[\"key\"])\n",
    "    feat.update(key_dict) \n",
    "    del feat['key']\n",
    "    del feat['B']\n",
    "    return feat         \n",
    "    "
   ]
  },
  {
   "cell_type": "code",
   "execution_count": 478,
   "metadata": {},
   "outputs": [],
   "source": [
    "def get_features(song_url):\n",
    "    track = sp.track(song_url)\n",
    "    features = sp.audio_features([track[\"id\"]])[0]\n",
    "    track_name = track[\"name\"]\n",
    "    features.pop('type')\n",
    "    features.pop('uri')\n",
    "    features.pop('track_href')\n",
    "    features.pop('analysis_url')\n",
    "    features.pop('id')\n",
    "    features = transform_key_dict(features)\n",
    "    features['major'] = features['mode']\n",
    "    del features['mode']\n",
    "    return features"
   ]
  },
  {
   "cell_type": "code",
   "execution_count": 479,
   "metadata": {},
   "outputs": [],
   "source": [
    "def predict_genre(song_url, model):\n",
    "    data = pd.Series(get_features(song_url))\n",
    "    data = scaler.transform([data])\n",
    "    predict_x=model.predict(data, verbose=False) \n",
    "    classes_x = np.argmax(predict_x)\n",
    "    my_inverted_dict = dict(map(reversed, genre_map.items()))\n",
    "    return my_inverted_dict[classes_x], sp.track(song_url)['artists'][0]['name'], sp.track(song_url)['name']\n",
    "\n"
   ]
  },
  {
   "cell_type": "code",
   "execution_count": 480,
   "metadata": {},
   "outputs": [
    {
     "name": "stderr",
     "output_type": "stream",
     "text": [
      "C:\\Users\\shail\\anaconda3\\Lib\\site-packages\\sklearn\\base.py:450: UserWarning:\n",
      "\n",
      "X does not have valid feature names, but MinMaxScaler was fitted with feature names\n",
      "\n"
     ]
    }
   ],
   "source": [
    "genre, artist, name = predict_genre(\"https://open.spotify.com/track/5Sn2fm8aisVlR7S6u1KW57?si=2a79bd89077d4bc6\", genre_prediction_model)"
   ]
  },
  {
   "cell_type": "code",
   "execution_count": 481,
   "metadata": {},
   "outputs": [
    {
     "name": "stdout",
     "output_type": "stream",
     "text": [
      "Song: FAKE LOVE \n",
      "Artist: BTS \n",
      "Genre: POP\n"
     ]
    }
   ],
   "source": [
    "print('Song:', name, '\\nArtist:', artist, '\\nGenre:', genre )"
   ]
  }
 ],
 "metadata": {
  "kernelspec": {
   "display_name": "base",
   "language": "python",
   "name": "python3"
  },
  "language_info": {
   "codemirror_mode": {
    "name": "ipython",
    "version": 3
   },
   "file_extension": ".py",
   "mimetype": "text/x-python",
   "name": "python",
   "nbconvert_exporter": "python",
   "pygments_lexer": "ipython3",
   "version": "3.9.12 (main, Apr  4 2022, 05:22:27) [MSC v.1916 64 bit (AMD64)]"
  },
  "orig_nbformat": 4,
  "vscode": {
   "interpreter": {
    "hash": "c3b33d48af627876ac544114dd0fbe5a6124b6236eace591dad2ce23808c5c16"
   }
  }
 },
 "nbformat": 4,
 "nbformat_minor": 2
}
