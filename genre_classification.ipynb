{
 "cells": [
  {
   "attachments": {},
   "cell_type": "markdown",
   "metadata": {},
   "source": [
    "# PREDICTION OF MUSIC GENRE BASED ON SOUND FEATURES AND TRACK TITLES"
   ]
  },
  {
   "attachments": {},
   "cell_type": "markdown",
   "metadata": {},
   "source": [
    "### By Shailesh Rao "
   ]
  },
  {
   "cell_type": "code",
   "execution_count": 42,
   "metadata": {},
   "outputs": [],
   "source": [
    "from sklearn.metrics import classification_report\n",
    "from sklearn.preprocessing import MinMaxScaler\n",
    "from sklearn.model_selection import train_test_split\n",
    "import pandas as pd\n",
    "import numpy as np\n",
    "import matplotlib.pyplot as plt\n",
    "import seaborn as sns\n",
    "import plotly.express as px\n",
    "import pickle\n",
    "%matplotlib inline\n",
    "\n"
   ]
  },
  {
   "attachments": {},
   "cell_type": "markdown",
   "metadata": {},
   "source": [
    "## Analysing the data"
   ]
  },
  {
   "cell_type": "code",
   "execution_count": 43,
   "metadata": {},
   "outputs": [],
   "source": [
    "genre_df = pd.read_csv(\"genre_df.csv\", sep='\\t')\n"
   ]
  },
  {
   "cell_type": "code",
   "execution_count": 44,
   "metadata": {},
   "outputs": [
    {
     "name": "stdout",
     "output_type": "stream",
     "text": [
      "<class 'pandas.core.frame.DataFrame'>\n",
      "RangeIndex: 1339 entries, 0 to 1338\n",
      "Data columns (total 17 columns):\n",
      " #   Column            Non-Null Count  Dtype  \n",
      "---  ------            --------------  -----  \n",
      " 0   Unnamed: 0        1339 non-null   int64  \n",
      " 1   danceability      1339 non-null   float64\n",
      " 2   energy            1339 non-null   float64\n",
      " 3   key               1339 non-null   int64  \n",
      " 4   loudness          1339 non-null   float64\n",
      " 5   mode              1339 non-null   int64  \n",
      " 6   speechiness       1339 non-null   float64\n",
      " 7   acousticness      1339 non-null   float64\n",
      " 8   instrumentalness  1339 non-null   float64\n",
      " 9   liveness          1339 non-null   float64\n",
      " 10  valence           1339 non-null   float64\n",
      " 11  tempo             1339 non-null   float64\n",
      " 12  duration_ms       1339 non-null   int64  \n",
      " 13  time_signature    1339 non-null   int64  \n",
      " 14  track_name        1339 non-null   object \n",
      " 15  artist            1339 non-null   object \n",
      " 16  genre             1339 non-null   object \n",
      "dtypes: float64(9), int64(5), object(3)\n",
      "memory usage: 178.0+ KB\n"
     ]
    }
   ],
   "source": [
    "genre_df.info()\n"
   ]
  },
  {
   "cell_type": "code",
   "execution_count": 45,
   "metadata": {},
   "outputs": [
    {
     "data": {
      "text/html": [
       "<div>\n",
       "<style scoped>\n",
       "    .dataframe tbody tr th:only-of-type {\n",
       "        vertical-align: middle;\n",
       "    }\n",
       "\n",
       "    .dataframe tbody tr th {\n",
       "        vertical-align: top;\n",
       "    }\n",
       "\n",
       "    .dataframe thead th {\n",
       "        text-align: right;\n",
       "    }\n",
       "</style>\n",
       "<table border=\"1\" class=\"dataframe\">\n",
       "  <thead>\n",
       "    <tr style=\"text-align: right;\">\n",
       "      <th></th>\n",
       "      <th>Unnamed: 0</th>\n",
       "      <th>danceability</th>\n",
       "      <th>energy</th>\n",
       "      <th>key</th>\n",
       "      <th>loudness</th>\n",
       "      <th>mode</th>\n",
       "      <th>speechiness</th>\n",
       "      <th>acousticness</th>\n",
       "      <th>instrumentalness</th>\n",
       "      <th>liveness</th>\n",
       "      <th>valence</th>\n",
       "      <th>tempo</th>\n",
       "      <th>duration_ms</th>\n",
       "      <th>time_signature</th>\n",
       "    </tr>\n",
       "  </thead>\n",
       "  <tbody>\n",
       "    <tr>\n",
       "      <th>count</th>\n",
       "      <td>1339.000000</td>\n",
       "      <td>1339.000000</td>\n",
       "      <td>1339.000000</td>\n",
       "      <td>1339.000000</td>\n",
       "      <td>1339.000000</td>\n",
       "      <td>1339.000000</td>\n",
       "      <td>1339.000000</td>\n",
       "      <td>1339.000000</td>\n",
       "      <td>1339.000000</td>\n",
       "      <td>1339.000000</td>\n",
       "      <td>1339.000000</td>\n",
       "      <td>1339.000000</td>\n",
       "      <td>1.339000e+03</td>\n",
       "      <td>1339.000000</td>\n",
       "    </tr>\n",
       "    <tr>\n",
       "      <th>mean</th>\n",
       "      <td>16.257655</td>\n",
       "      <td>0.572808</td>\n",
       "      <td>0.532061</td>\n",
       "      <td>4.970874</td>\n",
       "      <td>-11.184745</td>\n",
       "      <td>0.670650</td>\n",
       "      <td>0.118737</td>\n",
       "      <td>0.393232</td>\n",
       "      <td>0.325129</td>\n",
       "      <td>0.219016</td>\n",
       "      <td>0.456038</td>\n",
       "      <td>118.285513</td>\n",
       "      <td>2.042548e+05</td>\n",
       "      <td>3.897685</td>\n",
       "    </tr>\n",
       "    <tr>\n",
       "      <th>std</th>\n",
       "      <td>16.912244</td>\n",
       "      <td>0.176277</td>\n",
       "      <td>0.299027</td>\n",
       "      <td>3.658014</td>\n",
       "      <td>8.145811</td>\n",
       "      <td>0.470153</td>\n",
       "      <td>0.122831</td>\n",
       "      <td>0.398999</td>\n",
       "      <td>0.406172</td>\n",
       "      <td>0.215884</td>\n",
       "      <td>0.233778</td>\n",
       "      <td>30.150167</td>\n",
       "      <td>1.045745e+05</td>\n",
       "      <td>0.477430</td>\n",
       "    </tr>\n",
       "    <tr>\n",
       "      <th>min</th>\n",
       "      <td>0.000000</td>\n",
       "      <td>0.074200</td>\n",
       "      <td>0.001950</td>\n",
       "      <td>0.000000</td>\n",
       "      <td>-42.892000</td>\n",
       "      <td>0.000000</td>\n",
       "      <td>0.024600</td>\n",
       "      <td>0.000002</td>\n",
       "      <td>0.000000</td>\n",
       "      <td>0.022300</td>\n",
       "      <td>0.035900</td>\n",
       "      <td>47.139000</td>\n",
       "      <td>1.516000e+04</td>\n",
       "      <td>1.000000</td>\n",
       "    </tr>\n",
       "    <tr>\n",
       "      <th>25%</th>\n",
       "      <td>5.000000</td>\n",
       "      <td>0.442000</td>\n",
       "      <td>0.257500</td>\n",
       "      <td>1.000000</td>\n",
       "      <td>-16.102000</td>\n",
       "      <td>0.000000</td>\n",
       "      <td>0.041550</td>\n",
       "      <td>0.021100</td>\n",
       "      <td>0.000000</td>\n",
       "      <td>0.098600</td>\n",
       "      <td>0.275000</td>\n",
       "      <td>93.045000</td>\n",
       "      <td>1.355290e+05</td>\n",
       "      <td>4.000000</td>\n",
       "    </tr>\n",
       "    <tr>\n",
       "      <th>50%</th>\n",
       "      <td>11.000000</td>\n",
       "      <td>0.580000</td>\n",
       "      <td>0.575000</td>\n",
       "      <td>5.000000</td>\n",
       "      <td>-7.765000</td>\n",
       "      <td>1.000000</td>\n",
       "      <td>0.062100</td>\n",
       "      <td>0.200000</td>\n",
       "      <td>0.007730</td>\n",
       "      <td>0.128000</td>\n",
       "      <td>0.445000</td>\n",
       "      <td>118.752000</td>\n",
       "      <td>2.034670e+05</td>\n",
       "      <td>4.000000</td>\n",
       "    </tr>\n",
       "    <tr>\n",
       "      <th>75%</th>\n",
       "      <td>22.000000</td>\n",
       "      <td>0.719000</td>\n",
       "      <td>0.794500</td>\n",
       "      <td>8.000000</td>\n",
       "      <td>-5.094500</td>\n",
       "      <td>1.000000</td>\n",
       "      <td>0.145500</td>\n",
       "      <td>0.866500</td>\n",
       "      <td>0.849000</td>\n",
       "      <td>0.246000</td>\n",
       "      <td>0.625000</td>\n",
       "      <td>138.942000</td>\n",
       "      <td>2.523080e+05</td>\n",
       "      <td>4.000000</td>\n",
       "    </tr>\n",
       "    <tr>\n",
       "      <th>max</th>\n",
       "      <td>99.000000</td>\n",
       "      <td>0.964000</td>\n",
       "      <td>0.995000</td>\n",
       "      <td>11.000000</td>\n",
       "      <td>-1.192000</td>\n",
       "      <td>1.000000</td>\n",
       "      <td>0.912000</td>\n",
       "      <td>0.996000</td>\n",
       "      <td>0.992000</td>\n",
       "      <td>0.994000</td>\n",
       "      <td>0.971000</td>\n",
       "      <td>211.092000</td>\n",
       "      <td>1.233917e+06</td>\n",
       "      <td>5.000000</td>\n",
       "    </tr>\n",
       "  </tbody>\n",
       "</table>\n",
       "</div>"
      ],
      "text/plain": [
       "        Unnamed: 0  danceability       energy          key     loudness  \\\n",
       "count  1339.000000   1339.000000  1339.000000  1339.000000  1339.000000   \n",
       "mean     16.257655      0.572808     0.532061     4.970874   -11.184745   \n",
       "std      16.912244      0.176277     0.299027     3.658014     8.145811   \n",
       "min       0.000000      0.074200     0.001950     0.000000   -42.892000   \n",
       "25%       5.000000      0.442000     0.257500     1.000000   -16.102000   \n",
       "50%      11.000000      0.580000     0.575000     5.000000    -7.765000   \n",
       "75%      22.000000      0.719000     0.794500     8.000000    -5.094500   \n",
       "max      99.000000      0.964000     0.995000    11.000000    -1.192000   \n",
       "\n",
       "              mode  speechiness  acousticness  instrumentalness     liveness  \\\n",
       "count  1339.000000  1339.000000   1339.000000       1339.000000  1339.000000   \n",
       "mean      0.670650     0.118737      0.393232          0.325129     0.219016   \n",
       "std       0.470153     0.122831      0.398999          0.406172     0.215884   \n",
       "min       0.000000     0.024600      0.000002          0.000000     0.022300   \n",
       "25%       0.000000     0.041550      0.021100          0.000000     0.098600   \n",
       "50%       1.000000     0.062100      0.200000          0.007730     0.128000   \n",
       "75%       1.000000     0.145500      0.866500          0.849000     0.246000   \n",
       "max       1.000000     0.912000      0.996000          0.992000     0.994000   \n",
       "\n",
       "           valence        tempo   duration_ms  time_signature  \n",
       "count  1339.000000  1339.000000  1.339000e+03     1339.000000  \n",
       "mean      0.456038   118.285513  2.042548e+05        3.897685  \n",
       "std       0.233778    30.150167  1.045745e+05        0.477430  \n",
       "min       0.035900    47.139000  1.516000e+04        1.000000  \n",
       "25%       0.275000    93.045000  1.355290e+05        4.000000  \n",
       "50%       0.445000   118.752000  2.034670e+05        4.000000  \n",
       "75%       0.625000   138.942000  2.523080e+05        4.000000  \n",
       "max       0.971000   211.092000  1.233917e+06        5.000000  "
      ]
     },
     "execution_count": 45,
     "metadata": {},
     "output_type": "execute_result"
    }
   ],
   "source": [
    "genre_df.describe()\n"
   ]
  },
  {
   "attachments": {},
   "cell_type": "markdown",
   "metadata": {},
   "source": [
    "## Exploration of numeric features based on genre:"
   ]
  },
  {
   "attachments": {},
   "cell_type": "markdown",
   "metadata": {},
   "source": [
    "### Explanation of how genres are differentiated based on audio features:"
   ]
  },
  {
   "attachments": {},
   "cell_type": "markdown",
   "metadata": {},
   "source": [
    "#### danceability"
   ]
  },
  {
   "cell_type": "code",
   "execution_count": 46,
   "metadata": {},
   "outputs": [
    {
     "data": {
      "text/plain": [
       "<AxesSubplot:xlabel='genre', ylabel='danceability'>"
      ]
     },
     "execution_count": 46,
     "metadata": {},
     "output_type": "execute_result"
    },
    {
     "data": {
      "image/png": "[encoded data removed]",
      "text/plain": [
       "<Figure size 432x288 with 1 Axes>"
      ]
     },
     "metadata": {
      "needs_background": "light"
     },
     "output_type": "display_data"
    }
   ],
   "source": [
    "sns.boxplot(x=genre_df['genre'], y=genre_df['danceability'])\n"
   ]
  },
  {
   "attachments": {},
   "cell_type": "markdown",
   "metadata": {},
   "source": [
    "-> high danceability for rap, pop, and low for classical"
   ]
  },
  {
   "attachments": {},
   "cell_type": "markdown",
   "metadata": {},
   "source": [
    "#### energy"
   ]
  },
  {
   "cell_type": "code",
   "execution_count": 47,
   "metadata": {},
   "outputs": [
    {
     "data": {
      "text/plain": [
       "<AxesSubplot:xlabel='genre', ylabel='energy'>"
      ]
     },
     "execution_count": 47,
     "metadata": {},
     "output_type": "execute_result"
    },
    {
     "data": {
      "image/png": "[encoded data removed]",
      "text/plain": [
       "<Figure size 432x288 with 1 Axes>"
      ]
     },
     "metadata": {
      "needs_background": "light"
     },
     "output_type": "display_data"
    }
   ],
   "source": [
    "sns.boxplot(x=genre_df['genre'], y=genre_df['energy'])\n"
   ]
  },
  {
   "attachments": {},
   "cell_type": "markdown",
   "metadata": {},
   "source": [
    "-> lowest energy for classical music and lofi, very high for rock"
   ]
  },
  {
   "attachments": {},
   "cell_type": "markdown",
   "metadata": {},
   "source": [
    "#### loudness"
   ]
  },
  {
   "cell_type": "code",
   "execution_count": 48,
   "metadata": {},
   "outputs": [
    {
     "data": {
      "text/plain": [
       "<AxesSubplot:xlabel='genre', ylabel='loudness'>"
      ]
     },
     "execution_count": 48,
     "metadata": {},
     "output_type": "execute_result"
    },
    {
     "data": {
      "image/png": "[encoded data removed]",
      "text/plain": [
       "<Figure size 432x288 with 1 Axes>"
      ]
     },
     "metadata": {
      "needs_background": "light"
     },
     "output_type": "display_data"
    }
   ],
   "source": [
    "sns.boxplot(x=genre_df['genre'], y=genre_df['loudness'])\n"
   ]
  },
  {
   "attachments": {},
   "cell_type": "markdown",
   "metadata": {},
   "source": [
    "-> low loudness for classical and lofi, higher for pop, rap and rock"
   ]
  },
  {
   "attachments": {},
   "cell_type": "markdown",
   "metadata": {},
   "source": [
    "#### speechiness"
   ]
  },
  {
   "cell_type": "code",
   "execution_count": 49,
   "metadata": {},
   "outputs": [
    {
     "data": {
      "text/plain": [
       "<AxesSubplot:xlabel='genre', ylabel='speechiness'>"
      ]
     },
     "execution_count": 49,
     "metadata": {},
     "output_type": "execute_result"
    },
    {
     "data": {
      "image/png": "[encoded data removed]",
      "text/plain": [
       "<Figure size 432x288 with 1 Axes>"
      ]
     },
     "metadata": {
      "needs_background": "light"
     },
     "output_type": "display_data"
    }
   ],
   "source": [
    "sns.boxplot(x=genre_df['genre'], y=genre_df['speechiness'])\n"
   ]
  },
  {
   "attachments": {},
   "cell_type": "markdown",
   "metadata": {},
   "source": [
    "-> high speechiness for rap because of more lyrics "
   ]
  },
  {
   "attachments": {},
   "cell_type": "markdown",
   "metadata": {},
   "source": [
    "#### acousticness"
   ]
  },
  {
   "cell_type": "code",
   "execution_count": 50,
   "metadata": {},
   "outputs": [
    {
     "data": {
      "text/plain": [
       "<AxesSubplot:xlabel='genre', ylabel='acousticness'>"
      ]
     },
     "execution_count": 50,
     "metadata": {},
     "output_type": "execute_result"
    },
    {
     "data": {
      "image/png": "[encoded data removed]",
      "text/plain": [
       "<Figure size 432x288 with 1 Axes>"
      ]
     },
     "metadata": {
      "needs_background": "light"
     },
     "output_type": "display_data"
    }
   ],
   "source": [
    "sns.boxplot(x=genre_df['genre'], y=genre_df['acousticness'])\n"
   ]
  },
  {
   "attachments": {},
   "cell_type": "markdown",
   "metadata": {},
   "source": [
    "-> classical has very high acousticness, rock has extremely low acousticness because of electric guitar, heavy drums"
   ]
  },
  {
   "attachments": {},
   "cell_type": "markdown",
   "metadata": {},
   "source": [
    "#### instrumentalness"
   ]
  },
  {
   "cell_type": "code",
   "execution_count": 51,
   "metadata": {},
   "outputs": [
    {
     "data": {
      "text/plain": [
       "<AxesSubplot:xlabel='genre', ylabel='instrumentalness'>"
      ]
     },
     "execution_count": 51,
     "metadata": {},
     "output_type": "execute_result"
    },
    {
     "data": {
      "image/png": "[encoded data removed]",
      "text/plain": [
       "<Figure size 432x288 with 1 Axes>"
      ]
     },
     "metadata": {
      "needs_background": "light"
     },
     "output_type": "display_data"
    }
   ],
   "source": [
    "sns.boxplot(x=genre_df['genre'], y=genre_df['instrumentalness'])\n"
   ]
  },
  {
   "attachments": {},
   "cell_type": "markdown",
   "metadata": {},
   "source": [
    "-> classical and lofi are purely instrumental, hence have higher instrumentalness"
   ]
  },
  {
   "attachments": {},
   "cell_type": "markdown",
   "metadata": {},
   "source": [
    "#### liveness"
   ]
  },
  {
   "cell_type": "code",
   "execution_count": 52,
   "metadata": {},
   "outputs": [
    {
     "data": {
      "text/plain": [
       "<AxesSubplot:xlabel='genre', ylabel='liveness'>"
      ]
     },
     "execution_count": 52,
     "metadata": {},
     "output_type": "execute_result"
    },
    {
     "data": {
      "image/png": "[encoded data removed]",
      "text/plain": [
       "<Figure size 432x288 with 1 Axes>"
      ]
     },
     "metadata": {
      "needs_background": "light"
     },
     "output_type": "display_data"
    }
   ],
   "source": [
    "sns.boxplot(x=genre_df['genre'], y=genre_df['liveness'])\n"
   ]
  },
  {
   "attachments": {},
   "cell_type": "markdown",
   "metadata": {},
   "source": [
    "-> not much variation in data, can drop column"
   ]
  },
  {
   "attachments": {},
   "cell_type": "markdown",
   "metadata": {},
   "source": [
    "### valence"
   ]
  },
  {
   "attachments": {},
   "cell_type": "markdown",
   "metadata": {},
   "source": [
    "#### (describes the musical positiveness conveyed by a track)"
   ]
  },
  {
   "cell_type": "code",
   "execution_count": 53,
   "metadata": {},
   "outputs": [
    {
     "data": {
      "text/plain": [
       "<AxesSubplot:xlabel='genre', ylabel='valence'>"
      ]
     },
     "execution_count": 53,
     "metadata": {},
     "output_type": "execute_result"
    },
    {
     "data": {
      "image/png": "[encoded data removed]",
      "text/plain": [
       "<Figure size 432x288 with 1 Axes>"
      ]
     },
     "metadata": {
      "needs_background": "light"
     },
     "output_type": "display_data"
    }
   ],
   "source": [
    "sns.boxplot(x=genre_df['genre'], y=genre_df['valence'])\n"
   ]
  },
  {
   "attachments": {},
   "cell_type": "markdown",
   "metadata": {},
   "source": [
    "-> low valence for classical and lofi"
   ]
  },
  {
   "attachments": {},
   "cell_type": "markdown",
   "metadata": {},
   "source": [
    "#### tempo"
   ]
  },
  {
   "cell_type": "code",
   "execution_count": 54,
   "metadata": {},
   "outputs": [
    {
     "data": {
      "text/plain": [
       "<AxesSubplot:xlabel='genre', ylabel='tempo'>"
      ]
     },
     "execution_count": 54,
     "metadata": {},
     "output_type": "execute_result"
    },
    {
     "data": {
      "image/png": "[encoded data removed]",
      "text/plain": [
       "<Figure size 432x288 with 1 Axes>"
      ]
     },
     "metadata": {
      "needs_background": "light"
     },
     "output_type": "display_data"
    }
   ],
   "source": [
    "sns.boxplot(x=genre_df['genre'], y=genre_df['tempo'])\n"
   ]
  },
  {
   "attachments": {},
   "cell_type": "markdown",
   "metadata": {},
   "source": [
    "-> lofi music has low average tempo, while rap has higher average tempo"
   ]
  },
  {
   "attachments": {},
   "cell_type": "markdown",
   "metadata": {},
   "source": [
    "#### duration"
   ]
  },
  {
   "cell_type": "code",
   "execution_count": 55,
   "metadata": {},
   "outputs": [
    {
     "data": {
      "text/plain": [
       "<AxesSubplot:xlabel='genre', ylabel='duration_ms'>"
      ]
     },
     "execution_count": 55,
     "metadata": {},
     "output_type": "execute_result"
    },
    {
     "data": {
      "image/png": "[encoded data removed]",
      "text/plain": [
       "<Figure size 432x288 with 1 Axes>"
      ]
     },
     "metadata": {
      "needs_background": "light"
     },
     "output_type": "display_data"
    }
   ],
   "source": [
    "sns.boxplot(x=genre_df['genre'], y=genre_df['duration_ms'])\n"
   ]
  },
  {
   "attachments": {},
   "cell_type": "markdown",
   "metadata": {},
   "source": [
    "-> classical songs have a highly varying duration"
   ]
  },
  {
   "attachments": {},
   "cell_type": "markdown",
   "metadata": {},
   "source": [
    "### Categorical columns"
   ]
  },
  {
   "attachments": {},
   "cell_type": "markdown",
   "metadata": {},
   "source": [
    "#### key"
   ]
  },
  {
   "cell_type": "code",
   "execution_count": 56,
   "metadata": {},
   "outputs": [],
   "source": [
    "key_map = {0: 'C',\n",
    "           1: 'C#',\n",
    "           2: 'D',\n",
    "           3: 'Eb',\n",
    "           4: 'E',\n",
    "           5: 'F',\n",
    "           6: 'F#',\n",
    "           7: 'G',\n",
    "           8: 'Ab',\n",
    "           9: 'A',\n",
    "           10: 'Bb',\n",
    "           11: 'B'}\n",
    "genre_df[\"key\"] = genre_df[\"key\"].map(key_map)\n",
    "key = pd.get_dummies(genre_df['key'])\n",
    "genre_df = pd.concat([genre_df, key], axis=1)\n",
    "genre_df.drop('key', axis=1, inplace=True)\n",
    "\n",
    "\n",
    "key_df = pd.pivot_table(genre_df,\n",
    "                        values=['C', 'C#', 'D', 'Eb', 'E', 'F',\n",
    "                                'F#', 'G', 'Ab', 'A', 'Bb', 'B'],\n",
    "                        index='genre',\n",
    "                        aggfunc={\"C\": np.sum,\n",
    "                                 \"C#\": np.sum,\n",
    "                                 \"D\": np.sum,\n",
    "                                 \"Eb\": np.sum,\n",
    "                                 \"E\": np.sum,\n",
    "                                 \"F\": np.sum,\n",
    "                                 \"F#\": np.sum,\n",
    "                                 \"G\": np.sum,\n",
    "                                 \"Ab\": np.sum,\n",
    "                                 \"A\": np.sum,\n",
    "                                 \"Bb\": np.sum,\n",
    "                                 \"B\": np.sum})\n"
   ]
  },
  {
   "cell_type": "code",
   "execution_count": 57,
   "metadata": {},
   "outputs": [
    {
     "data": {
      "text/plain": [
       "[]"
      ]
     },
     "execution_count": 57,
     "metadata": {},
     "output_type": "execute_result"
    },
    {
     "data": {
      "image/png": "[encoded data removed]",
      "text/plain": [
       "<Figure size 432x288 with 1 Axes>"
      ]
     },
     "metadata": {
      "needs_background": "light"
     },
     "output_type": "display_data"
    }
   ],
   "source": [
    "ax = key_df.plot.bar(stacked=True)\n",
    "ax.set_title(\"genre vs key\", color='black')\n",
    "ax.legend(bbox_to_anchor=(1.0, 1.0))\n",
    "ax.plot()\n"
   ]
  },
  {
   "attachments": {},
   "cell_type": "markdown",
   "metadata": {},
   "source": [
    "proportion of each key for a particular genre"
   ]
  },
  {
   "cell_type": "code",
   "execution_count": 58,
   "metadata": {},
   "outputs": [],
   "source": [
    "genre_df.drop('B', axis=1, inplace=True)\n"
   ]
  },
  {
   "attachments": {},
   "cell_type": "markdown",
   "metadata": {},
   "source": [
    "#### mode"
   ]
  },
  {
   "cell_type": "code",
   "execution_count": 59,
   "metadata": {},
   "outputs": [],
   "source": [
    "mode_map = {0: 'minor', 1: 'major'}\n",
    "genre_df[\"mode\"] = genre_df[\"mode\"].map(mode_map)\n",
    "mode = pd.get_dummies(genre_df['mode'])\n",
    "genre_df = pd.concat([genre_df, mode], axis=1)\n",
    "genre_df.drop('mode', axis=1, inplace=True)\n",
    "\n",
    "\n",
    "mode_df = pd.pivot_table(genre_df,\n",
    "                         values=['minor', 'major'],\n",
    "                         index='genre',\n",
    "                         aggfunc={\"minor\": np.sum, \"major\": np.sum})\n"
   ]
  },
  {
   "cell_type": "code",
   "execution_count": 60,
   "metadata": {},
   "outputs": [
    {
     "data": {
      "text/plain": [
       "[]"
      ]
     },
     "execution_count": 60,
     "metadata": {},
     "output_type": "execute_result"
    },
    {
     "data": {
      "image/png": "[encoded data removed]",
      "text/plain": [
       "<Figure size 432x288 with 1 Axes>"
      ]
     },
     "metadata": {
      "needs_background": "light"
     },
     "output_type": "display_data"
    }
   ],
   "source": [
    "ax = mode_df.plot.bar(stacked=True)\n",
    "ax.set_title(\"genre vs mode\", color='black')\n",
    "ax.legend(bbox_to_anchor=(1.0, 1.0))\n",
    "ax.plot()\n"
   ]
  },
  {
   "cell_type": "code",
   "execution_count": 61,
   "metadata": {},
   "outputs": [],
   "source": [
    "genre_df.drop('minor', axis=1, inplace=True)\n"
   ]
  },
  {
   "attachments": {},
   "cell_type": "markdown",
   "metadata": {},
   "source": [
    "#### time signature"
   ]
  },
  {
   "cell_type": "markdown",
   "metadata": {},
   "source": [
    "column contains integer value, is not a numeric column but categorical"
   ]
  },
  {
   "cell_type": "code",
   "execution_count": 62,
   "metadata": {},
   "outputs": [
    {
     "data": {
      "text/plain": [
       "[]"
      ]
     },
     "execution_count": 62,
     "metadata": {},
     "output_type": "execute_result"
    },
    {
     "data": {
      "image/png": "[encoded data removed]",
      "text/plain": [
       "<Figure size 432x288 with 1 Axes>"
      ]
     },
     "metadata": {
      "needs_background": "light"
     },
     "output_type": "display_data"
    }
   ],
   "source": [
    "time_map = {1: 'time_sign_1',\n",
    "           3: 'time_sign_3',\n",
    "           4: 'time_sign_4',\n",
    "           5: 'time_sign_5'}\n",
    "genre_df[\"time_signature\"] = genre_df[\"time_signature\"].map(time_map)\n",
    "time = pd.get_dummies(genre_df['time_signature'])\n",
    "genre_df = pd.concat([genre_df, time], axis=1)\n",
    "genre_df.drop('time_signature', axis=1, inplace=True)\n",
    "\n",
    "\n",
    "time_df = pd.pivot_table(genre_df,\n",
    "                        values=['time_sign_1', 'time_sign_3', 'time_sign_4', 'time_sign_5'],\n",
    "                        index='genre',\n",
    "                        aggfunc={\"time_sign_1\": np.sum,\n",
    "                                 \"time_sign_3\": np.sum,\n",
    "                                 \"time_sign_4\": np.sum,\n",
    "                                 \"time_sign_5\": np.sum,\n",
    "                                 })\n",
    "\n",
    "ax = time_df.plot.bar(stacked=True)\n",
    "ax.set_title(\"genre vs time signature\", color='black')\n",
    "ax.legend(bbox_to_anchor=(1.0, 1.0))\n",
    "ax.plot()\n"
   ]
  },
  {
   "attachments": {},
   "cell_type": "markdown",
   "metadata": {},
   "source": [
    "classical music has larger number of sings with time signature 3, very few in other genres"
   ]
  },
  {
   "attachments": {},
   "cell_type": "markdown",
   "metadata": {},
   "source": [
    "#### genre"
   ]
  },
  {
   "cell_type": "code",
   "execution_count": 63,
   "metadata": {},
   "outputs": [
    {
     "data": {
      "text/plain": [
       "RAP          310\n",
       "ROCK         269\n",
       "POP          263\n",
       "CLASSICAL    253\n",
       "LOFI         244\n",
       "Name: genre, dtype: int64"
      ]
     },
     "execution_count": 63,
     "metadata": {},
     "output_type": "execute_result"
    }
   ],
   "source": [
    "genre_df[\"genre\"].value_counts()\n"
   ]
  },
  {
   "cell_type": "code",
   "execution_count": 64,
   "metadata": {},
   "outputs": [],
   "source": [
    "genre_map = {\n",
    "    'ROCK': 0,\n",
    "    'POP': 1,\n",
    "    'LOFI': 2,\n",
    "    'CLASSICAL': 3,\n",
    "    'RAP': 4\n",
    "}\n",
    "\n",
    "genre_df[\"genre\"] = genre_df[\"genre\"].map(genre_map)\n"
   ]
  },
  {
   "attachments": {},
   "cell_type": "markdown",
   "metadata": {},
   "source": [
    "## Training the model"
   ]
  },
  {
   "cell_type": "code",
   "execution_count": 65,
   "metadata": {},
   "outputs": [],
   "source": [
    "#separating features from target column\n",
    "\n",
    "X = genre_df.drop([\"genre\", \"track_name\", \"artist\",\n",
    "                  \"Unnamed: 0\", \"liveness\"], axis=1)\n",
    "\n"
   ]
  },
  {
   "cell_type": "code",
   "execution_count": 66,
   "metadata": {},
   "outputs": [],
   "source": [
    "y = genre_df[\"genre\"]"
   ]
  },
  {
   "cell_type": "code",
   "execution_count": 81,
   "metadata": {},
   "outputs": [],
   "source": [
    "#splitting data into training set and testing set\n",
    "\n",
    "X_train, X_test, y_train, y_test = train_test_split(X, y, test_size=0.25)\n"
   ]
  },
  {
   "cell_type": "code",
   "execution_count": 88,
   "metadata": {},
   "outputs": [
    {
     "data": {
      "text/plain": [
       "GridSearchCV(cv=8, estimator=RandomForestClassifier(),\n",
       "             param_grid={'n_estimators': [1, 2, 3, 4, 5, 6, 7, 8, 9, 10, 11, 12,\n",
       "                                          13, 14, 15, 16, 17, 18, 19, 20, 21,\n",
       "                                          22, 23, 24, 25, 26, 27, 28, 29, 30, ...]})"
      ]
     },
     "execution_count": 88,
     "metadata": {},
     "output_type": "execute_result"
    }
   ],
   "source": [
    "#Using a random forest classifier with multi-class classification\n",
    "\n",
    "#hyper-parameter tuning\n",
    "\n",
    "from sklearn.ensemble import RandomForestClassifier\n",
    "from sklearn.model_selection import GridSearchCV\n",
    "\n",
    "classifier = GridSearchCV(RandomForestClassifier(), {'n_estimators' : list(range(1, 100))}, cv = 8)\n",
    "\n",
    "classifier.fit(X_train, y_train)"
   ]
  },
  {
   "cell_type": "code",
   "execution_count": 89,
   "metadata": {},
   "outputs": [
    {
     "data": {
      "text/plain": [
       "RandomForestClassifier(n_estimators=57)"
      ]
     },
     "execution_count": 89,
     "metadata": {},
     "output_type": "execute_result"
    }
   ],
   "source": [
    "final_model = RandomForestClassifier(n_estimators=classifier.best_params_['n_estimators'], criterion='gini')\n",
    "final_model.fit(X_train, y_train)\n"
   ]
  },
  {
   "cell_type": "code",
   "execution_count": 90,
   "metadata": {},
   "outputs": [
    {
     "data": {
      "text/plain": [
       "0.8746268656716418"
      ]
     },
     "execution_count": 90,
     "metadata": {},
     "output_type": "execute_result"
    }
   ],
   "source": [
    "#accuracy of model\n",
    "\n",
    "final_model.score(X_test, y_test)"
   ]
  },
  {
   "attachments": {},
   "cell_type": "markdown",
   "metadata": {},
   "source": [
    "-> accuracy not higher because pop music is a vast genre, and can have songs with high speechiness like rap, or high energy like rock, or high intrumentalness like lofi or classical"
   ]
  },
  {
   "cell_type": "code",
   "execution_count": 91,
   "metadata": {},
   "outputs": [],
   "source": [
    "preds = final_model.predict(X_test)"
   ]
  },
  {
   "cell_type": "code",
   "execution_count": 92,
   "metadata": {},
   "outputs": [
    {
     "name": "stdout",
     "output_type": "stream",
     "text": [
      "              precision    recall  f1-score   support\n",
      "\n",
      "           0       0.89      0.96      0.92        70\n",
      "           1       0.65      0.65      0.65        55\n",
      "           2       0.96      0.93      0.94        71\n",
      "           3       1.00      0.97      0.98        67\n",
      "           4       0.83      0.82      0.83        72\n",
      "\n",
      "    accuracy                           0.87       335\n",
      "   macro avg       0.87      0.87      0.87       335\n",
      "weighted avg       0.88      0.87      0.87       335\n",
      "\n"
     ]
    }
   ],
   "source": [
    "print(classification_report(preds, y_test))"
   ]
  },
  {
   "attachments": {},
   "cell_type": "markdown",
   "metadata": {},
   "source": [
    "lowest precision for pop (genre: 1)"
   ]
  },
  {
   "cell_type": "code",
   "execution_count": 94,
   "metadata": {},
   "outputs": [
    {
     "name": "stdout",
     "output_type": "stream",
     "text": [
      "[[67  3  0  0  0]\n",
      " [ 7 36  1  0 11]\n",
      " [ 0  4 66  0  1]\n",
      " [ 0  0  2 65  0]\n",
      " [ 1 12  0  0 59]]\n"
     ]
    }
   ],
   "source": [
    "from sklearn.metrics import confusion_matrix\n",
    "\n",
    "print(confusion_matrix(preds, y_test))"
   ]
  },
  {
   "cell_type": "code",
   "execution_count": 93,
   "metadata": {},
   "outputs": [],
   "source": [
    "pickle.dump(final_model, open(\"model.dat\", 'wb'))"
   ]
  }
 ],
 "metadata": {
  "kernelspec": {
   "display_name": "base",
   "language": "python",
   "name": "python3"
  },
  "language_info": {
   "codemirror_mode": {
    "name": "ipython",
    "version": 3
   },
   "file_extension": ".py",
   "mimetype": "text/x-python",
   "name": "python",
   "nbconvert_exporter": "python",
   "pygments_lexer": "ipython3",
   "version": "3.9.12"
  },
  "orig_nbformat": 4,
  "vscode": {
   "interpreter": {
    "hash": "c3b33d48af627876ac544114dd0fbe5a6124b6236eace591dad2ce23808c5c16"
   }
  }
 },
 "nbformat": 4,
 "nbformat_minor": 2
}
