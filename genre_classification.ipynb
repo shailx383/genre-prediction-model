{
 "cells": [
  {
   "attachments": {},
   "cell_type": "markdown",
   "metadata": {},
   "source": [
    "# PREDICTION OF MUSIC GENRE BASED ON SOUND FEATURES AND TRACK TITLES"
   ]
  },
  {
   "attachments": {},
   "cell_type": "markdown",
   "metadata": {},
   "source": [
    "### By Shailesh Rao "
   ]
  },
  {
   "cell_type": "code",
   "execution_count": 439,
   "metadata": {},
   "outputs": [],
   "source": [
    "from tensorflow.keras.callbacks import EarlyStopping\n",
    "from tensorflow.keras.layers import Dense, Flatten\n",
    "from tensorflow.keras.models import Sequential\n",
    "from sklearn.metrics import classification_report\n",
    "from sklearn.preprocessing import MinMaxScaler\n",
    "from sklearn.model_selection import train_test_split\n",
    "import pandas as pd\n",
    "import numpy as np\n",
    "import matplotlib.pyplot as plt\n",
    "import seaborn as sns\n",
    "import plotly.express as px\n",
    "%matplotlib inline\n"
   ]
  },
  {
   "attachments": {},
   "cell_type": "markdown",
   "metadata": {},
   "source": [
    "## Analysing the data"
   ]
  },
  {
   "cell_type": "code",
   "execution_count": 440,
   "metadata": {},
   "outputs": [],
   "source": [
    "genre_df = pd.read_csv(\"genre_df.csv\", sep='\\t')\n"
   ]
  },
  {
   "cell_type": "code",
   "execution_count": 441,
   "metadata": {},
   "outputs": [
    {
     "name": "stdout",
     "output_type": "stream",
     "text": [
      "<class 'pandas.core.frame.DataFrame'>\n",
      "RangeIndex: 1337 entries, 0 to 1336\n",
      "Data columns (total 17 columns):\n",
      " #   Column            Non-Null Count  Dtype  \n",
      "---  ------            --------------  -----  \n",
      " 0   Unnamed: 0        1337 non-null   int64  \n",
      " 1   danceability      1337 non-null   float64\n",
      " 2   energy            1337 non-null   float64\n",
      " 3   key               1337 non-null   int64  \n",
      " 4   loudness          1337 non-null   float64\n",
      " 5   mode              1337 non-null   int64  \n",
      " 6   speechiness       1337 non-null   float64\n",
      " 7   acousticness      1337 non-null   float64\n",
      " 8   instrumentalness  1337 non-null   float64\n",
      " 9   liveness          1337 non-null   float64\n",
      " 10  valence           1337 non-null   float64\n",
      " 11  tempo             1337 non-null   float64\n",
      " 12  duration_ms       1337 non-null   int64  \n",
      " 13  time_signature    1337 non-null   int64  \n",
      " 14  track_name        1337 non-null   object \n",
      " 15  artist            1337 non-null   object \n",
      " 16  genre             1337 non-null   object \n",
      "dtypes: float64(9), int64(5), object(3)\n",
      "memory usage: 177.7+ KB\n"
     ]
    }
   ],
   "source": [
    "genre_df.info()\n"
   ]
  },
  {
   "cell_type": "code",
   "execution_count": 442,
   "metadata": {},
   "outputs": [
    {
     "data": {
      "text/html": [
       "<div>\n",
       "<style scoped>\n",
       "    .dataframe tbody tr th:only-of-type {\n",
       "        vertical-align: middle;\n",
       "    }\n",
       "\n",
       "    .dataframe tbody tr th {\n",
       "        vertical-align: top;\n",
       "    }\n",
       "\n",
       "    .dataframe thead th {\n",
       "        text-align: right;\n",
       "    }\n",
       "</style>\n",
       "<table border=\"1\" class=\"dataframe\">\n",
       "  <thead>\n",
       "    <tr style=\"text-align: right;\">\n",
       "      <th></th>\n",
       "      <th>Unnamed: 0</th>\n",
       "      <th>danceability</th>\n",
       "      <th>energy</th>\n",
       "      <th>key</th>\n",
       "      <th>loudness</th>\n",
       "      <th>mode</th>\n",
       "      <th>speechiness</th>\n",
       "      <th>acousticness</th>\n",
       "      <th>instrumentalness</th>\n",
       "      <th>liveness</th>\n",
       "      <th>valence</th>\n",
       "      <th>tempo</th>\n",
       "      <th>duration_ms</th>\n",
       "      <th>time_signature</th>\n",
       "    </tr>\n",
       "  </thead>\n",
       "  <tbody>\n",
       "    <tr>\n",
       "      <th>count</th>\n",
       "      <td>1337.000000</td>\n",
       "      <td>1337.000000</td>\n",
       "      <td>1337.000000</td>\n",
       "      <td>1337.000000</td>\n",
       "      <td>1337.000000</td>\n",
       "      <td>1337.000000</td>\n",
       "      <td>1337.000000</td>\n",
       "      <td>1337.000000</td>\n",
       "      <td>1337.000000</td>\n",
       "      <td>1337.000000</td>\n",
       "      <td>1337.000000</td>\n",
       "      <td>1337.000000</td>\n",
       "      <td>1.337000e+03</td>\n",
       "      <td>1337.000000</td>\n",
       "    </tr>\n",
       "    <tr>\n",
       "      <th>mean</th>\n",
       "      <td>16.212416</td>\n",
       "      <td>0.572981</td>\n",
       "      <td>0.529001</td>\n",
       "      <td>4.948392</td>\n",
       "      <td>-11.285420</td>\n",
       "      <td>0.669409</td>\n",
       "      <td>0.118479</td>\n",
       "      <td>0.392322</td>\n",
       "      <td>0.323511</td>\n",
       "      <td>0.219546</td>\n",
       "      <td>0.454536</td>\n",
       "      <td>117.923011</td>\n",
       "      <td>2.036005e+05</td>\n",
       "      <td>3.898280</td>\n",
       "    </tr>\n",
       "    <tr>\n",
       "      <th>std</th>\n",
       "      <td>16.884330</td>\n",
       "      <td>0.176373</td>\n",
       "      <td>0.302064</td>\n",
       "      <td>3.664386</td>\n",
       "      <td>8.209184</td>\n",
       "      <td>0.470602</td>\n",
       "      <td>0.121652</td>\n",
       "      <td>0.399129</td>\n",
       "      <td>0.406324</td>\n",
       "      <td>0.216636</td>\n",
       "      <td>0.235372</td>\n",
       "      <td>30.350770</td>\n",
       "      <td>1.050980e+05</td>\n",
       "      <td>0.477147</td>\n",
       "    </tr>\n",
       "    <tr>\n",
       "      <th>min</th>\n",
       "      <td>0.000000</td>\n",
       "      <td>0.074200</td>\n",
       "      <td>0.001950</td>\n",
       "      <td>0.000000</td>\n",
       "      <td>-42.892000</td>\n",
       "      <td>0.000000</td>\n",
       "      <td>0.024600</td>\n",
       "      <td>0.000002</td>\n",
       "      <td>0.000000</td>\n",
       "      <td>0.022300</td>\n",
       "      <td>0.035900</td>\n",
       "      <td>47.139000</td>\n",
       "      <td>1.516000e+04</td>\n",
       "      <td>1.000000</td>\n",
       "    </tr>\n",
       "    <tr>\n",
       "      <th>25%</th>\n",
       "      <td>5.000000</td>\n",
       "      <td>0.442000</td>\n",
       "      <td>0.241000</td>\n",
       "      <td>1.000000</td>\n",
       "      <td>-16.768000</td>\n",
       "      <td>0.000000</td>\n",
       "      <td>0.041600</td>\n",
       "      <td>0.021600</td>\n",
       "      <td>0.000000</td>\n",
       "      <td>0.098600</td>\n",
       "      <td>0.262000</td>\n",
       "      <td>92.926000</td>\n",
       "      <td>1.317620e+05</td>\n",
       "      <td>4.000000</td>\n",
       "    </tr>\n",
       "    <tr>\n",
       "      <th>50%</th>\n",
       "      <td>11.000000</td>\n",
       "      <td>0.580000</td>\n",
       "      <td>0.575000</td>\n",
       "      <td>5.000000</td>\n",
       "      <td>-7.765000</td>\n",
       "      <td>1.000000</td>\n",
       "      <td>0.061700</td>\n",
       "      <td>0.193000</td>\n",
       "      <td>0.007570</td>\n",
       "      <td>0.128000</td>\n",
       "      <td>0.443000</td>\n",
       "      <td>118.352000</td>\n",
       "      <td>2.033670e+05</td>\n",
       "      <td>4.000000</td>\n",
       "    </tr>\n",
       "    <tr>\n",
       "      <th>75%</th>\n",
       "      <td>22.000000</td>\n",
       "      <td>0.720000</td>\n",
       "      <td>0.795000</td>\n",
       "      <td>8.000000</td>\n",
       "      <td>-5.096000</td>\n",
       "      <td>1.000000</td>\n",
       "      <td>0.149000</td>\n",
       "      <td>0.865000</td>\n",
       "      <td>0.853000</td>\n",
       "      <td>0.246000</td>\n",
       "      <td>0.623000</td>\n",
       "      <td>138.668000</td>\n",
       "      <td>2.523600e+05</td>\n",
       "      <td>4.000000</td>\n",
       "    </tr>\n",
       "    <tr>\n",
       "      <th>max</th>\n",
       "      <td>99.000000</td>\n",
       "      <td>0.964000</td>\n",
       "      <td>0.995000</td>\n",
       "      <td>11.000000</td>\n",
       "      <td>-1.192000</td>\n",
       "      <td>1.000000</td>\n",
       "      <td>0.912000</td>\n",
       "      <td>0.996000</td>\n",
       "      <td>0.992000</td>\n",
       "      <td>0.994000</td>\n",
       "      <td>0.971000</td>\n",
       "      <td>211.092000</td>\n",
       "      <td>1.233917e+06</td>\n",
       "      <td>5.000000</td>\n",
       "    </tr>\n",
       "  </tbody>\n",
       "</table>\n",
       "</div>"
      ],
      "text/plain": [
       "        Unnamed: 0  danceability       energy          key     loudness  \\\n",
       "count  1337.000000   1337.000000  1337.000000  1337.000000  1337.000000   \n",
       "mean     16.212416      0.572981     0.529001     4.948392   -11.285420   \n",
       "std      16.884330      0.176373     0.302064     3.664386     8.209184   \n",
       "min       0.000000      0.074200     0.001950     0.000000   -42.892000   \n",
       "25%       5.000000      0.442000     0.241000     1.000000   -16.768000   \n",
       "50%      11.000000      0.580000     0.575000     5.000000    -7.765000   \n",
       "75%      22.000000      0.720000     0.795000     8.000000    -5.096000   \n",
       "max      99.000000      0.964000     0.995000    11.000000    -1.192000   \n",
       "\n",
       "              mode  speechiness  acousticness  instrumentalness     liveness  \\\n",
       "count  1337.000000  1337.000000   1337.000000       1337.000000  1337.000000   \n",
       "mean      0.669409     0.118479      0.392322          0.323511     0.219546   \n",
       "std       0.470602     0.121652      0.399129          0.406324     0.216636   \n",
       "min       0.000000     0.024600      0.000002          0.000000     0.022300   \n",
       "25%       0.000000     0.041600      0.021600          0.000000     0.098600   \n",
       "50%       1.000000     0.061700      0.193000          0.007570     0.128000   \n",
       "75%       1.000000     0.149000      0.865000          0.853000     0.246000   \n",
       "max       1.000000     0.912000      0.996000          0.992000     0.994000   \n",
       "\n",
       "           valence        tempo   duration_ms  time_signature  \n",
       "count  1337.000000  1337.000000  1.337000e+03     1337.000000  \n",
       "mean      0.454536   117.923011  2.036005e+05        3.898280  \n",
       "std       0.235372    30.350770  1.050980e+05        0.477147  \n",
       "min       0.035900    47.139000  1.516000e+04        1.000000  \n",
       "25%       0.262000    92.926000  1.317620e+05        4.000000  \n",
       "50%       0.443000   118.352000  2.033670e+05        4.000000  \n",
       "75%       0.623000   138.668000  2.523600e+05        4.000000  \n",
       "max       0.971000   211.092000  1.233917e+06        5.000000  "
      ]
     },
     "execution_count": 442,
     "metadata": {},
     "output_type": "execute_result"
    }
   ],
   "source": [
    "genre_df.describe()\n"
   ]
  },
  {
   "attachments": {},
   "cell_type": "markdown",
   "metadata": {},
   "source": [
    "### Exploration of numeric features based on genre:"
   ]
  },
  {
   "attachments": {},
   "cell_type": "markdown",
   "metadata": {},
   "source": [
    "#### danceability"
   ]
  },
  {
   "cell_type": "code",
   "execution_count": 443,
   "metadata": {},
   "outputs": [
    {
     "data": {
      "text/plain": [
       "<AxesSubplot:xlabel='genre', ylabel='danceability'>"
      ]
     },
     "execution_count": 443,
     "metadata": {},
     "output_type": "execute_result"
    },
    {
     "data": {
      "image/png": "[encoded data removed]",
      "text/plain": [
       "<Figure size 432x288 with 1 Axes>"
      ]
     },
     "metadata": {
      "needs_background": "light"
     },
     "output_type": "display_data"
    }
   ],
   "source": [
    "sns.boxplot(x=genre_df['genre'], y=genre_df['danceability'])\n"
   ]
  },
  {
   "attachments": {},
   "cell_type": "markdown",
   "metadata": {},
   "source": [
    "High danceability for rap, pop, and low for classical"
   ]
  },
  {
   "attachments": {},
   "cell_type": "markdown",
   "metadata": {},
   "source": [
    "#### energy"
   ]
  },
  {
   "cell_type": "code",
   "execution_count": 444,
   "metadata": {},
   "outputs": [
    {
     "data": {
      "text/plain": [
       "<AxesSubplot:xlabel='genre', ylabel='energy'>"
      ]
     },
     "execution_count": 444,
     "metadata": {},
     "output_type": "execute_result"
    },
    {
     "data": {
      "image/png": "[encoded data removed]",
      "text/plain": [
       "<Figure size 432x288 with 1 Axes>"
      ]
     },
     "metadata": {
      "needs_background": "light"
     },
     "output_type": "display_data"
    }
   ],
   "source": [
    "sns.boxplot(x=genre_df['genre'], y=genre_df['energy'])\n"
   ]
  },
  {
   "attachments": {},
   "cell_type": "markdown",
   "metadata": {},
   "source": [
    "lowest energy for classical music and lofi, very high for rock"
   ]
  },
  {
   "attachments": {},
   "cell_type": "markdown",
   "metadata": {},
   "source": [
    "#### loudness"
   ]
  },
  {
   "cell_type": "code",
   "execution_count": 445,
   "metadata": {},
   "outputs": [
    {
     "data": {
      "text/plain": [
       "<AxesSubplot:xlabel='genre', ylabel='loudness'>"
      ]
     },
     "execution_count": 445,
     "metadata": {},
     "output_type": "execute_result"
    },
    {
     "data": {
      "image/png": "[encoded data removed]",
      "text/plain": [
       "<Figure size 432x288 with 1 Axes>"
      ]
     },
     "metadata": {
      "needs_background": "light"
     },
     "output_type": "display_data"
    }
   ],
   "source": [
    "sns.boxplot(x=genre_df['genre'], y=genre_df['loudness'])\n"
   ]
  },
  {
   "attachments": {},
   "cell_type": "markdown",
   "metadata": {},
   "source": [
    "low loudness for classical and lofi, higher for pop, rap and rock"
   ]
  },
  {
   "attachments": {},
   "cell_type": "markdown",
   "metadata": {},
   "source": [
    "#### speechiness"
   ]
  },
  {
   "cell_type": "code",
   "execution_count": 446,
   "metadata": {},
   "outputs": [
    {
     "data": {
      "text/plain": [
       "<AxesSubplot:xlabel='genre', ylabel='speechiness'>"
      ]
     },
     "execution_count": 446,
     "metadata": {},
     "output_type": "execute_result"
    },
    {
     "data": {
      "image/png": "[encoded data removed]",
      "text/plain": [
       "<Figure size 432x288 with 1 Axes>"
      ]
     },
     "metadata": {
      "needs_background": "light"
     },
     "output_type": "display_data"
    }
   ],
   "source": [
    "sns.boxplot(x=genre_df['genre'], y=genre_df['speechiness'])\n"
   ]
  },
  {
   "attachments": {},
   "cell_type": "markdown",
   "metadata": {},
   "source": [
    "high speechiness for rap because of more lyrics "
   ]
  },
  {
   "attachments": {},
   "cell_type": "markdown",
   "metadata": {},
   "source": [
    "#### acousticness"
   ]
  },
  {
   "cell_type": "code",
   "execution_count": 447,
   "metadata": {},
   "outputs": [
    {
     "data": {
      "text/plain": [
       "<AxesSubplot:xlabel='genre', ylabel='acousticness'>"
      ]
     },
     "execution_count": 447,
     "metadata": {},
     "output_type": "execute_result"
    },
    {
     "data": {
      "image/png": "[encoded data removed]",
      "text/plain": [
       "<Figure size 432x288 with 1 Axes>"
      ]
     },
     "metadata": {
      "needs_background": "light"
     },
     "output_type": "display_data"
    }
   ],
   "source": [
    "sns.boxplot(x=genre_df['genre'], y=genre_df['acousticness'])\n"
   ]
  },
  {
   "attachments": {},
   "cell_type": "markdown",
   "metadata": {},
   "source": [
    "classical has highest acousticness, rock has extremely low acousticness because of electric guitar, heavy drums"
   ]
  },
  {
   "attachments": {},
   "cell_type": "markdown",
   "metadata": {},
   "source": [
    "#### instrumentalness"
   ]
  },
  {
   "cell_type": "code",
   "execution_count": 448,
   "metadata": {},
   "outputs": [
    {
     "data": {
      "text/plain": [
       "<AxesSubplot:xlabel='genre', ylabel='instrumentalness'>"
      ]
     },
     "execution_count": 448,
     "metadata": {},
     "output_type": "execute_result"
    },
    {
     "data": {
      "image/png": "[encoded data removed]",
      "text/plain": [
       "<Figure size 432x288 with 1 Axes>"
      ]
     },
     "metadata": {
      "needs_background": "light"
     },
     "output_type": "display_data"
    }
   ],
   "source": [
    "sns.boxplot(x=genre_df['genre'], y=genre_df['instrumentalness'])\n"
   ]
  },
  {
   "attachments": {},
   "cell_type": "markdown",
   "metadata": {},
   "source": [
    "classical and lofi are purely instrumental, hence have higher instrumentalness"
   ]
  },
  {
   "attachments": {},
   "cell_type": "markdown",
   "metadata": {},
   "source": [
    "#### liveness"
   ]
  },
  {
   "cell_type": "code",
   "execution_count": 449,
   "metadata": {},
   "outputs": [
    {
     "data": {
      "text/plain": [
       "<AxesSubplot:xlabel='genre', ylabel='liveness'>"
      ]
     },
     "execution_count": 449,
     "metadata": {},
     "output_type": "execute_result"
    },
    {
     "data": {
      "image/png": "[encoded data removed]",
      "text/plain": [
       "<Figure size 432x288 with 1 Axes>"
      ]
     },
     "metadata": {
      "needs_background": "light"
     },
     "output_type": "display_data"
    }
   ],
   "source": [
    "sns.boxplot(x=genre_df['genre'], y=genre_df['liveness'])\n"
   ]
  },
  {
   "attachments": {},
   "cell_type": "markdown",
   "metadata": {},
   "source": [
    "not much variation in data, can drop column"
   ]
  },
  {
   "attachments": {},
   "cell_type": "markdown",
   "metadata": {},
   "source": [
    "### valence"
   ]
  },
  {
   "cell_type": "code",
   "execution_count": 450,
   "metadata": {},
   "outputs": [
    {
     "data": {
      "text/plain": [
       "<AxesSubplot:xlabel='genre', ylabel='valence'>"
      ]
     },
     "execution_count": 450,
     "metadata": {},
     "output_type": "execute_result"
    },
    {
     "data": {
      "image/png": "[encoded data removed]",
      "text/plain": [
       "<Figure size 432x288 with 1 Axes>"
      ]
     },
     "metadata": {
      "needs_background": "light"
     },
     "output_type": "display_data"
    }
   ],
   "source": [
    "sns.boxplot(x=genre_df['genre'], y=genre_df['valence'])\n"
   ]
  },
  {
   "attachments": {},
   "cell_type": "markdown",
   "metadata": {},
   "source": [
    "#### tempo"
   ]
  },
  {
   "cell_type": "code",
   "execution_count": 451,
   "metadata": {},
   "outputs": [
    {
     "data": {
      "text/plain": [
       "<AxesSubplot:xlabel='genre', ylabel='tempo'>"
      ]
     },
     "execution_count": 451,
     "metadata": {},
     "output_type": "execute_result"
    },
    {
     "data": {
      "image/png": "[encoded data removed]",
      "text/plain": [
       "<Figure size 432x288 with 1 Axes>"
      ]
     },
     "metadata": {
      "needs_background": "light"
     },
     "output_type": "display_data"
    }
   ],
   "source": [
    "sns.boxplot(x=genre_df['genre'], y=genre_df['tempo'])\n"
   ]
  },
  {
   "attachments": {},
   "cell_type": "markdown",
   "metadata": {},
   "source": [
    "lofi music has low average tempo, while rap has higher average tempo"
   ]
  },
  {
   "attachments": {},
   "cell_type": "markdown",
   "metadata": {},
   "source": [
    "#### duration"
   ]
  },
  {
   "cell_type": "code",
   "execution_count": 452,
   "metadata": {},
   "outputs": [
    {
     "data": {
      "text/plain": [
       "<AxesSubplot:xlabel='genre', ylabel='duration_ms'>"
      ]
     },
     "execution_count": 452,
     "metadata": {},
     "output_type": "execute_result"
    },
    {
     "data": {
      "image/png": "[encoded data removed]",
      "text/plain": [
       "<Figure size 432x288 with 1 Axes>"
      ]
     },
     "metadata": {
      "needs_background": "light"
     },
     "output_type": "display_data"
    }
   ],
   "source": [
    "sns.boxplot(x=genre_df['genre'], y=genre_df['duration_ms'])\n"
   ]
  },
  {
   "attachments": {},
   "cell_type": "markdown",
   "metadata": {},
   "source": [
    "classical music has wide range of durations"
   ]
  },
  {
   "attachments": {},
   "cell_type": "markdown",
   "metadata": {},
   "source": [
    "### Categorical columns"
   ]
  },
  {
   "attachments": {},
   "cell_type": "markdown",
   "metadata": {},
   "source": [
    "#### key"
   ]
  },
  {
   "cell_type": "code",
   "execution_count": 453,
   "metadata": {},
   "outputs": [],
   "source": [
    "key_map = {0: 'C',\n",
    "           1: 'C#',\n",
    "           2: 'D',\n",
    "           3: 'Eb',\n",
    "           4: 'E',\n",
    "           5: 'F',\n",
    "           6: 'F#',\n",
    "           7: 'G',\n",
    "           8: 'Ab',\n",
    "           9: 'A',\n",
    "           10: 'Bb',\n",
    "           11: 'B'}\n",
    "genre_df[\"key\"] = genre_df[\"key\"].map(key_map)\n",
    "key = pd.get_dummies(genre_df['key'])\n",
    "genre_df = pd.concat([genre_df, key], axis=1)\n",
    "genre_df.drop('key', axis=1, inplace=True)\n",
    "\n",
    "\n",
    "key_df = pd.pivot_table(genre_df,\n",
    "                        values=['C', 'C#', 'D', 'Eb', 'E', 'F',\n",
    "                                'F#', 'G', 'Ab', 'A', 'Bb', 'B'],\n",
    "                        index='genre',\n",
    "                        aggfunc={\"C\": np.sum,\n",
    "                                 \"C#\": np.sum,\n",
    "                                 \"D\": np.sum,\n",
    "                                 \"Eb\": np.sum,\n",
    "                                 \"E\": np.sum,\n",
    "                                 \"F\": np.sum,\n",
    "                                 \"F#\": np.sum,\n",
    "                                 \"G\": np.sum,\n",
    "                                 \"Ab\": np.sum,\n",
    "                                 \"A\": np.sum,\n",
    "                                 \"Bb\": np.sum,\n",
    "                                 \"B\": np.sum})\n"
   ]
  },
  {
   "cell_type": "code",
   "execution_count": 454,
   "metadata": {},
   "outputs": [
    {
     "data": {
      "text/plain": [
       "[]"
      ]
     },
     "execution_count": 454,
     "metadata": {},
     "output_type": "execute_result"
    },
    {
     "data": {
      "image/png": "[encoded data removed]",
      "text/plain": [
       "<Figure size 432x288 with 1 Axes>"
      ]
     },
     "metadata": {
      "needs_background": "light"
     },
     "output_type": "display_data"
    }
   ],
   "source": [
    "ax = key_df.plot.bar(stacked=True)\n",
    "ax.set_title(\"genre vs key\", color='black')\n",
    "ax.legend(bbox_to_anchor=(1.0, 1.0))\n",
    "ax.plot()\n"
   ]
  },
  {
   "attachments": {},
   "cell_type": "markdown",
   "metadata": {},
   "source": [
    "proportion of each key for a particular genre"
   ]
  },
  {
   "cell_type": "code",
   "execution_count": 455,
   "metadata": {},
   "outputs": [],
   "source": [
    "genre_df.drop('B', axis=1, inplace=True)\n"
   ]
  },
  {
   "attachments": {},
   "cell_type": "markdown",
   "metadata": {},
   "source": [
    "#### mode"
   ]
  },
  {
   "cell_type": "code",
   "execution_count": 456,
   "metadata": {},
   "outputs": [],
   "source": [
    "mode_map = {0: 'minor', 1: 'major'}\n",
    "genre_df[\"mode\"] = genre_df[\"mode\"].map(mode_map)\n",
    "mode = pd.get_dummies(genre_df['mode'])\n",
    "genre_df = pd.concat([genre_df, mode], axis=1)\n",
    "genre_df.drop('mode', axis=1, inplace=True)\n",
    "\n",
    "\n",
    "mode_df = pd.pivot_table(genre_df,\n",
    "                         values=['minor', 'major'],\n",
    "                         index='genre',\n",
    "                         aggfunc={\"minor\": np.sum, \"major\": np.sum})\n"
   ]
  },
  {
   "cell_type": "code",
   "execution_count": 457,
   "metadata": {},
   "outputs": [
    {
     "data": {
      "text/plain": [
       "[]"
      ]
     },
     "execution_count": 457,
     "metadata": {},
     "output_type": "execute_result"
    },
    {
     "data": {
      "image/png": "[encoded data removed]",
      "text/plain": [
       "<Figure size 432x288 with 1 Axes>"
      ]
     },
     "metadata": {
      "needs_background": "light"
     },
     "output_type": "display_data"
    }
   ],
   "source": [
    "ax = mode_df.plot.bar(stacked=True)\n",
    "ax.set_title(\"genre vs mode\", color='black')\n",
    "ax.legend(bbox_to_anchor=(1.0, 1.0))\n",
    "ax.plot()\n"
   ]
  },
  {
   "cell_type": "code",
   "execution_count": 458,
   "metadata": {},
   "outputs": [],
   "source": [
    "genre_df.drop('minor', axis=1, inplace=True)\n"
   ]
  },
  {
   "attachments": {},
   "cell_type": "markdown",
   "metadata": {},
   "source": [
    "#### genre"
   ]
  },
  {
   "cell_type": "code",
   "execution_count": 459,
   "metadata": {},
   "outputs": [
    {
     "data": {
      "text/plain": [
       "RAP          310\n",
       "ROCK         269\n",
       "POP          263\n",
       "CLASSICAL    253\n",
       "LOFI         242\n",
       "Name: genre, dtype: int64"
      ]
     },
     "execution_count": 459,
     "metadata": {},
     "output_type": "execute_result"
    }
   ],
   "source": [
    "genre_df[\"genre\"].value_counts()\n"
   ]
  },
  {
   "cell_type": "code",
   "execution_count": 460,
   "metadata": {},
   "outputs": [],
   "source": [
    "genre_map = {\n",
    "    'ROCK': 0,\n",
    "    'POP': 1,\n",
    "    'LOFI': 2,\n",
    "    'CLASSICAL': 3,\n",
    "    'RAP': 4\n",
    "}\n",
    "\n",
    "genre_df[\"genre\"] = genre_df[\"genre\"].map(genre_map)\n"
   ]
  },
  {
   "attachments": {},
   "cell_type": "markdown",
   "metadata": {},
   "source": [
    "## Training the model"
   ]
  },
  {
   "cell_type": "code",
   "execution_count": 461,
   "metadata": {},
   "outputs": [],
   "source": [
    "X = genre_df.drop([\"genre\", \"track_name\", \"artist\",\n",
    "                  \"Unnamed: 0\", \"liveness\"], axis=1)\n",
    "y = genre_df[\"genre\"].values\n"
   ]
  },
  {
   "cell_type": "code",
   "execution_count": 462,
   "metadata": {},
   "outputs": [],
   "source": [
    "X_train, X_test, y_train, y_test = train_test_split(X, y, test_size=0.25)\n"
   ]
  },
  {
   "cell_type": "code",
   "execution_count": 463,
   "metadata": {},
   "outputs": [],
   "source": [
    "scaler = MinMaxScaler()\n",
    "X_train = scaler.fit_transform(X_train)\n",
    "X_test = scaler.transform(X_test)\n"
   ]
  },
  {
   "cell_type": "code",
   "execution_count": 464,
   "metadata": {},
   "outputs": [],
   "source": [
    "genre_prediction_model = Sequential()\n"
   ]
  },
  {
   "cell_type": "code",
   "execution_count": 465,
   "metadata": {},
   "outputs": [
    {
     "data": {
      "text/plain": [
       "(1002, 22)"
      ]
     },
     "execution_count": 465,
     "metadata": {},
     "output_type": "execute_result"
    }
   ],
   "source": [
    "X_train.shape\n"
   ]
  },
  {
   "cell_type": "code",
   "execution_count": 466,
   "metadata": {},
   "outputs": [],
   "source": [
    "genre_prediction_model.add(Flatten())\n",
    "\n",
    "genre_prediction_model.add(Dense(22, activation='relu'))\n",
    "\n",
    "genre_prediction_model.add(Dense(5, activation='sigmoid'))\n",
    "\n",
    "genre_prediction_model.compile(\n",
    "    loss='sparse_categorical_crossentropy', optimizer='adam', metrics=['accuracy'])\n"
   ]
  },
  {
   "cell_type": "code",
   "execution_count": 467,
   "metadata": {},
   "outputs": [],
   "source": [
    "early_stop = EarlyStopping(\n",
    "    monitor='val_loss', mode='min', verbose=1, patience=25)\n"
   ]
  },
  {
   "cell_type": "code",
   "execution_count": 468,
   "metadata": {},
   "outputs": [
    {
     "name": "stdout",
     "output_type": "stream",
     "text": [
      "Epoch 1/800\n",
      "32/32 [==============================] - 1s 11ms/step - loss: 1.5695 - accuracy: 0.2126 - val_loss: 1.5275 - val_accuracy: 0.2388\n",
      "Epoch 2/800\n",
      "32/32 [==============================] - 0s 3ms/step - loss: 1.4975 - accuracy: 0.3363 - val_loss: 1.4458 - val_accuracy: 0.4328\n",
      "Epoch 3/800\n",
      "32/32 [==============================] - 0s 3ms/step - loss: 1.4142 - accuracy: 0.4651 - val_loss: 1.3492 - val_accuracy: 0.5552\n",
      "Epoch 4/800\n",
      "32/32 [==============================] - 0s 3ms/step - loss: 1.3196 - accuracy: 0.5449 - val_loss: 1.2524 - val_accuracy: 0.6000\n",
      "Epoch 5/800\n",
      "32/32 [==============================] - 0s 3ms/step - loss: 1.2264 - accuracy: 0.5878 - val_loss: 1.1667 - val_accuracy: 0.6179\n",
      "Epoch 6/800\n",
      "32/32 [==============================] - 0s 3ms/step - loss: 1.1414 - accuracy: 0.6208 - val_loss: 1.0893 - val_accuracy: 0.6418\n",
      "Epoch 7/800\n",
      "32/32 [==============================] - 0s 3ms/step - loss: 1.0663 - accuracy: 0.6267 - val_loss: 1.0254 - val_accuracy: 0.6567\n",
      "Epoch 8/800\n",
      "32/32 [==============================] - 0s 2ms/step - loss: 1.0032 - accuracy: 0.6567 - val_loss: 0.9667 - val_accuracy: 0.6776\n",
      "Epoch 9/800\n",
      "32/32 [==============================] - 0s 2ms/step - loss: 0.9481 - accuracy: 0.6806 - val_loss: 0.9149 - val_accuracy: 0.6746\n",
      "Epoch 10/800\n",
      "32/32 [==============================] - 0s 2ms/step - loss: 0.8951 - accuracy: 0.6986 - val_loss: 0.8682 - val_accuracy: 0.6806\n",
      "Epoch 11/800\n",
      "32/32 [==============================] - 0s 2ms/step - loss: 0.8519 - accuracy: 0.7116 - val_loss: 0.8323 - val_accuracy: 0.7104\n",
      "Epoch 12/800\n",
      "32/32 [==============================] - 0s 2ms/step - loss: 0.8155 - accuracy: 0.7106 - val_loss: 0.8007 - val_accuracy: 0.7045\n",
      "Epoch 13/800\n",
      "32/32 [==============================] - 0s 3ms/step - loss: 0.7819 - accuracy: 0.7325 - val_loss: 0.7728 - val_accuracy: 0.7343\n",
      "Epoch 14/800\n",
      "32/32 [==============================] - 0s 2ms/step - loss: 0.7528 - accuracy: 0.7295 - val_loss: 0.7479 - val_accuracy: 0.7403\n",
      "Epoch 15/800\n",
      "32/32 [==============================] - 0s 3ms/step - loss: 0.7278 - accuracy: 0.7465 - val_loss: 0.7210 - val_accuracy: 0.7642\n",
      "Epoch 16/800\n",
      "32/32 [==============================] - 0s 3ms/step - loss: 0.7028 - accuracy: 0.7575 - val_loss: 0.7039 - val_accuracy: 0.7522\n",
      "Epoch 17/800\n",
      "32/32 [==============================] - 0s 3ms/step - loss: 0.6842 - accuracy: 0.7575 - val_loss: 0.6853 - val_accuracy: 0.7582\n",
      "Epoch 18/800\n",
      "32/32 [==============================] - 0s 2ms/step - loss: 0.6638 - accuracy: 0.7715 - val_loss: 0.6664 - val_accuracy: 0.7701\n",
      "Epoch 19/800\n",
      "32/32 [==============================] - 0s 3ms/step - loss: 0.6453 - accuracy: 0.7814 - val_loss: 0.6481 - val_accuracy: 0.7791\n",
      "Epoch 20/800\n",
      "32/32 [==============================] - 0s 2ms/step - loss: 0.6285 - accuracy: 0.7904 - val_loss: 0.6349 - val_accuracy: 0.7821\n",
      "Epoch 21/800\n",
      "32/32 [==============================] - 0s 2ms/step - loss: 0.6137 - accuracy: 0.7974 - val_loss: 0.6212 - val_accuracy: 0.7821\n",
      "Epoch 22/800\n",
      "32/32 [==============================] - 0s 2ms/step - loss: 0.6006 - accuracy: 0.7984 - val_loss: 0.6121 - val_accuracy: 0.7970\n",
      "Epoch 23/800\n",
      "32/32 [==============================] - 0s 2ms/step - loss: 0.5867 - accuracy: 0.8034 - val_loss: 0.5959 - val_accuracy: 0.7940\n",
      "Epoch 24/800\n",
      "32/32 [==============================] - 0s 3ms/step - loss: 0.5765 - accuracy: 0.8064 - val_loss: 0.5867 - val_accuracy: 0.7970\n",
      "Epoch 25/800\n",
      "32/32 [==============================] - 0s 3ms/step - loss: 0.5647 - accuracy: 0.8094 - val_loss: 0.5784 - val_accuracy: 0.8000\n",
      "Epoch 26/800\n",
      "32/32 [==============================] - 0s 2ms/step - loss: 0.5550 - accuracy: 0.8044 - val_loss: 0.5659 - val_accuracy: 0.8030\n",
      "Epoch 27/800\n",
      "32/32 [==============================] - 0s 2ms/step - loss: 0.5456 - accuracy: 0.8184 - val_loss: 0.5594 - val_accuracy: 0.8060\n",
      "Epoch 28/800\n",
      "32/32 [==============================] - 0s 3ms/step - loss: 0.5363 - accuracy: 0.8253 - val_loss: 0.5564 - val_accuracy: 0.8179\n",
      "Epoch 29/800\n",
      "32/32 [==============================] - 0s 3ms/step - loss: 0.5267 - accuracy: 0.8253 - val_loss: 0.5459 - val_accuracy: 0.8179\n",
      "Epoch 30/800\n",
      "32/32 [==============================] - 0s 2ms/step - loss: 0.5195 - accuracy: 0.8263 - val_loss: 0.5382 - val_accuracy: 0.8090\n",
      "Epoch 31/800\n",
      "32/32 [==============================] - 0s 3ms/step - loss: 0.5129 - accuracy: 0.8293 - val_loss: 0.5326 - val_accuracy: 0.8179\n",
      "Epoch 32/800\n",
      "32/32 [==============================] - 0s 3ms/step - loss: 0.5075 - accuracy: 0.8293 - val_loss: 0.5258 - val_accuracy: 0.8209\n",
      "Epoch 33/800\n",
      "32/32 [==============================] - 0s 2ms/step - loss: 0.5004 - accuracy: 0.8273 - val_loss: 0.5219 - val_accuracy: 0.8179\n",
      "Epoch 34/800\n",
      "32/32 [==============================] - 0s 2ms/step - loss: 0.4954 - accuracy: 0.8303 - val_loss: 0.5135 - val_accuracy: 0.8179\n",
      "Epoch 35/800\n",
      "32/32 [==============================] - 0s 3ms/step - loss: 0.4897 - accuracy: 0.8363 - val_loss: 0.5097 - val_accuracy: 0.8209\n",
      "Epoch 36/800\n",
      "32/32 [==============================] - 0s 4ms/step - loss: 0.4850 - accuracy: 0.8273 - val_loss: 0.5096 - val_accuracy: 0.8149\n",
      "Epoch 37/800\n",
      "32/32 [==============================] - 0s 4ms/step - loss: 0.4803 - accuracy: 0.8353 - val_loss: 0.5008 - val_accuracy: 0.8269\n",
      "Epoch 38/800\n",
      "32/32 [==============================] - 0s 2ms/step - loss: 0.4761 - accuracy: 0.8373 - val_loss: 0.4952 - val_accuracy: 0.8269\n",
      "Epoch 39/800\n",
      "32/32 [==============================] - 0s 4ms/step - loss: 0.4726 - accuracy: 0.8343 - val_loss: 0.4961 - val_accuracy: 0.8179\n",
      "Epoch 40/800\n",
      "32/32 [==============================] - 0s 3ms/step - loss: 0.4674 - accuracy: 0.8413 - val_loss: 0.4898 - val_accuracy: 0.8269\n",
      "Epoch 41/800\n",
      "32/32 [==============================] - 0s 4ms/step - loss: 0.4643 - accuracy: 0.8393 - val_loss: 0.4900 - val_accuracy: 0.8269\n",
      "Epoch 42/800\n",
      "32/32 [==============================] - 0s 4ms/step - loss: 0.4609 - accuracy: 0.8353 - val_loss: 0.4830 - val_accuracy: 0.8269\n",
      "Epoch 43/800\n",
      "32/32 [==============================] - 0s 3ms/step - loss: 0.4591 - accuracy: 0.8413 - val_loss: 0.4806 - val_accuracy: 0.8328\n",
      "Epoch 44/800\n",
      "32/32 [==============================] - 0s 4ms/step - loss: 0.4542 - accuracy: 0.8383 - val_loss: 0.4799 - val_accuracy: 0.8179\n",
      "Epoch 45/800\n",
      "32/32 [==============================] - 0s 3ms/step - loss: 0.4525 - accuracy: 0.8343 - val_loss: 0.4754 - val_accuracy: 0.8239\n",
      "Epoch 46/800\n",
      "32/32 [==============================] - 0s 3ms/step - loss: 0.4509 - accuracy: 0.8413 - val_loss: 0.4738 - val_accuracy: 0.8328\n",
      "Epoch 47/800\n",
      "32/32 [==============================] - 0s 4ms/step - loss: 0.4475 - accuracy: 0.8393 - val_loss: 0.4719 - val_accuracy: 0.8328\n",
      "Epoch 48/800\n",
      "32/32 [==============================] - 0s 6ms/step - loss: 0.4441 - accuracy: 0.8403 - val_loss: 0.4697 - val_accuracy: 0.8299\n",
      "Epoch 49/800\n",
      "32/32 [==============================] - 0s 3ms/step - loss: 0.4422 - accuracy: 0.8373 - val_loss: 0.4658 - val_accuracy: 0.8328\n",
      "Epoch 50/800\n",
      "32/32 [==============================] - 0s 3ms/step - loss: 0.4415 - accuracy: 0.8403 - val_loss: 0.4636 - val_accuracy: 0.8358\n",
      "Epoch 51/800\n",
      "32/32 [==============================] - 0s 3ms/step - loss: 0.4379 - accuracy: 0.8443 - val_loss: 0.4603 - val_accuracy: 0.8388\n",
      "Epoch 52/800\n",
      "32/32 [==============================] - 0s 3ms/step - loss: 0.4369 - accuracy: 0.8453 - val_loss: 0.4588 - val_accuracy: 0.8388\n",
      "Epoch 53/800\n",
      "32/32 [==============================] - 0s 2ms/step - loss: 0.4348 - accuracy: 0.8453 - val_loss: 0.4575 - val_accuracy: 0.8328\n",
      "Epoch 54/800\n",
      "32/32 [==============================] - 0s 3ms/step - loss: 0.4327 - accuracy: 0.8443 - val_loss: 0.4552 - val_accuracy: 0.8388\n",
      "Epoch 55/800\n",
      "32/32 [==============================] - 0s 2ms/step - loss: 0.4296 - accuracy: 0.8433 - val_loss: 0.4559 - val_accuracy: 0.8388\n",
      "Epoch 56/800\n",
      "32/32 [==============================] - 0s 3ms/step - loss: 0.4284 - accuracy: 0.8463 - val_loss: 0.4555 - val_accuracy: 0.8418\n",
      "Epoch 57/800\n",
      "32/32 [==============================] - 0s 3ms/step - loss: 0.4304 - accuracy: 0.8463 - val_loss: 0.4550 - val_accuracy: 0.8388\n",
      "Epoch 58/800\n",
      "32/32 [==============================] - 0s 3ms/step - loss: 0.4259 - accuracy: 0.8433 - val_loss: 0.4475 - val_accuracy: 0.8418\n",
      "Epoch 59/800\n",
      "32/32 [==============================] - 0s 3ms/step - loss: 0.4236 - accuracy: 0.8443 - val_loss: 0.4475 - val_accuracy: 0.8418\n",
      "Epoch 60/800\n",
      "32/32 [==============================] - 0s 3ms/step - loss: 0.4223 - accuracy: 0.8483 - val_loss: 0.4477 - val_accuracy: 0.8328\n",
      "Epoch 61/800\n",
      "32/32 [==============================] - 0s 3ms/step - loss: 0.4204 - accuracy: 0.8483 - val_loss: 0.4469 - val_accuracy: 0.8418\n",
      "Epoch 62/800\n",
      "32/32 [==============================] - 0s 3ms/step - loss: 0.4186 - accuracy: 0.8453 - val_loss: 0.4463 - val_accuracy: 0.8388\n",
      "Epoch 63/800\n",
      "32/32 [==============================] - 0s 3ms/step - loss: 0.4192 - accuracy: 0.8483 - val_loss: 0.4467 - val_accuracy: 0.8418\n",
      "Epoch 64/800\n",
      "32/32 [==============================] - 0s 2ms/step - loss: 0.4166 - accuracy: 0.8533 - val_loss: 0.4428 - val_accuracy: 0.8537\n",
      "Epoch 65/800\n",
      "32/32 [==============================] - 0s 3ms/step - loss: 0.4165 - accuracy: 0.8513 - val_loss: 0.4435 - val_accuracy: 0.8418\n",
      "Epoch 66/800\n",
      "32/32 [==============================] - 0s 3ms/step - loss: 0.4140 - accuracy: 0.8483 - val_loss: 0.4388 - val_accuracy: 0.8537\n",
      "Epoch 67/800\n",
      "32/32 [==============================] - 0s 3ms/step - loss: 0.4134 - accuracy: 0.8503 - val_loss: 0.4413 - val_accuracy: 0.8448\n",
      "Epoch 68/800\n",
      "32/32 [==============================] - 0s 3ms/step - loss: 0.4119 - accuracy: 0.8533 - val_loss: 0.4368 - val_accuracy: 0.8448\n",
      "Epoch 69/800\n",
      "32/32 [==============================] - 0s 3ms/step - loss: 0.4122 - accuracy: 0.8513 - val_loss: 0.4373 - val_accuracy: 0.8567\n",
      "Epoch 70/800\n",
      "32/32 [==============================] - 0s 3ms/step - loss: 0.4110 - accuracy: 0.8483 - val_loss: 0.4397 - val_accuracy: 0.8358\n",
      "Epoch 71/800\n",
      "32/32 [==============================] - 0s 3ms/step - loss: 0.4090 - accuracy: 0.8513 - val_loss: 0.4340 - val_accuracy: 0.8537\n",
      "Epoch 72/800\n",
      "32/32 [==============================] - 0s 2ms/step - loss: 0.4082 - accuracy: 0.8573 - val_loss: 0.4348 - val_accuracy: 0.8507\n",
      "Epoch 73/800\n",
      "32/32 [==============================] - 0s 3ms/step - loss: 0.4081 - accuracy: 0.8493 - val_loss: 0.4370 - val_accuracy: 0.8418\n",
      "Epoch 74/800\n",
      "32/32 [==============================] - 0s 2ms/step - loss: 0.4060 - accuracy: 0.8513 - val_loss: 0.4334 - val_accuracy: 0.8478\n",
      "Epoch 75/800\n",
      "32/32 [==============================] - 0s 3ms/step - loss: 0.4048 - accuracy: 0.8563 - val_loss: 0.4311 - val_accuracy: 0.8478\n",
      "Epoch 76/800\n",
      "32/32 [==============================] - 0s 3ms/step - loss: 0.4044 - accuracy: 0.8473 - val_loss: 0.4325 - val_accuracy: 0.8418\n",
      "Epoch 77/800\n",
      "32/32 [==============================] - 0s 3ms/step - loss: 0.4027 - accuracy: 0.8493 - val_loss: 0.4300 - val_accuracy: 0.8537\n",
      "Epoch 78/800\n",
      "32/32 [==============================] - 0s 3ms/step - loss: 0.4045 - accuracy: 0.8483 - val_loss: 0.4292 - val_accuracy: 0.8537\n",
      "Epoch 79/800\n",
      "32/32 [==============================] - 0s 3ms/step - loss: 0.4017 - accuracy: 0.8543 - val_loss: 0.4299 - val_accuracy: 0.8388\n",
      "Epoch 80/800\n",
      "32/32 [==============================] - 0s 2ms/step - loss: 0.4001 - accuracy: 0.8543 - val_loss: 0.4281 - val_accuracy: 0.8567\n",
      "Epoch 81/800\n",
      "32/32 [==============================] - 0s 3ms/step - loss: 0.3992 - accuracy: 0.8533 - val_loss: 0.4295 - val_accuracy: 0.8478\n",
      "Epoch 82/800\n",
      "32/32 [==============================] - 0s 2ms/step - loss: 0.3987 - accuracy: 0.8523 - val_loss: 0.4284 - val_accuracy: 0.8597\n",
      "Epoch 83/800\n",
      "32/32 [==============================] - 0s 3ms/step - loss: 0.3987 - accuracy: 0.8523 - val_loss: 0.4279 - val_accuracy: 0.8448\n",
      "Epoch 84/800\n",
      "32/32 [==============================] - 0s 3ms/step - loss: 0.3981 - accuracy: 0.8563 - val_loss: 0.4278 - val_accuracy: 0.8388\n",
      "Epoch 85/800\n",
      "32/32 [==============================] - 0s 3ms/step - loss: 0.3974 - accuracy: 0.8543 - val_loss: 0.4272 - val_accuracy: 0.8567\n",
      "Epoch 86/800\n",
      "32/32 [==============================] - 0s 2ms/step - loss: 0.3956 - accuracy: 0.8513 - val_loss: 0.4232 - val_accuracy: 0.8537\n",
      "Epoch 87/800\n",
      "32/32 [==============================] - 0s 3ms/step - loss: 0.3946 - accuracy: 0.8563 - val_loss: 0.4257 - val_accuracy: 0.8478\n",
      "Epoch 88/800\n",
      "32/32 [==============================] - 0s 2ms/step - loss: 0.3940 - accuracy: 0.8493 - val_loss: 0.4240 - val_accuracy: 0.8507\n",
      "Epoch 89/800\n",
      "32/32 [==============================] - 0s 3ms/step - loss: 0.3948 - accuracy: 0.8573 - val_loss: 0.4242 - val_accuracy: 0.8478\n",
      "Epoch 90/800\n",
      "32/32 [==============================] - 0s 3ms/step - loss: 0.3948 - accuracy: 0.8563 - val_loss: 0.4239 - val_accuracy: 0.8478\n",
      "Epoch 91/800\n",
      "32/32 [==============================] - 0s 2ms/step - loss: 0.3928 - accuracy: 0.8563 - val_loss: 0.4234 - val_accuracy: 0.8537\n",
      "Epoch 92/800\n",
      "32/32 [==============================] - 0s 3ms/step - loss: 0.3921 - accuracy: 0.8533 - val_loss: 0.4230 - val_accuracy: 0.8478\n",
      "Epoch 93/800\n",
      "32/32 [==============================] - 0s 2ms/step - loss: 0.3918 - accuracy: 0.8543 - val_loss: 0.4188 - val_accuracy: 0.8537\n",
      "Epoch 94/800\n",
      "32/32 [==============================] - 0s 3ms/step - loss: 0.3914 - accuracy: 0.8533 - val_loss: 0.4236 - val_accuracy: 0.8358\n",
      "Epoch 95/800\n",
      "32/32 [==============================] - 0s 3ms/step - loss: 0.3893 - accuracy: 0.8523 - val_loss: 0.4191 - val_accuracy: 0.8507\n",
      "Epoch 96/800\n",
      "32/32 [==============================] - 0s 3ms/step - loss: 0.3892 - accuracy: 0.8583 - val_loss: 0.4198 - val_accuracy: 0.8537\n",
      "Epoch 97/800\n",
      "32/32 [==============================] - 0s 2ms/step - loss: 0.3896 - accuracy: 0.8493 - val_loss: 0.4202 - val_accuracy: 0.8507\n",
      "Epoch 98/800\n",
      "32/32 [==============================] - 0s 3ms/step - loss: 0.3889 - accuracy: 0.8533 - val_loss: 0.4177 - val_accuracy: 0.8507\n",
      "Epoch 99/800\n",
      "32/32 [==============================] - 0s 3ms/step - loss: 0.3876 - accuracy: 0.8583 - val_loss: 0.4172 - val_accuracy: 0.8478\n",
      "Epoch 100/800\n",
      "32/32 [==============================] - 0s 2ms/step - loss: 0.3872 - accuracy: 0.8553 - val_loss: 0.4167 - val_accuracy: 0.8448\n",
      "Epoch 101/800\n",
      "32/32 [==============================] - 0s 3ms/step - loss: 0.3860 - accuracy: 0.8493 - val_loss: 0.4175 - val_accuracy: 0.8478\n",
      "Epoch 102/800\n",
      "32/32 [==============================] - 0s 3ms/step - loss: 0.3868 - accuracy: 0.8563 - val_loss: 0.4161 - val_accuracy: 0.8537\n",
      "Epoch 103/800\n",
      "32/32 [==============================] - 0s 3ms/step - loss: 0.3862 - accuracy: 0.8543 - val_loss: 0.4149 - val_accuracy: 0.8537\n",
      "Epoch 104/800\n",
      "32/32 [==============================] - 0s 3ms/step - loss: 0.3853 - accuracy: 0.8563 - val_loss: 0.4139 - val_accuracy: 0.8507\n",
      "Epoch 105/800\n",
      "32/32 [==============================] - 0s 2ms/step - loss: 0.3847 - accuracy: 0.8543 - val_loss: 0.4178 - val_accuracy: 0.8567\n",
      "Epoch 106/800\n",
      "32/32 [==============================] - 0s 3ms/step - loss: 0.3840 - accuracy: 0.8533 - val_loss: 0.4137 - val_accuracy: 0.8537\n",
      "Epoch 107/800\n",
      "32/32 [==============================] - 0s 3ms/step - loss: 0.3836 - accuracy: 0.8543 - val_loss: 0.4146 - val_accuracy: 0.8507\n",
      "Epoch 108/800\n",
      "32/32 [==============================] - 0s 3ms/step - loss: 0.3826 - accuracy: 0.8563 - val_loss: 0.4141 - val_accuracy: 0.8537\n",
      "Epoch 109/800\n",
      "32/32 [==============================] - 0s 3ms/step - loss: 0.3821 - accuracy: 0.8553 - val_loss: 0.4168 - val_accuracy: 0.8418\n",
      "Epoch 110/800\n",
      "32/32 [==============================] - 0s 3ms/step - loss: 0.3809 - accuracy: 0.8593 - val_loss: 0.4140 - val_accuracy: 0.8567\n",
      "Epoch 111/800\n",
      "32/32 [==============================] - 0s 2ms/step - loss: 0.3824 - accuracy: 0.8503 - val_loss: 0.4095 - val_accuracy: 0.8507\n",
      "Epoch 112/800\n",
      "32/32 [==============================] - 0s 3ms/step - loss: 0.3798 - accuracy: 0.8573 - val_loss: 0.4151 - val_accuracy: 0.8478\n",
      "Epoch 113/800\n",
      "32/32 [==============================] - 0s 3ms/step - loss: 0.3797 - accuracy: 0.8583 - val_loss: 0.4143 - val_accuracy: 0.8478\n",
      "Epoch 114/800\n",
      "32/32 [==============================] - 0s 3ms/step - loss: 0.3796 - accuracy: 0.8543 - val_loss: 0.4131 - val_accuracy: 0.8537\n",
      "Epoch 115/800\n",
      "32/32 [==============================] - 0s 3ms/step - loss: 0.3780 - accuracy: 0.8543 - val_loss: 0.4101 - val_accuracy: 0.8507\n",
      "Epoch 116/800\n",
      "32/32 [==============================] - 0s 3ms/step - loss: 0.3781 - accuracy: 0.8573 - val_loss: 0.4096 - val_accuracy: 0.8537\n",
      "Epoch 117/800\n",
      "32/32 [==============================] - 0s 3ms/step - loss: 0.3774 - accuracy: 0.8583 - val_loss: 0.4095 - val_accuracy: 0.8507\n",
      "Epoch 118/800\n",
      "32/32 [==============================] - 0s 3ms/step - loss: 0.3775 - accuracy: 0.8633 - val_loss: 0.4105 - val_accuracy: 0.8507\n",
      "Epoch 119/800\n",
      "32/32 [==============================] - 0s 3ms/step - loss: 0.3770 - accuracy: 0.8583 - val_loss: 0.4119 - val_accuracy: 0.8478\n",
      "Epoch 120/800\n",
      "32/32 [==============================] - 0s 3ms/step - loss: 0.3785 - accuracy: 0.8543 - val_loss: 0.4101 - val_accuracy: 0.8448\n",
      "Epoch 121/800\n",
      "32/32 [==============================] - 0s 3ms/step - loss: 0.3761 - accuracy: 0.8613 - val_loss: 0.4105 - val_accuracy: 0.8507\n",
      "Epoch 122/800\n",
      "32/32 [==============================] - 0s 2ms/step - loss: 0.3754 - accuracy: 0.8593 - val_loss: 0.4102 - val_accuracy: 0.8507\n",
      "Epoch 123/800\n",
      "32/32 [==============================] - 0s 3ms/step - loss: 0.3761 - accuracy: 0.8543 - val_loss: 0.4113 - val_accuracy: 0.8507\n",
      "Epoch 124/800\n",
      "32/32 [==============================] - 0s 2ms/step - loss: 0.3755 - accuracy: 0.8563 - val_loss: 0.4093 - val_accuracy: 0.8537\n",
      "Epoch 125/800\n",
      "32/32 [==============================] - 0s 3ms/step - loss: 0.3751 - accuracy: 0.8653 - val_loss: 0.4128 - val_accuracy: 0.8448\n",
      "Epoch 126/800\n",
      "32/32 [==============================] - 0s 3ms/step - loss: 0.3746 - accuracy: 0.8583 - val_loss: 0.4083 - val_accuracy: 0.8537\n",
      "Epoch 127/800\n",
      "32/32 [==============================] - 0s 3ms/step - loss: 0.3743 - accuracy: 0.8573 - val_loss: 0.4101 - val_accuracy: 0.8448\n",
      "Epoch 128/800\n",
      "32/32 [==============================] - 0s 3ms/step - loss: 0.3740 - accuracy: 0.8563 - val_loss: 0.4112 - val_accuracy: 0.8537\n",
      "Epoch 129/800\n",
      "32/32 [==============================] - 0s 2ms/step - loss: 0.3717 - accuracy: 0.8553 - val_loss: 0.4057 - val_accuracy: 0.8507\n",
      "Epoch 130/800\n",
      "32/32 [==============================] - 0s 3ms/step - loss: 0.3740 - accuracy: 0.8603 - val_loss: 0.4060 - val_accuracy: 0.8478\n",
      "Epoch 131/800\n",
      "32/32 [==============================] - 0s 3ms/step - loss: 0.3726 - accuracy: 0.8593 - val_loss: 0.4094 - val_accuracy: 0.8478\n",
      "Epoch 132/800\n",
      "32/32 [==============================] - 0s 3ms/step - loss: 0.3732 - accuracy: 0.8583 - val_loss: 0.4095 - val_accuracy: 0.8507\n",
      "Epoch 133/800\n",
      "32/32 [==============================] - 0s 3ms/step - loss: 0.3712 - accuracy: 0.8583 - val_loss: 0.4055 - val_accuracy: 0.8567\n",
      "Epoch 134/800\n",
      "32/32 [==============================] - 0s 2ms/step - loss: 0.3700 - accuracy: 0.8623 - val_loss: 0.4087 - val_accuracy: 0.8567\n",
      "Epoch 135/800\n",
      "32/32 [==============================] - 0s 3ms/step - loss: 0.3700 - accuracy: 0.8603 - val_loss: 0.4061 - val_accuracy: 0.8478\n",
      "Epoch 136/800\n",
      "32/32 [==============================] - 0s 3ms/step - loss: 0.3703 - accuracy: 0.8593 - val_loss: 0.4089 - val_accuracy: 0.8507\n",
      "Epoch 137/800\n",
      "32/32 [==============================] - 0s 3ms/step - loss: 0.3693 - accuracy: 0.8563 - val_loss: 0.4054 - val_accuracy: 0.8507\n",
      "Epoch 138/800\n",
      "32/32 [==============================] - 0s 3ms/step - loss: 0.3683 - accuracy: 0.8593 - val_loss: 0.4043 - val_accuracy: 0.8507\n",
      "Epoch 139/800\n",
      "32/32 [==============================] - 0s 3ms/step - loss: 0.3686 - accuracy: 0.8583 - val_loss: 0.4026 - val_accuracy: 0.8478\n",
      "Epoch 140/800\n",
      "32/32 [==============================] - 0s 3ms/step - loss: 0.3684 - accuracy: 0.8613 - val_loss: 0.4074 - val_accuracy: 0.8478\n",
      "Epoch 141/800\n",
      "32/32 [==============================] - 0s 2ms/step - loss: 0.3676 - accuracy: 0.8613 - val_loss: 0.4046 - val_accuracy: 0.8507\n",
      "Epoch 142/800\n",
      "32/32 [==============================] - 0s 3ms/step - loss: 0.3672 - accuracy: 0.8603 - val_loss: 0.4053 - val_accuracy: 0.8507\n",
      "Epoch 143/800\n",
      "32/32 [==============================] - 0s 3ms/step - loss: 0.3661 - accuracy: 0.8643 - val_loss: 0.4055 - val_accuracy: 0.8507\n",
      "Epoch 144/800\n",
      "32/32 [==============================] - 0s 3ms/step - loss: 0.3672 - accuracy: 0.8633 - val_loss: 0.4034 - val_accuracy: 0.8507\n",
      "Epoch 145/800\n",
      "32/32 [==============================] - 0s 3ms/step - loss: 0.3662 - accuracy: 0.8603 - val_loss: 0.4021 - val_accuracy: 0.8478\n",
      "Epoch 146/800\n",
      "32/32 [==============================] - 0s 3ms/step - loss: 0.3657 - accuracy: 0.8573 - val_loss: 0.4065 - val_accuracy: 0.8537\n",
      "Epoch 147/800\n",
      "32/32 [==============================] - 0s 3ms/step - loss: 0.3659 - accuracy: 0.8583 - val_loss: 0.4037 - val_accuracy: 0.8537\n",
      "Epoch 148/800\n",
      "32/32 [==============================] - 0s 3ms/step - loss: 0.3658 - accuracy: 0.8563 - val_loss: 0.4061 - val_accuracy: 0.8507\n",
      "Epoch 149/800\n",
      "32/32 [==============================] - 0s 3ms/step - loss: 0.3640 - accuracy: 0.8623 - val_loss: 0.4059 - val_accuracy: 0.8448\n",
      "Epoch 150/800\n",
      "32/32 [==============================] - 0s 3ms/step - loss: 0.3642 - accuracy: 0.8643 - val_loss: 0.4050 - val_accuracy: 0.8478\n",
      "Epoch 151/800\n",
      "32/32 [==============================] - 0s 3ms/step - loss: 0.3654 - accuracy: 0.8613 - val_loss: 0.4084 - val_accuracy: 0.8478\n",
      "Epoch 152/800\n",
      "32/32 [==============================] - 0s 3ms/step - loss: 0.3633 - accuracy: 0.8543 - val_loss: 0.4017 - val_accuracy: 0.8448\n",
      "Epoch 153/800\n",
      "32/32 [==============================] - 0s 3ms/step - loss: 0.3631 - accuracy: 0.8623 - val_loss: 0.4063 - val_accuracy: 0.8537\n",
      "Epoch 154/800\n",
      "32/32 [==============================] - 0s 3ms/step - loss: 0.3619 - accuracy: 0.8603 - val_loss: 0.4025 - val_accuracy: 0.8507\n",
      "Epoch 155/800\n",
      "32/32 [==============================] - 0s 2ms/step - loss: 0.3611 - accuracy: 0.8623 - val_loss: 0.4037 - val_accuracy: 0.8448\n",
      "Epoch 156/800\n",
      "32/32 [==============================] - 0s 5ms/step - loss: 0.3615 - accuracy: 0.8643 - val_loss: 0.4046 - val_accuracy: 0.8448\n",
      "Epoch 157/800\n",
      "32/32 [==============================] - 0s 3ms/step - loss: 0.3616 - accuracy: 0.8613 - val_loss: 0.4032 - val_accuracy: 0.8478\n",
      "Epoch 158/800\n",
      "32/32 [==============================] - 0s 3ms/step - loss: 0.3605 - accuracy: 0.8633 - val_loss: 0.4045 - val_accuracy: 0.8507\n",
      "Epoch 159/800\n",
      "32/32 [==============================] - 0s 3ms/step - loss: 0.3603 - accuracy: 0.8593 - val_loss: 0.4048 - val_accuracy: 0.8478\n",
      "Epoch 160/800\n",
      "32/32 [==============================] - 0s 3ms/step - loss: 0.3594 - accuracy: 0.8623 - val_loss: 0.4033 - val_accuracy: 0.8478\n",
      "Epoch 161/800\n",
      "32/32 [==============================] - 0s 3ms/step - loss: 0.3587 - accuracy: 0.8633 - val_loss: 0.4050 - val_accuracy: 0.8478\n",
      "Epoch 162/800\n",
      "32/32 [==============================] - 0s 2ms/step - loss: 0.3592 - accuracy: 0.8593 - val_loss: 0.4018 - val_accuracy: 0.8388\n",
      "Epoch 163/800\n",
      "32/32 [==============================] - 0s 3ms/step - loss: 0.3587 - accuracy: 0.8613 - val_loss: 0.4057 - val_accuracy: 0.8478\n",
      "Epoch 164/800\n",
      "32/32 [==============================] - 0s 3ms/step - loss: 0.3577 - accuracy: 0.8613 - val_loss: 0.4072 - val_accuracy: 0.8478\n",
      "Epoch 165/800\n",
      "32/32 [==============================] - 0s 3ms/step - loss: 0.3561 - accuracy: 0.8613 - val_loss: 0.4012 - val_accuracy: 0.8478\n",
      "Epoch 166/800\n",
      "32/32 [==============================] - 0s 3ms/step - loss: 0.3571 - accuracy: 0.8623 - val_loss: 0.4044 - val_accuracy: 0.8507\n",
      "Epoch 167/800\n",
      "32/32 [==============================] - 0s 3ms/step - loss: 0.3561 - accuracy: 0.8643 - val_loss: 0.4021 - val_accuracy: 0.8478\n",
      "Epoch 168/800\n",
      "32/32 [==============================] - 0s 2ms/step - loss: 0.3559 - accuracy: 0.8643 - val_loss: 0.4000 - val_accuracy: 0.8478\n",
      "Epoch 169/800\n",
      "32/32 [==============================] - 0s 3ms/step - loss: 0.3562 - accuracy: 0.8663 - val_loss: 0.4014 - val_accuracy: 0.8478\n",
      "Epoch 170/800\n",
      "32/32 [==============================] - 0s 2ms/step - loss: 0.3575 - accuracy: 0.8613 - val_loss: 0.4021 - val_accuracy: 0.8478\n",
      "Epoch 171/800\n",
      "32/32 [==============================] - 0s 3ms/step - loss: 0.3555 - accuracy: 0.8673 - val_loss: 0.3995 - val_accuracy: 0.8537\n",
      "Epoch 172/800\n",
      "32/32 [==============================] - 0s 3ms/step - loss: 0.3557 - accuracy: 0.8623 - val_loss: 0.4045 - val_accuracy: 0.8448\n",
      "Epoch 173/800\n",
      "32/32 [==============================] - 0s 3ms/step - loss: 0.3544 - accuracy: 0.8653 - val_loss: 0.3980 - val_accuracy: 0.8418\n",
      "Epoch 174/800\n",
      "32/32 [==============================] - 0s 3ms/step - loss: 0.3541 - accuracy: 0.8623 - val_loss: 0.4002 - val_accuracy: 0.8418\n",
      "Epoch 175/800\n",
      "32/32 [==============================] - 0s 2ms/step - loss: 0.3539 - accuracy: 0.8633 - val_loss: 0.4008 - val_accuracy: 0.8507\n",
      "Epoch 176/800\n",
      "32/32 [==============================] - 0s 2ms/step - loss: 0.3520 - accuracy: 0.8653 - val_loss: 0.4004 - val_accuracy: 0.8507\n",
      "Epoch 177/800\n",
      "32/32 [==============================] - 0s 2ms/step - loss: 0.3525 - accuracy: 0.8653 - val_loss: 0.4002 - val_accuracy: 0.8507\n",
      "Epoch 178/800\n",
      "32/32 [==============================] - 0s 3ms/step - loss: 0.3527 - accuracy: 0.8653 - val_loss: 0.4004 - val_accuracy: 0.8478\n",
      "Epoch 179/800\n",
      "32/32 [==============================] - 0s 2ms/step - loss: 0.3519 - accuracy: 0.8693 - val_loss: 0.4003 - val_accuracy: 0.8478\n",
      "Epoch 180/800\n",
      "32/32 [==============================] - 0s 2ms/step - loss: 0.3514 - accuracy: 0.8633 - val_loss: 0.4005 - val_accuracy: 0.8448\n",
      "Epoch 181/800\n",
      "32/32 [==============================] - 0s 2ms/step - loss: 0.3511 - accuracy: 0.8733 - val_loss: 0.4035 - val_accuracy: 0.8448\n",
      "Epoch 182/800\n",
      "32/32 [==============================] - 0s 2ms/step - loss: 0.3504 - accuracy: 0.8653 - val_loss: 0.3990 - val_accuracy: 0.8388\n",
      "Epoch 183/800\n",
      "32/32 [==============================] - 0s 2ms/step - loss: 0.3495 - accuracy: 0.8643 - val_loss: 0.4006 - val_accuracy: 0.8418\n",
      "Epoch 184/800\n",
      "32/32 [==============================] - 0s 2ms/step - loss: 0.3507 - accuracy: 0.8663 - val_loss: 0.4039 - val_accuracy: 0.8478\n",
      "Epoch 185/800\n",
      "32/32 [==============================] - 0s 2ms/step - loss: 0.3493 - accuracy: 0.8703 - val_loss: 0.3975 - val_accuracy: 0.8448\n",
      "Epoch 186/800\n",
      "32/32 [==============================] - 0s 2ms/step - loss: 0.3493 - accuracy: 0.8683 - val_loss: 0.3998 - val_accuracy: 0.8478\n",
      "Epoch 187/800\n",
      "32/32 [==============================] - 0s 2ms/step - loss: 0.3479 - accuracy: 0.8693 - val_loss: 0.3990 - val_accuracy: 0.8448\n",
      "Epoch 188/800\n",
      "32/32 [==============================] - 0s 2ms/step - loss: 0.3471 - accuracy: 0.8673 - val_loss: 0.4008 - val_accuracy: 0.8388\n",
      "Epoch 189/800\n",
      "32/32 [==============================] - 0s 2ms/step - loss: 0.3466 - accuracy: 0.8703 - val_loss: 0.3970 - val_accuracy: 0.8418\n",
      "Epoch 190/800\n",
      "32/32 [==============================] - 0s 3ms/step - loss: 0.3475 - accuracy: 0.8673 - val_loss: 0.3967 - val_accuracy: 0.8448\n",
      "Epoch 191/800\n",
      "32/32 [==============================] - 0s 2ms/step - loss: 0.3460 - accuracy: 0.8683 - val_loss: 0.3979 - val_accuracy: 0.8388\n",
      "Epoch 192/800\n",
      "32/32 [==============================] - 0s 2ms/step - loss: 0.3463 - accuracy: 0.8703 - val_loss: 0.3978 - val_accuracy: 0.8478\n",
      "Epoch 193/800\n",
      "32/32 [==============================] - 0s 2ms/step - loss: 0.3456 - accuracy: 0.8752 - val_loss: 0.3961 - val_accuracy: 0.8478\n",
      "Epoch 194/800\n",
      "32/32 [==============================] - 0s 2ms/step - loss: 0.3437 - accuracy: 0.8693 - val_loss: 0.4014 - val_accuracy: 0.8418\n",
      "Epoch 195/800\n",
      "32/32 [==============================] - 0s 2ms/step - loss: 0.3435 - accuracy: 0.8713 - val_loss: 0.3967 - val_accuracy: 0.8478\n",
      "Epoch 196/800\n",
      "32/32 [==============================] - 0s 2ms/step - loss: 0.3452 - accuracy: 0.8673 - val_loss: 0.3997 - val_accuracy: 0.8478\n",
      "Epoch 197/800\n",
      "32/32 [==============================] - 0s 2ms/step - loss: 0.3442 - accuracy: 0.8743 - val_loss: 0.3993 - val_accuracy: 0.8388\n",
      "Epoch 198/800\n",
      "32/32 [==============================] - 0s 2ms/step - loss: 0.3428 - accuracy: 0.8723 - val_loss: 0.3937 - val_accuracy: 0.8478\n",
      "Epoch 199/800\n",
      "32/32 [==============================] - 0s 3ms/step - loss: 0.3432 - accuracy: 0.8683 - val_loss: 0.3992 - val_accuracy: 0.8388\n",
      "Epoch 200/800\n",
      "32/32 [==============================] - 0s 2ms/step - loss: 0.3420 - accuracy: 0.8802 - val_loss: 0.3976 - val_accuracy: 0.8388\n",
      "Epoch 201/800\n",
      "32/32 [==============================] - 0s 2ms/step - loss: 0.3417 - accuracy: 0.8733 - val_loss: 0.3966 - val_accuracy: 0.8448\n",
      "Epoch 202/800\n",
      "32/32 [==============================] - 0s 3ms/step - loss: 0.3408 - accuracy: 0.8693 - val_loss: 0.3938 - val_accuracy: 0.8388\n",
      "Epoch 203/800\n",
      "32/32 [==============================] - 0s 2ms/step - loss: 0.3412 - accuracy: 0.8752 - val_loss: 0.3958 - val_accuracy: 0.8358\n",
      "Epoch 204/800\n",
      "32/32 [==============================] - 0s 2ms/step - loss: 0.3399 - accuracy: 0.8723 - val_loss: 0.3946 - val_accuracy: 0.8418\n",
      "Epoch 205/800\n",
      "32/32 [==============================] - 0s 2ms/step - loss: 0.3398 - accuracy: 0.8752 - val_loss: 0.3963 - val_accuracy: 0.8358\n",
      "Epoch 206/800\n",
      "32/32 [==============================] - 0s 3ms/step - loss: 0.3404 - accuracy: 0.8762 - val_loss: 0.3971 - val_accuracy: 0.8418\n",
      "Epoch 207/800\n",
      "32/32 [==============================] - 0s 3ms/step - loss: 0.3396 - accuracy: 0.8743 - val_loss: 0.3979 - val_accuracy: 0.8328\n",
      "Epoch 208/800\n",
      "32/32 [==============================] - 0s 3ms/step - loss: 0.3390 - accuracy: 0.8743 - val_loss: 0.3940 - val_accuracy: 0.8418\n",
      "Epoch 209/800\n",
      "32/32 [==============================] - 0s 2ms/step - loss: 0.3388 - accuracy: 0.8723 - val_loss: 0.3953 - val_accuracy: 0.8388\n",
      "Epoch 210/800\n",
      "32/32 [==============================] - 0s 2ms/step - loss: 0.3374 - accuracy: 0.8782 - val_loss: 0.3989 - val_accuracy: 0.8358\n",
      "Epoch 211/800\n",
      "32/32 [==============================] - 0s 2ms/step - loss: 0.3377 - accuracy: 0.8743 - val_loss: 0.3984 - val_accuracy: 0.8358\n",
      "Epoch 212/800\n",
      "32/32 [==============================] - 0s 2ms/step - loss: 0.3367 - accuracy: 0.8772 - val_loss: 0.3968 - val_accuracy: 0.8418\n",
      "Epoch 213/800\n",
      "32/32 [==============================] - 0s 3ms/step - loss: 0.3364 - accuracy: 0.8752 - val_loss: 0.3965 - val_accuracy: 0.8388\n",
      "Epoch 214/800\n",
      "32/32 [==============================] - 0s 2ms/step - loss: 0.3364 - accuracy: 0.8762 - val_loss: 0.3980 - val_accuracy: 0.8388\n",
      "Epoch 215/800\n",
      "32/32 [==============================] - 0s 2ms/step - loss: 0.3356 - accuracy: 0.8762 - val_loss: 0.3927 - val_accuracy: 0.8418\n",
      "Epoch 216/800\n",
      "32/32 [==============================] - 0s 2ms/step - loss: 0.3353 - accuracy: 0.8782 - val_loss: 0.3951 - val_accuracy: 0.8448\n",
      "Epoch 217/800\n",
      "32/32 [==============================] - 0s 2ms/step - loss: 0.3359 - accuracy: 0.8772 - val_loss: 0.3981 - val_accuracy: 0.8418\n",
      "Epoch 218/800\n",
      "32/32 [==============================] - 0s 2ms/step - loss: 0.3334 - accuracy: 0.8752 - val_loss: 0.3931 - val_accuracy: 0.8388\n",
      "Epoch 219/800\n",
      "32/32 [==============================] - 0s 2ms/step - loss: 0.3338 - accuracy: 0.8822 - val_loss: 0.3932 - val_accuracy: 0.8448\n",
      "Epoch 220/800\n",
      "32/32 [==============================] - 0s 2ms/step - loss: 0.3324 - accuracy: 0.8772 - val_loss: 0.3970 - val_accuracy: 0.8358\n",
      "Epoch 221/800\n",
      "32/32 [==============================] - 0s 3ms/step - loss: 0.3320 - accuracy: 0.8752 - val_loss: 0.3946 - val_accuracy: 0.8388\n",
      "Epoch 222/800\n",
      "32/32 [==============================] - 0s 2ms/step - loss: 0.3334 - accuracy: 0.8792 - val_loss: 0.3915 - val_accuracy: 0.8418\n",
      "Epoch 223/800\n",
      "32/32 [==============================] - 0s 3ms/step - loss: 0.3322 - accuracy: 0.8743 - val_loss: 0.3958 - val_accuracy: 0.8418\n",
      "Epoch 224/800\n",
      "32/32 [==============================] - 0s 3ms/step - loss: 0.3323 - accuracy: 0.8762 - val_loss: 0.3924 - val_accuracy: 0.8418\n",
      "Epoch 225/800\n",
      "32/32 [==============================] - 0s 2ms/step - loss: 0.3311 - accuracy: 0.8772 - val_loss: 0.3970 - val_accuracy: 0.8418\n",
      "Epoch 226/800\n",
      "32/32 [==============================] - 0s 2ms/step - loss: 0.3304 - accuracy: 0.8812 - val_loss: 0.3935 - val_accuracy: 0.8418\n",
      "Epoch 227/800\n",
      "32/32 [==============================] - 0s 2ms/step - loss: 0.3307 - accuracy: 0.8772 - val_loss: 0.3985 - val_accuracy: 0.8358\n",
      "Epoch 228/800\n",
      "32/32 [==============================] - 0s 4ms/step - loss: 0.3322 - accuracy: 0.8792 - val_loss: 0.3933 - val_accuracy: 0.8418\n",
      "Epoch 229/800\n",
      "32/32 [==============================] - 0s 3ms/step - loss: 0.3301 - accuracy: 0.8792 - val_loss: 0.3940 - val_accuracy: 0.8418\n",
      "Epoch 230/800\n",
      "32/32 [==============================] - 0s 2ms/step - loss: 0.3301 - accuracy: 0.8802 - val_loss: 0.3973 - val_accuracy: 0.8358\n",
      "Epoch 231/800\n",
      "32/32 [==============================] - 0s 2ms/step - loss: 0.3297 - accuracy: 0.8782 - val_loss: 0.3949 - val_accuracy: 0.8418\n",
      "Epoch 232/800\n",
      "32/32 [==============================] - 0s 2ms/step - loss: 0.3297 - accuracy: 0.8752 - val_loss: 0.3969 - val_accuracy: 0.8388\n",
      "Epoch 233/800\n",
      "32/32 [==============================] - 0s 2ms/step - loss: 0.3298 - accuracy: 0.8772 - val_loss: 0.3966 - val_accuracy: 0.8358\n",
      "Epoch 234/800\n",
      "32/32 [==============================] - 0s 3ms/step - loss: 0.3280 - accuracy: 0.8782 - val_loss: 0.3966 - val_accuracy: 0.8388\n",
      "Epoch 235/800\n",
      "32/32 [==============================] - 0s 2ms/step - loss: 0.3273 - accuracy: 0.8812 - val_loss: 0.3944 - val_accuracy: 0.8448\n",
      "Epoch 236/800\n",
      "32/32 [==============================] - 0s 2ms/step - loss: 0.3282 - accuracy: 0.8812 - val_loss: 0.3948 - val_accuracy: 0.8388\n",
      "Epoch 237/800\n",
      "32/32 [==============================] - 0s 2ms/step - loss: 0.3257 - accuracy: 0.8792 - val_loss: 0.3982 - val_accuracy: 0.8448\n",
      "Epoch 238/800\n",
      "32/32 [==============================] - 0s 3ms/step - loss: 0.3264 - accuracy: 0.8782 - val_loss: 0.3974 - val_accuracy: 0.8388\n",
      "Epoch 239/800\n",
      "32/32 [==============================] - 0s 3ms/step - loss: 0.3258 - accuracy: 0.8762 - val_loss: 0.3960 - val_accuracy: 0.8418\n",
      "Epoch 240/800\n",
      "32/32 [==============================] - 0s 2ms/step - loss: 0.3267 - accuracy: 0.8842 - val_loss: 0.3956 - val_accuracy: 0.8418\n",
      "Epoch 241/800\n",
      "32/32 [==============================] - 0s 3ms/step - loss: 0.3265 - accuracy: 0.8772 - val_loss: 0.3962 - val_accuracy: 0.8418\n",
      "Epoch 242/800\n",
      "32/32 [==============================] - 0s 2ms/step - loss: 0.3249 - accuracy: 0.8812 - val_loss: 0.3962 - val_accuracy: 0.8358\n",
      "Epoch 243/800\n",
      "32/32 [==============================] - 0s 2ms/step - loss: 0.3256 - accuracy: 0.8792 - val_loss: 0.3932 - val_accuracy: 0.8478\n",
      "Epoch 244/800\n",
      "32/32 [==============================] - 0s 2ms/step - loss: 0.3244 - accuracy: 0.8802 - val_loss: 0.3936 - val_accuracy: 0.8418\n",
      "Epoch 245/800\n",
      "32/32 [==============================] - 0s 2ms/step - loss: 0.3234 - accuracy: 0.8802 - val_loss: 0.3952 - val_accuracy: 0.8418\n",
      "Epoch 246/800\n",
      "32/32 [==============================] - 0s 2ms/step - loss: 0.3258 - accuracy: 0.8792 - val_loss: 0.3962 - val_accuracy: 0.8388\n",
      "Epoch 247/800\n",
      "32/32 [==============================] - 0s 2ms/step - loss: 0.3248 - accuracy: 0.8802 - val_loss: 0.3977 - val_accuracy: 0.8388\n",
      "Epoch 247: early stopping\n"
     ]
    },
    {
     "data": {
      "text/plain": [
       "<keras.callbacks.History at 0x1dfc46d8d30>"
      ]
     },
     "execution_count": 468,
     "metadata": {},
     "output_type": "execute_result"
    }
   ],
   "source": [
    "genre_prediction_model.fit(x=X_train, y=y_train, epochs=800, validation_data=(\n",
    "    X_test, y_test), callbacks=[early_stop])\n"
   ]
  },
  {
   "cell_type": "code",
   "execution_count": 469,
   "metadata": {},
   "outputs": [],
   "source": [
    "losses_df = pd.DataFrame(genre_prediction_model.history.history)\n"
   ]
  },
  {
   "cell_type": "code",
   "execution_count": 470,
   "metadata": {},
   "outputs": [
    {
     "data": {
      "text/plain": [
       "<AxesSubplot:>"
      ]
     },
     "execution_count": 470,
     "metadata": {},
     "output_type": "execute_result"
    },
    {
     "data": {
      "image/png": "[encoded data removed]",
      "text/plain": [
       "<Figure size 432x288 with 1 Axes>"
      ]
     },
     "metadata": {
      "needs_background": "light"
     },
     "output_type": "display_data"
    }
   ],
   "source": [
    "losses_df.plot()\n"
   ]
  },
  {
   "cell_type": "code",
   "execution_count": 471,
   "metadata": {},
   "outputs": [],
   "source": [
    "from sklearn.metrics import classification_report\n"
   ]
  },
  {
   "cell_type": "code",
   "execution_count": 472,
   "metadata": {},
   "outputs": [
    {
     "name": "stdout",
     "output_type": "stream",
     "text": [
      "11/11 [==============================] - 0s 1ms/step\n"
     ]
    }
   ],
   "source": [
    "predict_x = genre_prediction_model.predict(X_test)\n",
    "classes_x = np.argmax(predict_x, axis=1)\n"
   ]
  },
  {
   "cell_type": "code",
   "execution_count": 473,
   "metadata": {},
   "outputs": [
    {
     "name": "stdout",
     "output_type": "stream",
     "text": [
      "              precision    recall  f1-score   support\n",
      "\n",
      "           0       0.87      0.90      0.88        68\n",
      "           1       0.73      0.64      0.68        75\n",
      "           2       0.85      0.96      0.90        49\n",
      "           3       0.98      0.93      0.95        67\n",
      "           4       0.78      0.83      0.80        76\n",
      "\n",
      "    accuracy                           0.84       335\n",
      "   macro avg       0.84      0.85      0.85       335\n",
      "weighted avg       0.84      0.84      0.84       335\n",
      "\n"
     ]
    }
   ],
   "source": [
    "print(classification_report(y_test, classes_x))\n"
   ]
  },
  {
   "cell_type": "code",
   "execution_count": 474,
   "metadata": {},
   "outputs": [
    {
     "name": "stderr",
     "output_type": "stream",
     "text": [
      "A subdirectory or file saved_model already exists.\n"
     ]
    }
   ],
   "source": [
    "!mkdir saved_model\n"
   ]
  },
  {
   "cell_type": "code",
   "execution_count": 475,
   "metadata": {},
   "outputs": [
    {
     "name": "stdout",
     "output_type": "stream",
     "text": [
      "INFO:tensorflow:Assets written to: saved_model/final_model\\assets\n"
     ]
    }
   ],
   "source": [
    "genre_prediction_model.save('saved_model/final_model')\n"
   ]
  },
  {
   "cell_type": "code",
   "execution_count": 476,
   "metadata": {},
   "outputs": [],
   "source": [
    "def get_key_dict(key):\n",
    "    d = {}\n",
    "    lst = np.eye(12).tolist()[key]\n",
    "    for i in range(len(lst)):\n",
    "        d[key_map[i]] = lst[i]\n",
    "    return d\n"
   ]
  },
  {
   "cell_type": "code",
   "execution_count": 477,
   "metadata": {},
   "outputs": [],
   "source": [
    "def transform_key_dict(feat):\n",
    "    key_dict = get_key_dict(feat[\"key\"])\n",
    "    feat.update(key_dict)\n",
    "    del feat['key']\n",
    "    del feat['B']\n",
    "    return feat\n"
   ]
  },
  {
   "cell_type": "code",
   "execution_count": 479,
   "metadata": {},
   "outputs": [],
   "source": [
    "import spotipy\n",
    "import spotipy.util as util\n",
    "\n",
    "import os\n",
    "os.environ['SPOTIPY_CLIENT_ID'] = \"6051b4896eda4feca0e0e28bed145907\"\n",
    "os.environ['SPOTIPY_CLIENT_SECRET'] = \"1d7c94e540d741758cc103db6e028a96\"\n",
    "os.environ['SPOTIPY_REDIRECT_URI'] = \"https://localhost:8080\"\n",
    "\n",
    "token = util.prompt_for_user_token(\"31zahq3gf5zm3oansaxx76hufvpm\")\n",
    "\n",
    "# AUTHENTICATION\n",
    "sp = spotipy.Spotify(auth=token)\n"
   ]
  },
  {
   "cell_type": "code",
   "execution_count": null,
   "metadata": {},
   "outputs": [],
   "source": [
    "def get_features(song_url):\n",
    "    track = sp.track(song_url)\n",
    "    features = sp.audio_features([track[\"id\"]])[0]\n",
    "    track_name = track[\"name\"]\n",
    "    features.pop('type')\n",
    "    features.pop('uri')\n",
    "    features.pop('track_href')\n",
    "    features.pop('analysis_url')\n",
    "    features.pop('id')\n",
    "    features.pop('liveness')\n",
    "    features = transform_key_dict(features)\n",
    "    features['major'] = features['mode']\n",
    "    del features['mode']\n",
    "    return features\n"
   ]
  },
  {
   "cell_type": "code",
   "execution_count": 480,
   "metadata": {},
   "outputs": [],
   "source": [
    "def predict_genre(song_url, model):\n",
    "    data = pd.Series(get_features(song_url))\n",
    "    data = scaler.transform([data])\n",
    "    predict_x = model.predict(data, verbose=False)\n",
    "    classes_x = np.argmax(predict_x)\n",
    "    my_inverted_dict = dict(map(reversed, genre_map.items()))\n",
    "    return my_inverted_dict[classes_x], sp.track(song_url)['artists'][0]['name'], sp.track(song_url)['name']\n"
   ]
  }
 ],
 "metadata": {
  "kernelspec": {
   "display_name": "base",
   "language": "python",
   "name": "python3"
  },
  "language_info": {
   "codemirror_mode": {
    "name": "ipython",
    "version": 3
   },
   "file_extension": ".py",
   "mimetype": "text/x-python",
   "name": "python",
   "nbconvert_exporter": "python",
   "pygments_lexer": "ipython3",
   "version": "3.9.12"
  },
  "orig_nbformat": 4,
  "vscode": {
   "interpreter": {
    "hash": "c3b33d48af627876ac544114dd0fbe5a6124b6236eace591dad2ce23808c5c16"
   }
  }
 },
 "nbformat": 4,
 "nbformat_minor": 2
}
