{
 "cells": [
  {
   "attachments": {},
   "cell_type": "markdown",
   "metadata": {},
   "source": [
    "# Creating genres_df"
   ]
  },
  {
   "cell_type": "code",
   "execution_count": 1,
   "metadata": {},
   "outputs": [],
   "source": [
    "import pandas as pd\n",
    "import numpy as np\n",
    "import spotipy\n",
    "import spotipy.util as util\n",
    "from spotipy.oauth2 import SpotifyClientCredentials\n"
   ]
  },
  {
   "attachments": {},
   "cell_type": "markdown",
   "metadata": {},
   "source": [
    "#### Setting client environment variables to use Spotify Dev API"
   ]
  },
  {
   "cell_type": "code",
   "execution_count": 2,
   "metadata": {},
   "outputs": [],
   "source": [
    "import os\n",
    "os.environ['SPOTIPY_CLIENT_ID'] = \"6051b4896eda4feca0e0e28bed145907\"\n",
    "os.environ['SPOTIPY_CLIENT_SECRET'] = \"1d7c94e540d741758cc103db6e028a96\"\n",
    "os.environ['SPOTIPY_REDIRECT_URI'] = \"https://localhost:8080\"\n"
   ]
  },
  {
   "cell_type": "code",
   "execution_count": 3,
   "metadata": {},
   "outputs": [],
   "source": [
    "token = util.prompt_for_user_token(\"31zahq3gf5zm3oansaxx76hufvpm\")\n"
   ]
  },
  {
   "cell_type": "code",
   "execution_count": 4,
   "metadata": {},
   "outputs": [],
   "source": [
    "# AUTHENTICATION\n",
    "sp = spotipy.Spotify(auth=token)\n"
   ]
  },
  {
   "cell_type": "code",
   "execution_count": 5,
   "metadata": {},
   "outputs": [
    {
     "data": {
      "text/plain": [
       "[{'danceability': 0.514,\n",
       "  'energy': 0.73,\n",
       "  'key': 1,\n",
       "  'loudness': -5.934,\n",
       "  'mode': 1,\n",
       "  'speechiness': 0.0598,\n",
       "  'acousticness': 0.00146,\n",
       "  'instrumentalness': 9.54e-05,\n",
       "  'liveness': 0.0897,\n",
       "  'valence': 0.334,\n",
       "  'tempo': 171.005,\n",
       "  'type': 'audio_features',\n",
       "  'id': '0VjIjW4GlUZAMYd2vXMi3b',\n",
       "  'uri': 'spotify:track:0VjIjW4GlUZAMYd2vXMi3b',\n",
       "  'track_href': 'https://api.spotify.com/v1/tracks/0VjIjW4GlUZAMYd2vXMi3b',\n",
       "  'analysis_url': 'https://api.spotify.com/v1/audio-analysis/0VjIjW4GlUZAMYd2vXMi3b',\n",
       "  'duration_ms': 200040,\n",
       "  'time_signature': 4}]"
      ]
     },
     "execution_count": 5,
     "metadata": {},
     "output_type": "execute_result"
    }
   ],
   "source": [
    "# Example for audio features given by Spotify API\n",
    "sp.audio_features(\"https://open.spotify.com/track/0VjIjW4GlUZAMYd2vXMi3b?si=7589e86fc5084566\")"
   ]
  },
  {
   "cell_type": "code",
   "execution_count": 6,
   "metadata": {},
   "outputs": [],
   "source": [
    "def get_album_track_features(album_url):\n",
    "    '''computes features of all the tracks in a given album'''\n",
    "    album = sp.album(album_url)\n",
    "    artist = album[\"artists\"][0][\"name\"]\n",
    "    tracks = sp.album_tracks(album_url)\n",
    "    track_list = tracks[\"items\"]\n",
    "    id_list = []\n",
    "    for track in track_list:\n",
    "        id_list.append(track[\"id\"])\n",
    "    feature_list = sp.audio_features(id_list)\n",
    "    for i in range(len(feature_list)):\n",
    "        feature_list[i][\"track_name\"] = sp.track(feature_list[i][\"id\"])[\"name\"]\n",
    "        feature_list[i][\"artist\"] = artist\n",
    "    return feature_list\n"
   ]
  },
  {
   "cell_type": "code",
   "execution_count": 7,
   "metadata": {},
   "outputs": [],
   "source": [
    "def clean_dataframe(df):\n",
    "    '''removes unnecessary features'''\n",
    "    return df.drop([\"type\", \"id\", \"uri\", \"track_href\", \"analysis_url\"], axis=1)\n"
   ]
  },
  {
   "cell_type": "code",
   "execution_count": 8,
   "metadata": {},
   "outputs": [],
   "source": [
    "\n",
    "def extract_from_album(url):\n",
    "    '''extracts features of all tracks in the given album'''\n",
    "    return clean_dataframe(pd.DataFrame(get_album_track_features(url)))\n"
   ]
  },
  {
   "attachments": {},
   "cell_type": "markdown",
   "metadata": {},
   "source": [
    "> Genres: \n",
    ">>1. POP\n",
    ">>2. RAP\n",
    ">>3. CLASSICAL\n",
    ">>4. ROCK\n",
    ">>5. LO-FI"
   ]
  },
  {
   "attachments": {},
   "cell_type": "markdown",
   "metadata": {},
   "source": [
    "### POP"
   ]
  },
  {
   "cell_type": "code",
   "execution_count": 9,
   "metadata": {},
   "outputs": [],
   "source": [
    "# Extracting songs from albums of artists like Taylor Swift, Lady Gaga, BTS, etc.\n",
    "\n",
    "pop_df = pd.concat([\n",
    "    extract_from_album(\n",
    "        \"https://open.spotify.com/album/6rWmdSJIaGTVtdMJQ35Lvf?si=JHyCkvRrQNiXNrDCRcdLtw\"),\n",
    "    extract_from_album(\n",
    "        \"https://open.spotify.com/album/151w1FgRZfnKZA9FEcg9Z3?si=Moj2qaemTVKlmGP6DieeQA\"),\n",
    "    extract_from_album(\n",
    "        \"https://open.spotify.com/album/1yGbNOtRIgdIiGHOEBaZWf?si=_J3HG9ssQAWvz-mpJOkcuA\"),\n",
    "    extract_from_album(\n",
    "        \"https://open.spotify.com/album/2fYhqwDWXjbpjaIJPEfKFw?si=3VwXm-BSSdCUSl_zE0V-HQ\"),\n",
    "    extract_from_album(\n",
    "        \"https://open.spotify.com/album/74vajFwEwXJ61OW1DKSPEa?si=B3E-lL0jTiGldOoFYD6Yaw\"),\n",
    "    extract_from_album(\n",
    "        \"https://open.spotify.com/album/3jB9yFDwRe3KhtGnHXJntk?si=w0Vo9UjmQAmgjZAkL4V2dw\"),\n",
    "    extract_from_album(\n",
    "        \"https://open.spotify.com/album/06SY6Ke6mXzZHhURLVU57R?si=q3HddAP2SCKMzSQJPJ_rZw\"),\n",
    "    extract_from_album(\n",
    "        \"https://open.spotify.com/album/2X8UOIkZQdcz2Hi5Ynt2uk?si=0w7GJ3j2Qmm3AbuiVCS-cA\"),\n",
    "    extract_from_album(\n",
    "        \"https://open.spotify.com/album/7pomP86PUhoJpY3fsC0WDQ?si=-Kq_eLjNT8y87-C3IIFpag\"),\n",
    "    extract_from_album(\n",
    "        \"https://open.spotify.com/album/2JTn8KdFeeS4nVz4TTfUpS?si=mipBz_bIS7OAUH0ZI6wF0w\"),\n",
    "    extract_from_album(\n",
    "        \"https://open.spotify.com/album/4TqgXMSSTwP3RCo3MMSR6t?si=8MTMOTxBTHaF0trnGXGFbw\"),\n",
    "    extract_from_album(\n",
    "        \"https://open.spotify.com/album/6rePArBMb5nLWEaY9aQqL4?si=NF-r3HZiQKix_xx8zkhpMQ\"),\n",
    "    extract_from_album(\n",
    "        \"https://open.spotify.com/album/6LY3AerY6KNGOPsNPL63Kk?si=AxScfHPsTp6JnDr1Y2FMdw\"),\n",
    "    extract_from_album(\n",
    "        \"https://open.spotify.com/album/4yP0hdKOZPNshxUOjY0cZj?si=0AvKo-yBTJ2Y2T7yGKt9zw\"),\n",
    "    extract_from_album(\n",
    "        \"https://open.spotify.com/album/2ODvWsOgouMbaA5xf0RkJe?si=cvVzoS-QQDO_wNRkvgdtEA\"),\n",
    "])\n"
   ]
  },
  {
   "cell_type": "code",
   "execution_count": 10,
   "metadata": {},
   "outputs": [],
   "source": [
    "# Setting a genre column, marking all these songs as Pop\n",
    "pop_df[\"genre\"] = \"POP\"\n"
   ]
  },
  {
   "cell_type": "code",
   "execution_count": 11,
   "metadata": {},
   "outputs": [
    {
     "data": {
      "text/plain": [
       "263"
      ]
     },
     "execution_count": 11,
     "metadata": {},
     "output_type": "execute_result"
    }
   ],
   "source": [
    "# Number of pop songs extracted\n",
    "pop_df.shape[0]\n"
   ]
  },
  {
   "attachments": {},
   "cell_type": "markdown",
   "metadata": {},
   "source": [
    "### RAP"
   ]
  },
  {
   "cell_type": "code",
   "execution_count": 12,
   "metadata": {},
   "outputs": [],
   "source": [
    "# Extracting songs from albums of artists like Drake, Eminem, Kendrick Lamar, etc.\n",
    "\n",
    "rap_df = pd.concat([\n",
    "    extract_from_album(\n",
    "        \"https://open.spotify.com/album/2rLqUcipEjIKK9rma5OTN8?si=e_73kTEKQiWBjO8Pwng6rA\"),\n",
    "    extract_from_album(\n",
    "        \"https://open.spotify.com/album/39xhYyNNDatQtgKw2KdXMz?si=ryswBiMjThOCvQIYT6-dyQ\"),\n",
    "    extract_from_album(\n",
    "        \"https://open.spotify.com/album/26ztFK3E69j5THJQdyxC5w?si=HgPULiFtSH2SjxNd-vz6hQ\"),\n",
    "    extract_from_album(\n",
    "        \"https://open.spotify.com/album/3aTuW4BtsyyyyQa9LKqj8n?si=t0_RdwjhTlazUMHFKRtrYg\"),\n",
    "    extract_from_album(\n",
    "        \"https://open.spotify.com/album/3MKvhQoFSrR2PrxXXBHe9B?si=k62w5CCXQV6dFT0868xVnw\"),\n",
    "    extract_from_album(\n",
    "        \"https://open.spotify.com/album/0U6ldwLBEMkwgfQRY4V6D2?si=jNOUTyZwQHiJh7iIl0x_rg\"),\n",
    "    extract_from_album(\n",
    "        \"https://open.spotify.com/album/4eLPsYPBmXABThSJ821sqY?si=2FYdMNDwRQyllmgBI52lKQ\"),\n",
    "    extract_from_album(\n",
    "        \"https://open.spotify.com/album/79ONNoS4M9tfIA1mYLBYVX?si=_8doUSyfTGKtt_VQLzalUA\"),\n",
    "    extract_from_album(\n",
    "        \"https://open.spotify.com/album/3SpBlxme9WbeQdI9kx7KAV?si=YX_jyN46ShWbGRAToEqsWw\"),\n",
    "    extract_from_album(\n",
    "        \"https://open.spotify.com/album/5MS3MvWHJ3lOZPLiMxzOU6?si=xw66Kvk7Rca40emk8-rFwA\"),\n",
    "    extract_from_album(\n",
    "        \"https://open.spotify.com/album/1epY9c6AGBfirYxDA9exOB?si=rW6EurhtS0ySHZsFB3W_ug\"),\n",
    "    extract_from_album(\n",
    "        \"https://open.spotify.com/album/4JAvwK4APPArjIsOdGoJXX?si=rGVCQ3C1QHSBFOWanaeY7w\"),\n",
    "    extract_from_album(\n",
    "        \"https://open.spotify.com/album/4Wv5UAieM1LDEYVq5WmqDd?si=tWLOIbSlRDaOn95kqb0tZQ\"),\n",
    "    extract_from_album(\n",
    "        \"https://open.spotify.com/album/41GuZcammIkupMPKH2OJ6I?si=Shg1KihGTB2hLGR_IWXbpA\"),\n",
    "    extract_from_album(\n",
    "        \"https://open.spotify.com/album/42WVQWuf1teDysXiOupIZt?si=KJzZKHojRGimvyiAMpfxtA\"),\n",
    "])\n"
   ]
  },
  {
   "cell_type": "code",
   "execution_count": 13,
   "metadata": {},
   "outputs": [],
   "source": [
    "# Setting the genre column, marking all these songs as Rap\n",
    "rap_df[\"genre\"] = \"RAP\"\n"
   ]
  },
  {
   "cell_type": "code",
   "execution_count": 14,
   "metadata": {},
   "outputs": [
    {
     "data": {
      "text/plain": [
       "310"
      ]
     },
     "execution_count": 14,
     "metadata": {},
     "output_type": "execute_result"
    }
   ],
   "source": [
    "# Number of rap songs extracted\n",
    "rap_df.shape[0]\n"
   ]
  },
  {
   "attachments": {},
   "cell_type": "markdown",
   "metadata": {},
   "source": [
    "### CLASSICAL"
   ]
  },
  {
   "cell_type": "code",
   "execution_count": 15,
   "metadata": {},
   "outputs": [],
   "source": [
    "# Extracting songs from albums of artists like Beethoven, Mozart, Bach, etc.\n",
    "\n",
    "classical_df = pd.concat([\n",
    "    extract_from_album(\n",
    "        \"https://open.spotify.com/album/7i48AP6XdHz4RVvWg1liMw?si=PvYU1svrQVi3enLK9hY8dA\"),\n",
    "    extract_from_album(\n",
    "        \"https://open.spotify.com/album/4JPDEqeaiXpxOFC5T071jF?si=Vmuw8Y52RTy2AzPEit84Xw\"),\n",
    "    extract_from_album(\n",
    "        \"https://open.spotify.com/album/1JaRlop7F6oMMCjCqmmEHm?si=dZwVVbxmRXq9yuI0QBf4cw\"),\n",
    "    extract_from_album(\n",
    "        \"https://open.spotify.com/album/6mwd9lous9aGi5unVn4uLy?si=eNKX0nlBQw2A6vVOvnJc1w\"),\n",
    "    extract_from_album(\n",
    "        \"https://open.spotify.com/album/62BhnZaxCiFKSFoJ7YhqQM?si=FG-f08YmTWuZIQtRAzjTeQ\"),\n",
    "    extract_from_album(\n",
    "        \"https://open.spotify.com/album/5GaJZ4fUy8qYNz0Nbhkc5O?si=ImnFM1EOQEKvWtlY5KLA4A\")\n",
    "])\n"
   ]
  },
  {
   "cell_type": "code",
   "execution_count": 16,
   "metadata": {},
   "outputs": [],
   "source": [
    "# Setting the genre column, marking all these songs as Rap\n",
    "\n",
    "classical_df[\"genre\"] = \"CLASSICAL\"\n"
   ]
  },
  {
   "cell_type": "code",
   "execution_count": 17,
   "metadata": {},
   "outputs": [
    {
     "data": {
      "text/plain": [
       "253"
      ]
     },
     "execution_count": 17,
     "metadata": {},
     "output_type": "execute_result"
    }
   ],
   "source": [
    "# Number of classical songs extracted\n",
    "\n",
    "classical_df.shape[0]\n"
   ]
  },
  {
   "cell_type": "code",
   "execution_count": 18,
   "metadata": {},
   "outputs": [],
   "source": [
    "def artist_tracks_df(id):\n",
    "    '''retrieving all the tracks from a particular artist'''\n",
    "    albums = sp.artist_albums(id)[\"items\"]\n",
    "    df = extract_from_album(albums[0][\"id\"])\n",
    "    for i in range(1, len(albums)):\n",
    "        df = pd.concat([df, extract_from_album(albums[i][\"id\"])])\n",
    "    return df\n"
   ]
  },
  {
   "attachments": {},
   "cell_type": "markdown",
   "metadata": {},
   "source": [
    "### ROCK"
   ]
  },
  {
   "cell_type": "code",
   "execution_count": 19,
   "metadata": {},
   "outputs": [],
   "source": [
    "# extracting all tracks from the artist 'AC/DC'\n",
    "\n",
    "rock_df = artist_tracks_df(\n",
    "    \"https://open.spotify.com/artist/711MCceyCBcFnzjGY4Q7Un?si=xJJJuInPTm6slnYF1S7iSw\")\n"
   ]
  },
  {
   "cell_type": "code",
   "execution_count": 20,
   "metadata": {},
   "outputs": [],
   "source": [
    "# adding few other rock albums\n",
    "\n",
    "rock_df = pd.concat([rock_df,\n",
    "                     extract_from_album(\n",
    "                         \"https://open.spotify.com/album/6i6folBtxKV28WX3msQ4FE?si=gkDFryXOSj-C8tnQlqaJWg\"),\n",
    "                     extract_from_album(\"https://open.spotify.com/album/4vQ96yyyYbaeTQujH3iTtd?si=hdpFocTQTS-Olgc5WPBN6g\")])\n"
   ]
  },
  {
   "cell_type": "code",
   "execution_count": 21,
   "metadata": {},
   "outputs": [],
   "source": [
    "# Setting the genre column, marking all these songs as rock\n",
    "\n",
    "rock_df[\"genre\"] = \"ROCK\"\n"
   ]
  },
  {
   "cell_type": "code",
   "execution_count": 22,
   "metadata": {},
   "outputs": [
    {
     "data": {
      "text/plain": [
       "269"
      ]
     },
     "execution_count": 22,
     "metadata": {},
     "output_type": "execute_result"
    }
   ],
   "source": [
    "# Number of ROCK songs extracted\n",
    "\n",
    "rock_df.shape[0]\n"
   ]
  },
  {
   "attachments": {},
   "cell_type": "markdown",
   "metadata": {},
   "source": [
    "### LOFI"
   ]
  },
  {
   "cell_type": "code",
   "execution_count": 23,
   "metadata": {},
   "outputs": [],
   "source": [
    "def playlist_tracks_df(url):\n",
    "    '''extracting song features from a playlist'''\n",
    "    tracks = sp.playlist_tracks(url)\n",
    "    id_list = [track[\"track\"][\"id\"] for track in tracks[\"items\"]]\n",
    "    feature_list = sp.audio_features(id_list)\n",
    "    for i in range(len(feature_list)):\n",
    "        feature_list[i][\"track_name\"] = sp.track(feature_list[i][\"id\"])[\"name\"]\n",
    "        feature_list[i][\"artist\"] = sp.track(feature_list[i][\"id\"])[\n",
    "            \"artists\"][0][\"name\"]\n",
    "    return pd.DataFrame(feature_list).drop([\"type\", \"id\", \"uri\", \"track_href\", \"analysis_url\"], axis=1)\n"
   ]
  },
  {
   "cell_type": "code",
   "execution_count": 24,
   "metadata": {},
   "outputs": [],
   "source": [
    "# adding songs from a lofi playlist\n",
    "\n",
    "lofi_df = playlist_tracks_df(\n",
    "    \"https://open.spotify.com/playlist/3c8ldkG5SDSxFa63dqxGaG?si=7ce4ea3d60c74113\")\n"
   ]
  },
  {
   "cell_type": "code",
   "execution_count": 25,
   "metadata": {},
   "outputs": [],
   "source": [
    "lofi_df = pd.concat([lofi_df,\n",
    "                     playlist_tracks_df(\n",
    "                         \"https://open.spotify.com/playlist/37i9dQZF1E4zBNcvdDKzDT?si=7b1fc3edd3f047b9\"),\n",
    "                     playlist_tracks_df(\n",
    "                         \"https://open.spotify.com/playlist/37i9dQZF1DZ06evO4sQrwQ?si=2b9ef96c11a34616\"),\n",
    "                     extract_from_album(\n",
    "                         \"https://open.spotify.com/album/1rgkVX1LxjfqfHcmfVmAjO?si=o0TAKeFbQfuvHTyR0dCsLA\"),\n",
    "                     extract_from_album(\"https://open.spotify.com/album/5md42pMwna0deA7qlQdJ2U?si=WCLtT-DLRZmjhAQNi1akXw\")])\n"
   ]
  },
  {
   "cell_type": "code",
   "execution_count": 26,
   "metadata": {},
   "outputs": [],
   "source": [
    "# Setting the genre column, marking all these songs as lofi\n",
    "\n",
    "lofi_df[\"genre\"] = \"LOFI\"\n"
   ]
  },
  {
   "cell_type": "code",
   "execution_count": 27,
   "metadata": {},
   "outputs": [
    {
     "data": {
      "text/plain": [
       "243"
      ]
     },
     "execution_count": 27,
     "metadata": {},
     "output_type": "execute_result"
    }
   ],
   "source": [
    "# Number of LOFI songs extracted\n",
    "\n",
    "lofi_df.shape[0]\n"
   ]
  },
  {
   "attachments": {},
   "cell_type": "markdown",
   "metadata": {},
   "source": [
    "### Creating the final dataframe:"
   ]
  },
  {
   "cell_type": "code",
   "execution_count": 28,
   "metadata": {},
   "outputs": [],
   "source": [
    "genre_df = pd.concat([pop_df, rap_df, classical_df, lofi_df, rock_df])\n"
   ]
  },
  {
   "cell_type": "code",
   "execution_count": 29,
   "metadata": {},
   "outputs": [
    {
     "data": {
      "text/plain": [
       "1338"
      ]
     },
     "execution_count": 29,
     "metadata": {},
     "output_type": "execute_result"
    }
   ],
   "source": [
    "genre_df.shape[0]\n"
   ]
  },
  {
   "cell_type": "code",
   "execution_count": 30,
   "metadata": {},
   "outputs": [],
   "source": [
    "genre_df.to_csv(\"genre_df.csv\", sep=\"\\t\")\n"
   ]
  }
 ],
 "metadata": {
  "kernelspec": {
   "display_name": "base",
   "language": "python",
   "name": "python3"
  },
  "language_info": {
   "codemirror_mode": {
    "name": "ipython",
    "version": 3
   },
   "file_extension": ".py",
   "mimetype": "text/x-python",
   "name": "python",
   "nbconvert_exporter": "python",
   "pygments_lexer": "ipython3",
   "version": "3.10.9"
  },
  "orig_nbformat": 4,
  "vscode": {
   "interpreter": {
    "hash": "c3b33d48af627876ac544114dd0fbe5a6124b6236eace591dad2ce23808c5c16"
   }
  }
 },
 "nbformat": 4,
 "nbformat_minor": 2
}
